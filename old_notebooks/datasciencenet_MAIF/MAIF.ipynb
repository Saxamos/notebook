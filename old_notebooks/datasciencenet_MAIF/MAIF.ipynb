{
 "cells": [
  {
   "cell_type": "markdown",
   "metadata": {},
   "source": [
    "# Import des données"
   ]
  },
  {
   "cell_type": "code",
   "execution_count": 1,
   "metadata": {},
   "outputs": [],
   "source": [
    "import pandas as pd\n",
    "import numpy as np\n",
    "from sklearn.preprocessing import LabelEncoder\n",
    "from sklearn.cross_validation import KFold\n",
    "from sklearn.ensemble import RandomForestRegressor\n",
    "import xgboost as xgb\n",
    "import matplotlib.pyplot as plt\n",
    "import seaborn as sns\n",
    "%matplotlib inline "
   ]
  },
  {
   "cell_type": "code",
   "execution_count": 2,
   "metadata": {},
   "outputs": [],
   "source": [
    "train = pd.read_csv('../DSnet_MAIF/ech_apprentissage.csv',encoding='utf-8',sep=';',low_memory=False)\n",
    "test = pd.read_csv('../DSnet_MAIF/ech_test.csv',encoding='utf-8',sep=';')"
   ]
  },
  {
   "cell_type": "code",
   "execution_count": 3,
   "metadata": {},
   "outputs": [
    {
     "data": {
      "text/html": [
       "<div>\n",
       "<table border=\"1\" class=\"dataframe\">\n",
       "  <thead>\n",
       "    <tr style=\"text-align: right;\">\n",
       "      <th></th>\n",
       "      <th>id</th>\n",
       "      <th>annee_naissance</th>\n",
       "      <th>annee_permis</th>\n",
       "      <th>marque</th>\n",
       "      <th>puis_fiscale</th>\n",
       "      <th>anc_veh</th>\n",
       "      <th>codepostal</th>\n",
       "      <th>energie_veh</th>\n",
       "      <th>kmage_annuel</th>\n",
       "      <th>crm</th>\n",
       "      <th>profession</th>\n",
       "      <th>var1</th>\n",
       "      <th>var2</th>\n",
       "      <th>var3</th>\n",
       "      <th>var4</th>\n",
       "      <th>var5</th>\n",
       "      <th>var6</th>\n",
       "      <th>var7</th>\n",
       "      <th>var8</th>\n",
       "      <th>var9</th>\n",
       "      <th>var10</th>\n",
       "      <th>var11</th>\n",
       "      <th>var12</th>\n",
       "      <th>var13</th>\n",
       "      <th>var14</th>\n",
       "      <th>var15</th>\n",
       "      <th>var16</th>\n",
       "      <th>var17</th>\n",
       "      <th>var18</th>\n",
       "      <th>var19</th>\n",
       "      <th>var20</th>\n",
       "      <th>var21</th>\n",
       "      <th>var22</th>\n",
       "      <th>prime_tot_ttc</th>\n",
       "    </tr>\n",
       "  </thead>\n",
       "  <tbody>\n",
       "    <tr>\n",
       "      <th>0</th>\n",
       "      <td>1</td>\n",
       "      <td>1986.0</td>\n",
       "      <td>2006.0</td>\n",
       "      <td>RENAULT</td>\n",
       "      <td>4</td>\n",
       "      <td>1</td>\n",
       "      <td>1034</td>\n",
       "      <td>gpl</td>\n",
       "      <td>2924</td>\n",
       "      <td>68</td>\n",
       "      <td>enseignant, formateur, chercheur</td>\n",
       "      <td>10.0</td>\n",
       "      <td>1</td>\n",
       "      <td>372</td>\n",
       "      <td>0</td>\n",
       "      <td>1</td>\n",
       "      <td>A</td>\n",
       "      <td>1</td>\n",
       "      <td>B1</td>\n",
       "      <td>60</td>\n",
       "      <td>155</td>\n",
       "      <td>1</td>\n",
       "      <td>855</td>\n",
       "      <td>3</td>\n",
       "      <td>N</td>\n",
       "      <td>1</td>\n",
       "      <td>1</td>\n",
       "      <td>1</td>\n",
       "      <td>27</td>\n",
       "      <td>0</td>\n",
       "      <td>0</td>\n",
       "      <td>0</td>\n",
       "      <td>1</td>\n",
       "      <td>254.75</td>\n",
       "    </tr>\n",
       "    <tr>\n",
       "      <th>1</th>\n",
       "      <td>2</td>\n",
       "      <td>1986.0</td>\n",
       "      <td>2006.0</td>\n",
       "      <td>RENAULT</td>\n",
       "      <td>8</td>\n",
       "      <td>2</td>\n",
       "      <td>1034</td>\n",
       "      <td>gpl</td>\n",
       "      <td>11580</td>\n",
       "      <td>50</td>\n",
       "      <td>enseignant, formateur, chercheur</td>\n",
       "      <td>10.0</td>\n",
       "      <td>1</td>\n",
       "      <td>372</td>\n",
       "      <td>0</td>\n",
       "      <td>1</td>\n",
       "      <td>B</td>\n",
       "      <td>7</td>\n",
       "      <td>H1</td>\n",
       "      <td>115</td>\n",
       "      <td>175</td>\n",
       "      <td>2</td>\n",
       "      <td>1490</td>\n",
       "      <td>5</td>\n",
       "      <td>N</td>\n",
       "      <td>2</td>\n",
       "      <td>1</td>\n",
       "      <td>1</td>\n",
       "      <td>28</td>\n",
       "      <td>0</td>\n",
       "      <td>0</td>\n",
       "      <td>0</td>\n",
       "      <td>1</td>\n",
       "      <td>259.89</td>\n",
       "    </tr>\n",
       "    <tr>\n",
       "      <th>2</th>\n",
       "      <td>3</td>\n",
       "      <td>1982.0</td>\n",
       "      <td>2001.0</td>\n",
       "      <td>RENAULT</td>\n",
       "      <td>7</td>\n",
       "      <td>2</td>\n",
       "      <td>1034</td>\n",
       "      <td>gpl</td>\n",
       "      <td>7149</td>\n",
       "      <td>95</td>\n",
       "      <td>enseignant, formateur, chercheur</td>\n",
       "      <td>15.0</td>\n",
       "      <td>2</td>\n",
       "      <td>372</td>\n",
       "      <td>0</td>\n",
       "      <td>2</td>\n",
       "      <td>C</td>\n",
       "      <td>10</td>\n",
       "      <td>M1</td>\n",
       "      <td>90</td>\n",
       "      <td>170</td>\n",
       "      <td>2</td>\n",
       "      <td>1278</td>\n",
       "      <td>5</td>\n",
       "      <td>N</td>\n",
       "      <td>3</td>\n",
       "      <td>1</td>\n",
       "      <td>1</td>\n",
       "      <td>29</td>\n",
       "      <td>0</td>\n",
       "      <td>0</td>\n",
       "      <td>0</td>\n",
       "      <td>1</td>\n",
       "      <td>431.65</td>\n",
       "    </tr>\n",
       "  </tbody>\n",
       "</table>\n",
       "</div>"
      ],
      "text/plain": [
       "   id  annee_naissance  annee_permis   marque  puis_fiscale  anc_veh  \\\n",
       "0   1           1986.0        2006.0  RENAULT             4        1   \n",
       "1   2           1986.0        2006.0  RENAULT             8        2   \n",
       "2   3           1982.0        2001.0  RENAULT             7        2   \n",
       "\n",
       "  codepostal energie_veh  kmage_annuel  crm                        profession  \\\n",
       "0       1034         gpl          2924   68  enseignant, formateur, chercheur   \n",
       "1       1034         gpl         11580   50  enseignant, formateur, chercheur   \n",
       "2       1034         gpl          7149   95  enseignant, formateur, chercheur   \n",
       "\n",
       "   var1  var2  var3  var4  var5 var6 var7 var8  var9  var10  var11  var12  \\\n",
       "0  10.0     1   372     0     1    A    1   B1    60    155      1    855   \n",
       "1  10.0     1   372     0     1    B    7   H1   115    175      2   1490   \n",
       "2  15.0     2   372     0     2    C   10   M1    90    170      2   1278   \n",
       "\n",
       "   var13 var14  var15 var16  var17  var18  var19  var20  var21  var22  \\\n",
       "0      3     N      1     1      1     27      0      0      0      1   \n",
       "1      5     N      2     1      1     28      0      0      0      1   \n",
       "2      5     N      3     1      1     29      0      0      0      1   \n",
       "\n",
       "   prime_tot_ttc  \n",
       "0         254.75  \n",
       "1         259.89  \n",
       "2         431.65  "
      ]
     },
     "execution_count": 3,
     "metadata": {},
     "output_type": "execute_result"
    }
   ],
   "source": [
    "pd.set_option(\"display.max_columns\", 9999) # permet de voir toutes les colonnes\n",
    "pd.set_option(\"display.max_rows\", 200) # permet de voir toutes les colonnes\n",
    "train.head(3)"
   ]
  },
  {
   "cell_type": "markdown",
   "metadata": {},
   "source": [
    "# Analyse descriptive"
   ]
  },
  {
   "cell_type": "markdown",
   "metadata": {},
   "source": [
    "### Distribution des donnees"
   ]
  },
  {
   "cell_type": "code",
   "execution_count": 4,
   "metadata": {},
   "outputs": [
    {
     "data": {
      "text/plain": [
       "<matplotlib.axes._subplots.AxesSubplot at 0x11a3fe390>"
      ]
     },
     "execution_count": 4,
     "metadata": {},
     "output_type": "execute_result"
    },
    {
     "data": {
      "image/png": "[encoded data removed]",
      "text/plain": [
       "<matplotlib.figure.Figure at 0x11a3ed610>"
      ]
     },
     "metadata": {},
     "output_type": "display_data"
    }
   ],
   "source": [
    "# Distribution des prix\n",
    "train['prime_tot_ttc'].hist(bins=40)"
   ]
  },
  {
   "cell_type": "code",
   "execution_count": 5,
   "metadata": {},
   "outputs": [
    {
     "data": {
      "text/plain": [
       "<matplotlib.axes._subplots.AxesSubplot at 0x10639cb10>"
      ]
     },
     "execution_count": 5,
     "metadata": {},
     "output_type": "execute_result"
    },
    {
     "data": {
      "image/png": "[encoded data removed]",
      "text/plain": [
       "<matplotlib.figure.Figure at 0x1055ec950>"
      ]
     },
     "metadata": {},
     "output_type": "display_data"
    }
   ],
   "source": [
    "# Distribution du log des prix\n",
    "# On prend le log des prix car sa distribution est plus proche d'une gaussienne\n",
    "train['logprime'] = train['prime_tot_ttc'].apply(np.log)\n",
    "train['logprime'].hist(bins=40)"
   ]
  },
  {
   "cell_type": "code",
   "execution_count": 6,
   "metadata": {},
   "outputs": [
    {
     "data": {
      "text/plain": [
       "<matplotlib.axes._subplots.AxesSubplot at 0x11ad3bc50>"
      ]
     },
     "execution_count": 6,
     "metadata": {},
     "output_type": "execute_result"
    },
    {
     "data": {
      "image/png": "[encoded data removed]",
      "text/plain": [
       "<matplotlib.figure.Figure at 0x11a798250>"
      ]
     },
     "metadata": {},
     "output_type": "display_data"
    }
   ],
   "source": [
    "# Influence sur les prix de la feature \"...\" : On voit que NR est plus bas\n",
    "sns.violinplot(y=\"logprime\", x=\"energie_veh\", data=train)"
   ]
  },
  {
   "cell_type": "code",
   "execution_count": 61,
   "metadata": {},
   "outputs": [
    {
     "data": {
      "text/plain": [
       "<matplotlib.collections.PathCollection at 0x22da3ab10>"
      ]
     },
     "execution_count": 61,
     "metadata": {},
     "output_type": "execute_result"
    },
    {
     "data": {
      "image/png": "[encoded data removed]",
      "text/plain": [
       "<matplotlib.figure.Figure at 0x22d9dc5d0>"
      ]
     },
     "metadata": {},
     "output_type": "display_data"
    }
   ],
   "source": [
    "plt.scatter(train.logprime, train['kmage_annuel'])"
   ]
  },
  {
   "cell_type": "code",
   "execution_count": 60,
   "metadata": {},
   "outputs": [
    {
     "name": "stdout",
     "output_type": "stream",
     "text": [
      "ERROR! Session/line number was not unique in database. History logging moved to new session 99\n"
     ]
    },
    {
     "data": {
      "text/plain": [
       "<matplotlib.collections.PathCollection at 0x22d9bb910>"
      ]
     },
     "execution_count": 60,
     "metadata": {},
     "output_type": "execute_result"
    },
    {
     "data": {
      "image/png": "[encoded data removed]",
      "text/plain": [
       "<matplotlib.figure.Figure at 0x22d939150>"
      ]
     },
     "metadata": {},
     "output_type": "display_data"
    }
   ],
   "source": [
    "plt.scatter(train.logprime, train['var12'])"
   ]
  },
  {
   "cell_type": "code",
   "execution_count": 50,
   "metadata": {},
   "outputs": [
    {
     "data": {
      "text/plain": [
       "<matplotlib.axes._subplots.AxesSubplot at 0x187498c90>"
      ]
     },
     "execution_count": 50,
     "metadata": {},
     "output_type": "execute_result"
    },
    {
     "data": {
      "image/png": "[encoded data removed]",
      "text/plain": [
       "<matplotlib.figure.Figure at 0x187498550>"
      ]
     },
     "metadata": {},
     "output_type": "display_data"
    }
   ],
   "source": [
    "# Influence sur les prix de la feature \"...\"\n",
    "plt.figure(figsize=[10,7])\n",
    "sns.boxplot(y=\"logprime\", x=\"crm\", data=train)"
   ]
  },
  {
   "cell_type": "code",
   "execution_count": 55,
   "metadata": {},
   "outputs": [
    {
     "data": {
      "text/plain": [
       "<matplotlib.collections.PathCollection at 0x185bf9f10>"
      ]
     },
     "execution_count": 55,
     "metadata": {},
     "output_type": "execute_result"
    },
    {
     "data": {
      "image/png": "[encoded data removed]",
      "text/plain": [
       "<matplotlib.figure.Figure at 0x18742a950>"
      ]
     },
     "metadata": {},
     "output_type": "display_data"
    }
   ],
   "source": [
    "plt.scatter(train.logprime, train['crm'].apply(np.log))"
   ]
  },
  {
   "cell_type": "code",
   "execution_count": 7,
   "metadata": {},
   "outputs": [
    {
     "data": {
      "text/plain": [
       "<matplotlib.axes._subplots.AxesSubplot at 0x11aa53390>"
      ]
     },
     "execution_count": 7,
     "metadata": {},
     "output_type": "execute_result"
    },
    {
     "data": {
      "image/png": "[encoded data removed]",
      "text/plain": [
       "<matplotlib.figure.Figure at 0x11ab1fe90>"
      ]
     },
     "metadata": {},
     "output_type": "display_data"
    }
   ],
   "source": [
    "# Influence sur les prix de la feature \"...\"\n",
    "plt.figure(figsize=[10,7])\n",
    "sns.boxplot(y=\"logprime\", x=\"energie_veh\", data=train)"
   ]
  },
  {
   "cell_type": "code",
   "execution_count": 102,
   "metadata": {},
   "outputs": [
    {
     "data": {
      "text/plain": [
       "<matplotlib.axes._subplots.AxesSubplot at 0x176827510>"
      ]
     },
     "execution_count": 102,
     "metadata": {},
     "output_type": "execute_result"
    },
    {
     "data": {
      "image/png": "[encoded data removed]",
      "text/plain": [
       "<matplotlib.figure.Figure at 0x17789b310>"
      ]
     },
     "metadata": {},
     "output_type": "display_data"
    }
   ],
   "source": [
    "# Influence sur les prix de la feature \"...\"\n",
    "plt.figure(figsize=[10,7])\n",
    "sns.boxplot(y=\"logprime\", x=\"var6\", data=train)"
   ]
  },
  {
   "cell_type": "markdown",
   "metadata": {},
   "source": [
    "# Preparation des donnees"
   ]
  },
  {
   "cell_type": "code",
   "execution_count": 62,
   "metadata": {},
   "outputs": [
    {
     "data": {
      "text/html": [
       "<div>\n",
       "<table border=\"1\" class=\"dataframe\">\n",
       "  <thead>\n",
       "    <tr style=\"text-align: right;\">\n",
       "      <th></th>\n",
       "      <th>anc_veh</th>\n",
       "      <th>annee_naissance</th>\n",
       "      <th>annee_permis</th>\n",
       "      <th>codepostal</th>\n",
       "      <th>crm</th>\n",
       "      <th>energie_veh</th>\n",
       "      <th>id</th>\n",
       "      <th>kmage_annuel</th>\n",
       "      <th>logprime</th>\n",
       "      <th>marque</th>\n",
       "      <th>prime_tot_ttc</th>\n",
       "      <th>profession</th>\n",
       "      <th>puis_fiscale</th>\n",
       "      <th>var1</th>\n",
       "      <th>var10</th>\n",
       "      <th>var11</th>\n",
       "      <th>var12</th>\n",
       "      <th>var13</th>\n",
       "      <th>var14</th>\n",
       "      <th>var15</th>\n",
       "      <th>var16</th>\n",
       "      <th>var17</th>\n",
       "      <th>var18</th>\n",
       "      <th>var19</th>\n",
       "      <th>var2</th>\n",
       "      <th>var20</th>\n",
       "      <th>var21</th>\n",
       "      <th>var22</th>\n",
       "      <th>var3</th>\n",
       "      <th>var4</th>\n",
       "      <th>var5</th>\n",
       "      <th>var6</th>\n",
       "      <th>var7</th>\n",
       "      <th>var8</th>\n",
       "      <th>var9</th>\n",
       "    </tr>\n",
       "  </thead>\n",
       "  <tbody>\n",
       "    <tr>\n",
       "      <th>29995</th>\n",
       "      <td>33</td>\n",
       "      <td>1978.0</td>\n",
       "      <td>1998.0</td>\n",
       "      <td>97414</td>\n",
       "      <td>50</td>\n",
       "      <td>gazole</td>\n",
       "      <td>329996</td>\n",
       "      <td>7563</td>\n",
       "      <td>NaN</td>\n",
       "      <td>MERCEDES</td>\n",
       "      <td>NaN</td>\n",
       "      <td>artisan</td>\n",
       "      <td>8</td>\n",
       "      <td>18.0</td>\n",
       "      <td>220</td>\n",
       "      <td>33</td>\n",
       "      <td>1430</td>\n",
       "      <td>2</td>\n",
       "      <td>N</td>\n",
       "      <td>0</td>\n",
       "      <td>4</td>\n",
       "      <td>1</td>\n",
       "      <td>18</td>\n",
       "      <td>0</td>\n",
       "      <td>2</td>\n",
       "      <td>0</td>\n",
       "      <td>0</td>\n",
       "      <td>1</td>\n",
       "      <td>272</td>\n",
       "      <td>1</td>\n",
       "      <td>1</td>\n",
       "      <td>B</td>\n",
       "      <td>5</td>\n",
       "      <td>M2</td>\n",
       "      <td>143</td>\n",
       "    </tr>\n",
       "    <tr>\n",
       "      <th>29996</th>\n",
       "      <td>38</td>\n",
       "      <td>1987.0</td>\n",
       "      <td>2006.0</td>\n",
       "      <td>97411</td>\n",
       "      <td>50</td>\n",
       "      <td>gazole</td>\n",
       "      <td>329997</td>\n",
       "      <td>7224</td>\n",
       "      <td>NaN</td>\n",
       "      <td>ALFA ROMEO</td>\n",
       "      <td>NaN</td>\n",
       "      <td>agent, employe</td>\n",
       "      <td>8</td>\n",
       "      <td>10.0</td>\n",
       "      <td>209</td>\n",
       "      <td>38</td>\n",
       "      <td>1305</td>\n",
       "      <td>4</td>\n",
       "      <td>N</td>\n",
       "      <td>1</td>\n",
       "      <td>4</td>\n",
       "      <td>1</td>\n",
       "      <td>19</td>\n",
       "      <td>0</td>\n",
       "      <td>2</td>\n",
       "      <td>0</td>\n",
       "      <td>0</td>\n",
       "      <td>1</td>\n",
       "      <td>272</td>\n",
       "      <td>2</td>\n",
       "      <td>1</td>\n",
       "      <td>A</td>\n",
       "      <td>1</td>\n",
       "      <td>M2</td>\n",
       "      <td>140</td>\n",
       "    </tr>\n",
       "    <tr>\n",
       "      <th>29997</th>\n",
       "      <td>13</td>\n",
       "      <td>1991.0</td>\n",
       "      <td>2010.0</td>\n",
       "      <td>97411</td>\n",
       "      <td>100</td>\n",
       "      <td>gazole</td>\n",
       "      <td>329998</td>\n",
       "      <td>6511</td>\n",
       "      <td>NaN</td>\n",
       "      <td>PEUGEOT</td>\n",
       "      <td>NaN</td>\n",
       "      <td>agent, employe</td>\n",
       "      <td>5</td>\n",
       "      <td>6.0</td>\n",
       "      <td>163</td>\n",
       "      <td>13</td>\n",
       "      <td>1060</td>\n",
       "      <td>3</td>\n",
       "      <td>N</td>\n",
       "      <td>0</td>\n",
       "      <td>3</td>\n",
       "      <td>1</td>\n",
       "      <td>8</td>\n",
       "      <td>0</td>\n",
       "      <td>5</td>\n",
       "      <td>1</td>\n",
       "      <td>1</td>\n",
       "      <td>1</td>\n",
       "      <td>372</td>\n",
       "      <td>3</td>\n",
       "      <td>2</td>\n",
       "      <td>B</td>\n",
       "      <td>1</td>\n",
       "      <td>B2</td>\n",
       "      <td>70</td>\n",
       "    </tr>\n",
       "    <tr>\n",
       "      <th>29998</th>\n",
       "      <td>1</td>\n",
       "      <td>1972.0</td>\n",
       "      <td>1991.0</td>\n",
       "      <td>97411</td>\n",
       "      <td>64</td>\n",
       "      <td>essence</td>\n",
       "      <td>329999</td>\n",
       "      <td>6308</td>\n",
       "      <td>NaN</td>\n",
       "      <td>MITSUBISHI</td>\n",
       "      <td>NaN</td>\n",
       "      <td>enseignant, formateur, chercheur</td>\n",
       "      <td>6</td>\n",
       "      <td>25.0</td>\n",
       "      <td>0</td>\n",
       "      <td>1</td>\n",
       "      <td>995</td>\n",
       "      <td>4</td>\n",
       "      <td>N</td>\n",
       "      <td>1</td>\n",
       "      <td>1</td>\n",
       "      <td>1</td>\n",
       "      <td>8</td>\n",
       "      <td>0</td>\n",
       "      <td>5</td>\n",
       "      <td>1</td>\n",
       "      <td>1</td>\n",
       "      <td>1</td>\n",
       "      <td>372</td>\n",
       "      <td>2</td>\n",
       "      <td>1</td>\n",
       "      <td>A</td>\n",
       "      <td>1</td>\n",
       "      <td>M1</td>\n",
       "      <td>75</td>\n",
       "    </tr>\n",
       "    <tr>\n",
       "      <th>29999</th>\n",
       "      <td>13</td>\n",
       "      <td>1984.0</td>\n",
       "      <td>2003.0</td>\n",
       "      <td>97411</td>\n",
       "      <td>100</td>\n",
       "      <td>essence</td>\n",
       "      <td>330000</td>\n",
       "      <td>3008</td>\n",
       "      <td>NaN</td>\n",
       "      <td>OPEL</td>\n",
       "      <td>NaN</td>\n",
       "      <td>agent, employe</td>\n",
       "      <td>4</td>\n",
       "      <td>13.0</td>\n",
       "      <td>155</td>\n",
       "      <td>13</td>\n",
       "      <td>905</td>\n",
       "      <td>3</td>\n",
       "      <td>N</td>\n",
       "      <td>0</td>\n",
       "      <td>3</td>\n",
       "      <td>1</td>\n",
       "      <td>9</td>\n",
       "      <td>0</td>\n",
       "      <td>2</td>\n",
       "      <td>1</td>\n",
       "      <td>1</td>\n",
       "      <td>1</td>\n",
       "      <td>372</td>\n",
       "      <td>0</td>\n",
       "      <td>2</td>\n",
       "      <td>A</td>\n",
       "      <td>1</td>\n",
       "      <td>B2</td>\n",
       "      <td>58</td>\n",
       "    </tr>\n",
       "  </tbody>\n",
       "</table>\n",
       "</div>"
      ],
      "text/plain": [
       "       anc_veh  annee_naissance  annee_permis codepostal  crm energie_veh  \\\n",
       "29995       33           1978.0        1998.0      97414   50      gazole   \n",
       "29996       38           1987.0        2006.0      97411   50      gazole   \n",
       "29997       13           1991.0        2010.0      97411  100      gazole   \n",
       "29998        1           1972.0        1991.0      97411   64     essence   \n",
       "29999       13           1984.0        2003.0      97411  100     essence   \n",
       "\n",
       "           id  kmage_annuel  logprime      marque  prime_tot_ttc  \\\n",
       "29995  329996          7563       NaN    MERCEDES            NaN   \n",
       "29996  329997          7224       NaN  ALFA ROMEO            NaN   \n",
       "29997  329998          6511       NaN     PEUGEOT            NaN   \n",
       "29998  329999          6308       NaN  MITSUBISHI            NaN   \n",
       "29999  330000          3008       NaN        OPEL            NaN   \n",
       "\n",
       "                             profession  puis_fiscale  var1  var10  var11  \\\n",
       "29995                           artisan             8  18.0    220     33   \n",
       "29996                    agent, employe             8  10.0    209     38   \n",
       "29997                    agent, employe             5   6.0    163     13   \n",
       "29998  enseignant, formateur, chercheur             6  25.0      0      1   \n",
       "29999                    agent, employe             4  13.0    155     13   \n",
       "\n",
       "       var12  var13 var14  var15 var16  var17  var18  var19  var2  var20  \\\n",
       "29995   1430      2     N      0     4      1     18      0     2      0   \n",
       "29996   1305      4     N      1     4      1     19      0     2      0   \n",
       "29997   1060      3     N      0     3      1      8      0     5      1   \n",
       "29998    995      4     N      1     1      1      8      0     5      1   \n",
       "29999    905      3     N      0     3      1      9      0     2      1   \n",
       "\n",
       "       var21  var22  var3  var4  var5 var6 var7 var8  var9  \n",
       "29995      0      1   272     1     1    B    5   M2   143  \n",
       "29996      0      1   272     2     1    A    1   M2   140  \n",
       "29997      1      1   372     3     2    B    1   B2    70  \n",
       "29998      1      1   372     2     1    A    1   M1    75  \n",
       "29999      1      1   372     0     2    A    1   B2    58  "
      ]
     },
     "execution_count": 62,
     "metadata": {},
     "output_type": "execute_result"
    }
   ],
   "source": [
    "# On rassemble pour le feature engineering\n",
    "df = pd.concat([train,test])\n",
    "df.tail(5)"
   ]
  },
  {
   "cell_type": "code",
   "execution_count": 63,
   "metadata": {},
   "outputs": [],
   "source": [
    "# Creation features : sum of binary\n",
    "list_bin = ['var15','var17','var19','var20','var21','var22']\n",
    "df.loc[:,'sum_bin'] = df[list_bin].sum(axis=1)\n",
    "\n",
    "# Creation log de crm\n",
    "df['logcrm'] = df['crm'].apply(np.log)"
   ]
  },
  {
   "cell_type": "code",
   "execution_count": 64,
   "metadata": {},
   "outputs": [],
   "source": [
    "# On cree une feature qui est le nombre de lettre de substances\n",
    "df['nb_charact_profession'] = df.profession.map(len)\n",
    "df['nb_profession'] = df.profession.map(lambda x:len(x.split(',')))"
   ]
  },
  {
   "cell_type": "code",
   "execution_count": 65,
   "metadata": {},
   "outputs": [
    {
     "data": {
      "text/plain": [
       "anc_veh                  False\n",
       "annee_naissance           True\n",
       "annee_permis              True\n",
       "codepostal               False\n",
       "crm                      False\n",
       "energie_veh              False\n",
       "id                       False\n",
       "kmage_annuel             False\n",
       "logprime                  True\n",
       "marque                   False\n",
       "prime_tot_ttc             True\n",
       "profession               False\n",
       "puis_fiscale             False\n",
       "var1                      True\n",
       "var10                    False\n",
       "var11                    False\n",
       "var12                    False\n",
       "var13                    False\n",
       "var14                    False\n",
       "var15                    False\n",
       "var16                    False\n",
       "var17                    False\n",
       "var18                    False\n",
       "var19                    False\n",
       "var2                     False\n",
       "var20                    False\n",
       "var21                    False\n",
       "var22                    False\n",
       "var3                     False\n",
       "var4                     False\n",
       "var5                     False\n",
       "var6                     False\n",
       "var7                     False\n",
       "var8                     False\n",
       "var9                     False\n",
       "sum_bin                  False\n",
       "logcrm                   False\n",
       "nb_charact_profession    False\n",
       "nb_profession            False\n",
       "dtype: bool"
      ]
     },
     "execution_count": 65,
     "metadata": {},
     "output_type": "execute_result"
    }
   ],
   "source": [
    "# On nettoie df\n",
    "df.isnull().any()"
   ]
  },
  {
   "cell_type": "code",
   "execution_count": 66,
   "metadata": {},
   "outputs": [
    {
     "name": "stdout",
     "output_type": "stream",
     "text": [
      "307\n",
      "307\n",
      "307\n"
     ]
    }
   ],
   "source": [
    "print sum(df.annee_naissance.isnull())\n",
    "print sum(df.annee_permis.isnull())\n",
    "print sum(df.var1.isnull())"
   ]
  },
  {
   "cell_type": "code",
   "execution_count": 67,
   "metadata": {
    "collapsed": true
   },
   "outputs": [],
   "source": [
    "df.loc[df.annee_naissance.isnull(),'annee_naissance'] =  df.annee_naissance.mode()[0]\n",
    "df.loc[df.annee_permis.isnull(),'annee_permis'] =  df.annee_permis.mode()[0]\n",
    "df.loc[df.var1.isnull(),'var1'] =  df.var1.mode()[0]"
   ]
  },
  {
   "cell_type": "code",
   "execution_count": 109,
   "metadata": {},
   "outputs": [
    {
     "data": {
      "text/plain": [
       "<matplotlib.axes._subplots.AxesSubplot at 0x175af5150>"
      ]
     },
     "execution_count": 109,
     "metadata": {},
     "output_type": "execute_result"
    },
    {
     "data": {
      "image/png": "[encoded data removed]",
      "text/plain": [
       "<matplotlib.figure.Figure at 0x175976550>"
      ]
     },
     "metadata": {},
     "output_type": "display_data"
    }
   ],
   "source": [
    "df.annee_naissance.hist(bins=30)"
   ]
  },
  {
   "cell_type": "code",
   "execution_count": 111,
   "metadata": {},
   "outputs": [
    {
     "data": {
      "text/plain": [
       "<matplotlib.axes._subplots.AxesSubplot at 0x17921a110>"
      ]
     },
     "execution_count": 111,
     "metadata": {},
     "output_type": "execute_result"
    },
    {
     "data": {
      "image/png": "[encoded data removed]",
      "text/plain": [
       "<matplotlib.figure.Figure at 0x1794b86d0>"
      ]
     },
     "metadata": {},
     "output_type": "display_data"
    }
   ],
   "source": [
    "df.annee_permis.hist(bins=30)"
   ]
  },
  {
   "cell_type": "code",
   "execution_count": 70,
   "metadata": {},
   "outputs": [
    {
     "data": {
      "text/plain": [
       "<matplotlib.axes._subplots.AxesSubplot at 0x22ecc7210>"
      ]
     },
     "execution_count": 70,
     "metadata": {},
     "output_type": "execute_result"
    },
    {
     "data": {
      "image/png": "[encoded data removed]",
      "text/plain": [
       "<matplotlib.figure.Figure at 0x22ec671d0>"
      ]
     },
     "metadata": {},
     "output_type": "display_data"
    }
   ],
   "source": [
    "df.var1.hist(bins=30)"
   ]
  },
  {
   "cell_type": "code",
   "execution_count": 71,
   "metadata": {},
   "outputs": [],
   "source": [
    "#sns.pairplot(df)"
   ]
  },
  {
   "cell_type": "code",
   "execution_count": 105,
   "metadata": {},
   "outputs": [
    {
     "data": {
      "text/plain": [
       "<matplotlib.axes._subplots.AxesSubplot at 0x176189850>"
      ]
     },
     "execution_count": 105,
     "metadata": {},
     "output_type": "execute_result"
    },
    {
     "data": {
      "image/png": "[encoded data removed]",
      "text/plain": [
       "<matplotlib.figure.Figure at 0x176248190>"
      ]
     },
     "metadata": {},
     "output_type": "display_data"
    }
   ],
   "source": [
    "df.var12.hist(bins=30)"
   ]
  },
  {
   "cell_type": "code",
   "execution_count": 72,
   "metadata": {},
   "outputs": [
    {
     "name": "stdout",
     "output_type": "stream",
     "text": [
      "(330000, 41)\n"
     ]
    },
    {
     "data": {
      "text/html": [
       "<div>\n",
       "<table border=\"1\" class=\"dataframe\">\n",
       "  <thead>\n",
       "    <tr style=\"text-align: right;\">\n",
       "      <th></th>\n",
       "      <th>anc_veh</th>\n",
       "      <th>annee_naissance</th>\n",
       "      <th>annee_permis</th>\n",
       "      <th>codepostal</th>\n",
       "      <th>crm</th>\n",
       "      <th>energie_veh</th>\n",
       "      <th>id</th>\n",
       "      <th>kmage_annuel</th>\n",
       "      <th>logprime</th>\n",
       "      <th>marque</th>\n",
       "      <th>prime_tot_ttc</th>\n",
       "      <th>profession</th>\n",
       "      <th>puis_fiscale</th>\n",
       "      <th>var1</th>\n",
       "      <th>var10</th>\n",
       "      <th>var11</th>\n",
       "      <th>var12</th>\n",
       "      <th>var13</th>\n",
       "      <th>var14</th>\n",
       "      <th>var15</th>\n",
       "      <th>var16</th>\n",
       "      <th>var17</th>\n",
       "      <th>var18</th>\n",
       "      <th>var19</th>\n",
       "      <th>var2</th>\n",
       "      <th>var20</th>\n",
       "      <th>var21</th>\n",
       "      <th>var22</th>\n",
       "      <th>var3</th>\n",
       "      <th>var4</th>\n",
       "      <th>var5</th>\n",
       "      <th>var6</th>\n",
       "      <th>var7</th>\n",
       "      <th>var8</th>\n",
       "      <th>var9</th>\n",
       "      <th>sum_bin</th>\n",
       "      <th>logcrm</th>\n",
       "      <th>nb_charact_profession</th>\n",
       "      <th>nb_profession</th>\n",
       "      <th>agent</th>\n",
       "      <th>agriculteur</th>\n",
       "      <th>animateur</th>\n",
       "      <th>artisan</th>\n",
       "      <th>arts</th>\n",
       "      <th>au</th>\n",
       "      <th>cadre</th>\n",
       "      <th>chef</th>\n",
       "      <th>chercheur</th>\n",
       "      <th>commercant</th>\n",
       "      <th>contremaitre</th>\n",
       "      <th>demandeur</th>\n",
       "      <th>des</th>\n",
       "      <th>du</th>\n",
       "      <th>educateur</th>\n",
       "      <th>emploi</th>\n",
       "      <th>employe</th>\n",
       "      <th>enseignant</th>\n",
       "      <th>entreprise</th>\n",
       "      <th>et</th>\n",
       "      <th>etudiant</th>\n",
       "      <th>exploitant</th>\n",
       "      <th>femme</th>\n",
       "      <th>formateur</th>\n",
       "      <th>foyer</th>\n",
       "      <th>homme</th>\n",
       "      <th>information</th>\n",
       "      <th>ingenieur</th>\n",
       "      <th>intermediaire</th>\n",
       "      <th>la</th>\n",
       "      <th>liberale</th>\n",
       "      <th>maitrise</th>\n",
       "      <th>moniteur</th>\n",
       "      <th>ou</th>\n",
       "      <th>ouvrier</th>\n",
       "      <th>profession</th>\n",
       "      <th>sante</th>\n",
       "      <th>social</th>\n",
       "      <th>spectacles</th>\n",
       "      <th>technicien</th>\n",
       "      <th>travail</th>\n",
       "    </tr>\n",
       "  </thead>\n",
       "  <tbody>\n",
       "    <tr>\n",
       "      <th>0</th>\n",
       "      <td>1</td>\n",
       "      <td>1986</td>\n",
       "      <td>2006</td>\n",
       "      <td>1034</td>\n",
       "      <td>68</td>\n",
       "      <td>gpl</td>\n",
       "      <td>1</td>\n",
       "      <td>2924</td>\n",
       "      <td>5.54028</td>\n",
       "      <td>RENAULT</td>\n",
       "      <td>254.75</td>\n",
       "      <td>enseignant, formateur, chercheur</td>\n",
       "      <td>4</td>\n",
       "      <td>10</td>\n",
       "      <td>155</td>\n",
       "      <td>1</td>\n",
       "      <td>855</td>\n",
       "      <td>3</td>\n",
       "      <td>N</td>\n",
       "      <td>1</td>\n",
       "      <td>1</td>\n",
       "      <td>1</td>\n",
       "      <td>27</td>\n",
       "      <td>0</td>\n",
       "      <td>1</td>\n",
       "      <td>0</td>\n",
       "      <td>0</td>\n",
       "      <td>1</td>\n",
       "      <td>372</td>\n",
       "      <td>0</td>\n",
       "      <td>1</td>\n",
       "      <td>A</td>\n",
       "      <td>1</td>\n",
       "      <td>B1</td>\n",
       "      <td>60</td>\n",
       "      <td>3</td>\n",
       "      <td>4.21951</td>\n",
       "      <td>32</td>\n",
       "      <td>3</td>\n",
       "      <td>0</td>\n",
       "      <td>0</td>\n",
       "      <td>0</td>\n",
       "      <td>0</td>\n",
       "      <td>0</td>\n",
       "      <td>0</td>\n",
       "      <td>0</td>\n",
       "      <td>0</td>\n",
       "      <td>0.57735</td>\n",
       "      <td>0</td>\n",
       "      <td>0</td>\n",
       "      <td>0</td>\n",
       "      <td>0</td>\n",
       "      <td>0</td>\n",
       "      <td>0</td>\n",
       "      <td>0</td>\n",
       "      <td>0</td>\n",
       "      <td>0.57735</td>\n",
       "      <td>0</td>\n",
       "      <td>0</td>\n",
       "      <td>0</td>\n",
       "      <td>0</td>\n",
       "      <td>0</td>\n",
       "      <td>0.57735</td>\n",
       "      <td>0</td>\n",
       "      <td>0</td>\n",
       "      <td>0</td>\n",
       "      <td>0</td>\n",
       "      <td>0</td>\n",
       "      <td>0</td>\n",
       "      <td>0</td>\n",
       "      <td>0</td>\n",
       "      <td>0</td>\n",
       "      <td>0</td>\n",
       "      <td>0</td>\n",
       "      <td>0</td>\n",
       "      <td>0</td>\n",
       "      <td>0</td>\n",
       "      <td>0</td>\n",
       "      <td>0</td>\n",
       "      <td>0</td>\n",
       "    </tr>\n",
       "    <tr>\n",
       "      <th>1</th>\n",
       "      <td>2</td>\n",
       "      <td>1986</td>\n",
       "      <td>2006</td>\n",
       "      <td>1034</td>\n",
       "      <td>50</td>\n",
       "      <td>gpl</td>\n",
       "      <td>2</td>\n",
       "      <td>11580</td>\n",
       "      <td>5.56026</td>\n",
       "      <td>RENAULT</td>\n",
       "      <td>259.89</td>\n",
       "      <td>enseignant, formateur, chercheur</td>\n",
       "      <td>8</td>\n",
       "      <td>10</td>\n",
       "      <td>175</td>\n",
       "      <td>2</td>\n",
       "      <td>1490</td>\n",
       "      <td>5</td>\n",
       "      <td>N</td>\n",
       "      <td>2</td>\n",
       "      <td>1</td>\n",
       "      <td>1</td>\n",
       "      <td>28</td>\n",
       "      <td>0</td>\n",
       "      <td>1</td>\n",
       "      <td>0</td>\n",
       "      <td>0</td>\n",
       "      <td>1</td>\n",
       "      <td>372</td>\n",
       "      <td>0</td>\n",
       "      <td>1</td>\n",
       "      <td>B</td>\n",
       "      <td>7</td>\n",
       "      <td>H1</td>\n",
       "      <td>115</td>\n",
       "      <td>4</td>\n",
       "      <td>3.91202</td>\n",
       "      <td>32</td>\n",
       "      <td>3</td>\n",
       "      <td>0</td>\n",
       "      <td>0</td>\n",
       "      <td>0</td>\n",
       "      <td>0</td>\n",
       "      <td>0</td>\n",
       "      <td>0</td>\n",
       "      <td>0</td>\n",
       "      <td>0</td>\n",
       "      <td>0.57735</td>\n",
       "      <td>0</td>\n",
       "      <td>0</td>\n",
       "      <td>0</td>\n",
       "      <td>0</td>\n",
       "      <td>0</td>\n",
       "      <td>0</td>\n",
       "      <td>0</td>\n",
       "      <td>0</td>\n",
       "      <td>0.57735</td>\n",
       "      <td>0</td>\n",
       "      <td>0</td>\n",
       "      <td>0</td>\n",
       "      <td>0</td>\n",
       "      <td>0</td>\n",
       "      <td>0.57735</td>\n",
       "      <td>0</td>\n",
       "      <td>0</td>\n",
       "      <td>0</td>\n",
       "      <td>0</td>\n",
       "      <td>0</td>\n",
       "      <td>0</td>\n",
       "      <td>0</td>\n",
       "      <td>0</td>\n",
       "      <td>0</td>\n",
       "      <td>0</td>\n",
       "      <td>0</td>\n",
       "      <td>0</td>\n",
       "      <td>0</td>\n",
       "      <td>0</td>\n",
       "      <td>0</td>\n",
       "      <td>0</td>\n",
       "      <td>0</td>\n",
       "    </tr>\n",
       "  </tbody>\n",
       "</table>\n",
       "</div>"
      ],
      "text/plain": [
       "  anc_veh annee_naissance annee_permis codepostal crm energie_veh id  \\\n",
       "0       1            1986         2006       1034  68         gpl  1   \n",
       "1       2            1986         2006       1034  50         gpl  2   \n",
       "\n",
       "  kmage_annuel logprime   marque prime_tot_ttc  \\\n",
       "0         2924  5.54028  RENAULT        254.75   \n",
       "1        11580  5.56026  RENAULT        259.89   \n",
       "\n",
       "                         profession puis_fiscale var1 var10 var11 var12 var13  \\\n",
       "0  enseignant, formateur, chercheur            4   10   155     1   855     3   \n",
       "1  enseignant, formateur, chercheur            8   10   175     2  1490     5   \n",
       "\n",
       "  var14 var15 var16 var17 var18 var19 var2 var20 var21 var22 var3 var4 var5  \\\n",
       "0     N     1     1     1    27     0    1     0     0     1  372    0    1   \n",
       "1     N     2     1     1    28     0    1     0     0     1  372    0    1   \n",
       "\n",
       "  var6 var7 var8 var9 sum_bin   logcrm nb_charact_profession nb_profession  \\\n",
       "0    A    1   B1   60       3  4.21951                    32             3   \n",
       "1    B    7   H1  115       4  3.91202                    32             3   \n",
       "\n",
       "  agent agriculteur animateur artisan arts au cadre chef chercheur commercant  \\\n",
       "0     0           0         0       0    0  0     0    0   0.57735          0   \n",
       "1     0           0         0       0    0  0     0    0   0.57735          0   \n",
       "\n",
       "  contremaitre demandeur des du educateur emploi employe enseignant  \\\n",
       "0            0         0   0  0         0      0       0    0.57735   \n",
       "1            0         0   0  0         0      0       0    0.57735   \n",
       "\n",
       "  entreprise et etudiant exploitant femme formateur foyer homme information  \\\n",
       "0          0  0        0          0     0   0.57735     0     0           0   \n",
       "1          0  0        0          0     0   0.57735     0     0           0   \n",
       "\n",
       "  ingenieur intermediaire la liberale maitrise moniteur ou ouvrier profession  \\\n",
       "0         0             0  0        0        0        0  0       0          0   \n",
       "1         0             0  0        0        0        0  0       0          0   \n",
       "\n",
       "  sante social spectacles technicien travail  \n",
       "0     0      0          0          0       0  \n",
       "1     0      0          0          0       0  "
      ]
     },
     "execution_count": 72,
     "metadata": {},
     "output_type": "execute_result"
    }
   ],
   "source": [
    "# TF IDF sur substances\n",
    "from sklearn.feature_extraction.text import TfidfVectorizer\n",
    "tf = TfidfVectorizer(analyzer='word', ngram_range=(1,1), min_df = 0, stop_words = 'english')\n",
    "corp = df.profession\n",
    "tfidf_matrix =  tf.fit_transform(corp)\n",
    "print tfidf_matrix.shape    # on regarde si on peut traiter la matrice ou si on doit SVD\n",
    "dense = pd.DataFrame(data=tfidf_matrix.todense(), columns=tf.get_feature_names())\n",
    "list_feature_name = df.columns.tolist() + dense.columns.tolist()\n",
    "df_dense = pd.DataFrame(data=np.concatenate((np.array(df),np.array(dense)), axis=1), columns=list_feature_name)\n",
    "df_dense.head(2)"
   ]
  },
  {
   "cell_type": "code",
   "execution_count": 73,
   "metadata": {},
   "outputs": [
    {
     "data": {
      "text/html": [
       "<div>\n",
       "<table border=\"1\" class=\"dataframe\">\n",
       "  <thead>\n",
       "    <tr style=\"text-align: right;\">\n",
       "      <th></th>\n",
       "      <th>anc_veh</th>\n",
       "      <th>annee_naissance</th>\n",
       "      <th>annee_permis</th>\n",
       "      <th>codepostal</th>\n",
       "      <th>crm</th>\n",
       "      <th>energie_veh</th>\n",
       "      <th>id</th>\n",
       "      <th>kmage_annuel</th>\n",
       "      <th>logprime</th>\n",
       "      <th>marque</th>\n",
       "      <th>prime_tot_ttc</th>\n",
       "      <th>profession</th>\n",
       "      <th>puis_fiscale</th>\n",
       "      <th>var1</th>\n",
       "      <th>var10</th>\n",
       "      <th>var11</th>\n",
       "      <th>var12</th>\n",
       "      <th>var13</th>\n",
       "      <th>var14</th>\n",
       "      <th>var15</th>\n",
       "      <th>var16</th>\n",
       "      <th>var17</th>\n",
       "      <th>var18</th>\n",
       "      <th>var19</th>\n",
       "      <th>var2</th>\n",
       "      <th>var20</th>\n",
       "      <th>var21</th>\n",
       "      <th>var22</th>\n",
       "      <th>var3</th>\n",
       "      <th>var4</th>\n",
       "      <th>var5</th>\n",
       "      <th>var6</th>\n",
       "      <th>var7</th>\n",
       "      <th>var8</th>\n",
       "      <th>var9</th>\n",
       "      <th>sum_bin</th>\n",
       "      <th>logcrm</th>\n",
       "      <th>nb_charact_profession</th>\n",
       "      <th>nb_profession</th>\n",
       "    </tr>\n",
       "  </thead>\n",
       "  <tbody>\n",
       "    <tr>\n",
       "      <th>0</th>\n",
       "      <td>1</td>\n",
       "      <td>1986.0</td>\n",
       "      <td>2006.0</td>\n",
       "      <td>1034</td>\n",
       "      <td>68</td>\n",
       "      <td>gpl</td>\n",
       "      <td>1</td>\n",
       "      <td>2924</td>\n",
       "      <td>5.540283</td>\n",
       "      <td>RENAULT</td>\n",
       "      <td>254.75</td>\n",
       "      <td>enseignant, formateur, chercheur</td>\n",
       "      <td>4</td>\n",
       "      <td>10.0</td>\n",
       "      <td>155</td>\n",
       "      <td>1</td>\n",
       "      <td>855</td>\n",
       "      <td>3</td>\n",
       "      <td>N</td>\n",
       "      <td>1</td>\n",
       "      <td>1</td>\n",
       "      <td>1</td>\n",
       "      <td>27</td>\n",
       "      <td>0</td>\n",
       "      <td>1</td>\n",
       "      <td>0</td>\n",
       "      <td>0</td>\n",
       "      <td>1</td>\n",
       "      <td>372</td>\n",
       "      <td>0</td>\n",
       "      <td>1</td>\n",
       "      <td>A</td>\n",
       "      <td>1</td>\n",
       "      <td>B1</td>\n",
       "      <td>60</td>\n",
       "      <td>3</td>\n",
       "      <td>4.219508</td>\n",
       "      <td>32</td>\n",
       "      <td>3</td>\n",
       "    </tr>\n",
       "    <tr>\n",
       "      <th>1</th>\n",
       "      <td>2</td>\n",
       "      <td>1986.0</td>\n",
       "      <td>2006.0</td>\n",
       "      <td>1034</td>\n",
       "      <td>50</td>\n",
       "      <td>gpl</td>\n",
       "      <td>2</td>\n",
       "      <td>11580</td>\n",
       "      <td>5.560258</td>\n",
       "      <td>RENAULT</td>\n",
       "      <td>259.89</td>\n",
       "      <td>enseignant, formateur, chercheur</td>\n",
       "      <td>8</td>\n",
       "      <td>10.0</td>\n",
       "      <td>175</td>\n",
       "      <td>2</td>\n",
       "      <td>1490</td>\n",
       "      <td>5</td>\n",
       "      <td>N</td>\n",
       "      <td>2</td>\n",
       "      <td>1</td>\n",
       "      <td>1</td>\n",
       "      <td>28</td>\n",
       "      <td>0</td>\n",
       "      <td>1</td>\n",
       "      <td>0</td>\n",
       "      <td>0</td>\n",
       "      <td>1</td>\n",
       "      <td>372</td>\n",
       "      <td>0</td>\n",
       "      <td>1</td>\n",
       "      <td>B</td>\n",
       "      <td>7</td>\n",
       "      <td>H1</td>\n",
       "      <td>115</td>\n",
       "      <td>4</td>\n",
       "      <td>3.912023</td>\n",
       "      <td>32</td>\n",
       "      <td>3</td>\n",
       "    </tr>\n",
       "  </tbody>\n",
       "</table>\n",
       "</div>"
      ],
      "text/plain": [
       "   anc_veh  annee_naissance  annee_permis codepostal  crm energie_veh  id  \\\n",
       "0        1           1986.0        2006.0       1034   68         gpl   1   \n",
       "1        2           1986.0        2006.0       1034   50         gpl   2   \n",
       "\n",
       "   kmage_annuel  logprime   marque  prime_tot_ttc  \\\n",
       "0          2924  5.540283  RENAULT         254.75   \n",
       "1         11580  5.560258  RENAULT         259.89   \n",
       "\n",
       "                         profession  puis_fiscale  var1  var10  var11  var12  \\\n",
       "0  enseignant, formateur, chercheur             4  10.0    155      1    855   \n",
       "1  enseignant, formateur, chercheur             8  10.0    175      2   1490   \n",
       "\n",
       "   var13 var14  var15 var16  var17  var18  var19  var2  var20  var21  var22  \\\n",
       "0      3     N      1     1      1     27      0     1      0      0      1   \n",
       "1      5     N      2     1      1     28      0     1      0      0      1   \n",
       "\n",
       "   var3  var4  var5 var6 var7 var8  var9  sum_bin    logcrm  \\\n",
       "0   372     0     1    A    1   B1    60        3  4.219508   \n",
       "1   372     0     1    B    7   H1   115        4  3.912023   \n",
       "\n",
       "   nb_charact_profession  nb_profession  \n",
       "0                     32              3  \n",
       "1                     32              3  "
      ]
     },
     "execution_count": 73,
     "metadata": {},
     "output_type": "execute_result"
    }
   ],
   "source": [
    "df.head(2)"
   ]
  },
  {
   "cell_type": "markdown",
   "metadata": {},
   "source": [
    "### Dummification"
   ]
  },
  {
   "cell_type": "code",
   "execution_count": 74,
   "metadata": {},
   "outputs": [
    {
     "data": {
      "text/plain": [
       "anc_veh                    int64\n",
       "annee_naissance          float64\n",
       "annee_permis             float64\n",
       "codepostal                object\n",
       "crm                        int64\n",
       "energie_veh               object\n",
       "id                         int64\n",
       "kmage_annuel               int64\n",
       "logprime                 float64\n",
       "marque                    object\n",
       "prime_tot_ttc            float64\n",
       "profession                object\n",
       "puis_fiscale               int64\n",
       "var1                     float64\n",
       "var10                      int64\n",
       "var11                      int64\n",
       "var12                      int64\n",
       "var13                      int64\n",
       "var14                     object\n",
       "var15                      int64\n",
       "var16                     object\n",
       "var17                      int64\n",
       "var18                      int64\n",
       "var19                      int64\n",
       "var2                       int64\n",
       "var20                      int64\n",
       "var21                      int64\n",
       "var22                      int64\n",
       "var3                       int64\n",
       "var4                       int64\n",
       "var5                       int64\n",
       "var6                      object\n",
       "var7                      object\n",
       "var8                      object\n",
       "var9                       int64\n",
       "sum_bin                    int64\n",
       "logcrm                   float64\n",
       "nb_charact_profession      int64\n",
       "nb_profession              int64\n",
       "dtype: object"
      ]
     },
     "execution_count": 74,
     "metadata": {},
     "output_type": "execute_result"
    }
   ],
   "source": [
    "# Certains string se cachent dans des var cont donc on les met dans feat_bin pour label encoder\n",
    "# features à travailler\n",
    "df.dtypes"
   ]
  },
  {
   "cell_type": "code",
   "execution_count": 75,
   "metadata": {},
   "outputs": [],
   "source": [
    "feat_drop = ['id','prime_tot_ttc','profession']\n",
    "\n",
    "feat_bin = ['codepostal','var14','var16','var6','var7','var8']\n",
    "\n",
    "feat_cat = ['energie_veh','marque','var14','var6','var8']\n",
    "\n",
    "feat_num = [col for col in df_dense.columns if col not in feat_drop and col not in feat_cat and col not in feat_bin]\n",
    "\n",
    "df_dense = df_dense.drop(feat_drop, 1)"
   ]
  },
  {
   "cell_type": "code",
   "execution_count": 76,
   "metadata": {
    "collapsed": true
   },
   "outputs": [],
   "source": [
    "# pour les featues categorielles (dummification)\n",
    "X_dummies = pd.DataFrame()\n",
    "X_dummies[feat_cat] = df_dense[feat_cat]\n",
    "X_dummies = pd.get_dummies(X_dummies)"
   ]
  },
  {
   "cell_type": "code",
   "execution_count": 77,
   "metadata": {},
   "outputs": [],
   "source": [
    "# pour les features binaires (ET CATEGORIELLES ORDINALES)\n",
    "X_dummies[feat_bin] = df_dense[feat_bin]\n",
    "for c in feat_bin:\n",
    "    le = LabelEncoder()\n",
    "    le.fit(X_dummies[c])\n",
    "    X_dummies[c] = le.transform(df[c])"
   ]
  },
  {
   "cell_type": "code",
   "execution_count": 78,
   "metadata": {},
   "outputs": [
    {
     "name": "stderr",
     "output_type": "stream",
     "text": [
      "/Users/Samuel/anaconda/lib/python2.7/site-packages/ipykernel/__main__.py:2: FutureWarning: convert_objects is deprecated.  Use the data-type specific converters pd.to_datetime, pd.to_timedelta and pd.to_numeric.\n",
      "  from ipykernel import kernelapp as app\n"
     ]
    }
   ],
   "source": [
    "# les features continues\n",
    "X_dummies[feat_num] = df_dense[feat_num].convert_objects(convert_numeric=True)"
   ]
  },
  {
   "cell_type": "markdown",
   "metadata": {},
   "source": [
    "### On separe a nouveau train et test"
   ]
  },
  {
   "cell_type": "code",
   "execution_count": 79,
   "metadata": {},
   "outputs": [],
   "source": [
    "df_train = X_dummies[:train.shape[0]]\n",
    "df_test = X_dummies[(X_dummies.shape[0] - test.shape[0]):]"
   ]
  },
  {
   "cell_type": "code",
   "execution_count": 80,
   "metadata": {},
   "outputs": [],
   "source": [
    "target_train = df_train.logprime\n",
    "df_train = df_train.drop('logprime', inplace=False, axis=1)\n",
    "\n",
    "target_test = df_test.logprime\n",
    "df_test = df_test.drop('logprime', inplace=False, axis=1)"
   ]
  },
  {
   "cell_type": "markdown",
   "metadata": {},
   "source": [
    "# Creation d'un modele"
   ]
  },
  {
   "cell_type": "markdown",
   "metadata": {},
   "source": [
    "### Métrique MAPE\n",
    "\n",
    "La métrique MAPE n'étant pas disponible dans scikit-learn, nous la codons"
   ]
  },
  {
   "cell_type": "code",
   "execution_count": 81,
   "metadata": {
    "collapsed": true
   },
   "outputs": [],
   "source": [
    "# Mean Absolute Percentage Error\n",
    "def mape_error(y_true, y_pred): \n",
    "    return np.mean(np.abs((y_true - y_pred) / y_true)) * 100"
   ]
  },
  {
   "cell_type": "markdown",
   "metadata": {},
   "source": [
    "### Variables importantes"
   ]
  },
  {
   "cell_type": "code",
   "execution_count": 82,
   "metadata": {},
   "outputs": [
    {
     "name": "stdout",
     "output_type": "stream",
     "text": [
      "RF in 31.701229s\n"
     ]
    }
   ],
   "source": [
    "from sklearn.cross_validation import train_test_split\n",
    "import time\n",
    "t0 = time.time()\n",
    "X_train, X_test, y_train, y_test = train_test_split(df_train, target_train, test_size=0.2, random_state=42)\n",
    "rf = RandomForestRegressor(n_estimators=10,random_state=42, n_jobs=8)\n",
    "rf.fit(X_train, y_train)\n",
    "print(\"RF in %fs\" % (time.time() - t0))"
   ]
  },
  {
   "cell_type": "code",
   "execution_count": 83,
   "metadata": {},
   "outputs": [
    {
     "data": {
      "text/plain": [
       "10.549008392763318"
      ]
     },
     "execution_count": 83,
     "metadata": {},
     "output_type": "execute_result"
    }
   ],
   "source": [
    "mape_error(np.exp(y_test),np.exp(rf.predict(X_test)))"
   ]
  },
  {
   "cell_type": "code",
   "execution_count": 84,
   "metadata": {},
   "outputs": [
    {
     "data": {
      "image/png": "[encoded data removed]",
      "text/plain": [
       "<matplotlib.figure.Figure at 0x22eea3750>"
      ]
     },
     "metadata": {},
     "output_type": "display_data"
    }
   ],
   "source": [
    "fi_result = pd.DataFrame(rf.feature_importances_, index=X_train.columns).T\n",
    "fi_result = fi_result.T.groupby([s.split('_')[0] for s in fi_result.T.index.values]).sum().T\n",
    "plt.figure(figsize=(8,10))\n",
    "fi_grouped = fi_result.iloc[0].sort_values(ascending=False)\n",
    "ax = fi_grouped[:20].plot(kind=\"barh\")\n",
    "plt.title('Feature importance')\n",
    "ax.invert_yaxis()"
   ]
  },
  {
   "cell_type": "markdown",
   "metadata": {},
   "source": [
    "### Cross validation"
   ]
  },
  {
   "cell_type": "code",
   "execution_count": 123,
   "metadata": {
    "scrolled": true
   },
   "outputs": [
    {
     "name": "stdout",
     "output_type": "stream",
     "text": [
      "1\n",
      "10.795517477\n",
      "10.3548889879\n",
      "10.9652153809\n",
      "*** MAPE Error :  10.7052072819\n",
      "2\n",
      "10.7892927234\n",
      "10.3493408312\n",
      "10.9637184285\n",
      "*** MAPE Error :  10.7007839944\n",
      "3\n",
      "10.789969424\n",
      "10.3554362034\n",
      "10.9668883113\n",
      "*** MAPE Error :  10.7040979796\n",
      "4\n",
      "10.787309278\n",
      "10.3672659946\n",
      "10.9721994008\n",
      "*** MAPE Error :  10.7089248911\n",
      "5\n"
     ]
    },
    {
     "ename": "KeyboardInterrupt",
     "evalue": "",
     "output_type": "error",
     "traceback": [
      "\u001b[0;31m---------------------------------------------------------------------------\u001b[0m",
      "\u001b[0;31mKeyboardInterrupt\u001b[0m                         Traceback (most recent call last)",
      "\u001b[0;32m<ipython-input-123-0042d825a03c>\u001b[0m in \u001b[0;36m<module>\u001b[0;34m()\u001b[0m\n\u001b[1;32m     13\u001b[0m                                    \u001b[0mmax_leaf_nodes\u001b[0m\u001b[0;34m=\u001b[0m\u001b[0mNone\u001b[0m\u001b[0;34m,\u001b[0m \u001b[0mbootstrap\u001b[0m\u001b[0;34m=\u001b[0m\u001b[0mTrue\u001b[0m\u001b[0;34m,\u001b[0m \u001b[0moob_score\u001b[0m\u001b[0;34m=\u001b[0m\u001b[0mFalse\u001b[0m\u001b[0;34m,\u001b[0m \u001b[0mn_jobs\u001b[0m\u001b[0;34m=\u001b[0m\u001b[0;36m8\u001b[0m\u001b[0;34m,\u001b[0m \u001b[0mrandom_state\u001b[0m\u001b[0;34m=\u001b[0m\u001b[0;36m42\u001b[0m\u001b[0;34m,\u001b[0m\u001b[0;34m\u001b[0m\u001b[0m\n\u001b[1;32m     14\u001b[0m                                    verbose=0, warm_start=True)\n\u001b[0;32m---> 15\u001b[0;31m         \u001b[0mrf\u001b[0m\u001b[0;34m.\u001b[0m\u001b[0mfit\u001b[0m\u001b[0;34m(\u001b[0m\u001b[0mX_train\u001b[0m\u001b[0;34m,\u001b[0m \u001b[0my_train\u001b[0m\u001b[0;34m)\u001b[0m\u001b[0;34m\u001b[0m\u001b[0m\n\u001b[0m\u001b[1;32m     16\u001b[0m         \u001b[0mpred\u001b[0m \u001b[0;34m=\u001b[0m \u001b[0mrf\u001b[0m\u001b[0;34m.\u001b[0m\u001b[0mpredict\u001b[0m\u001b[0;34m(\u001b[0m\u001b[0mX_test\u001b[0m\u001b[0;34m)\u001b[0m\u001b[0;34m\u001b[0m\u001b[0m\n\u001b[1;32m     17\u001b[0m         \u001b[0;31m# ne pas oublier de reprendre l'exponentielle de la prédiction\u001b[0m\u001b[0;34m\u001b[0m\u001b[0;34m\u001b[0m\u001b[0m\n",
      "\u001b[0;32m/Users/Samuel/anaconda/lib/python2.7/site-packages/sklearn/ensemble/forest.pyc\u001b[0m in \u001b[0;36mfit\u001b[0;34m(self, X, y, sample_weight)\u001b[0m\n\u001b[1;32m    288\u001b[0m                     \u001b[0mt\u001b[0m\u001b[0;34m,\u001b[0m \u001b[0mself\u001b[0m\u001b[0;34m,\u001b[0m \u001b[0mX\u001b[0m\u001b[0;34m,\u001b[0m \u001b[0my\u001b[0m\u001b[0;34m,\u001b[0m \u001b[0msample_weight\u001b[0m\u001b[0;34m,\u001b[0m \u001b[0mi\u001b[0m\u001b[0;34m,\u001b[0m \u001b[0mlen\u001b[0m\u001b[0;34m(\u001b[0m\u001b[0mtrees\u001b[0m\u001b[0;34m)\u001b[0m\u001b[0;34m,\u001b[0m\u001b[0;34m\u001b[0m\u001b[0m\n\u001b[1;32m    289\u001b[0m                     verbose=self.verbose, class_weight=self.class_weight)\n\u001b[0;32m--> 290\u001b[0;31m                 for i, t in enumerate(trees))\n\u001b[0m\u001b[1;32m    291\u001b[0m \u001b[0;34m\u001b[0m\u001b[0m\n\u001b[1;32m    292\u001b[0m             \u001b[0;31m# Collect newly grown trees\u001b[0m\u001b[0;34m\u001b[0m\u001b[0;34m\u001b[0m\u001b[0m\n",
      "\u001b[0;32m/Users/Samuel/anaconda/lib/python2.7/site-packages/sklearn/externals/joblib/parallel.pyc\u001b[0m in \u001b[0;36m__call__\u001b[0;34m(self, iterable)\u001b[0m\n\u001b[1;32m    808\u001b[0m                 \u001b[0;31m# consumption.\u001b[0m\u001b[0;34m\u001b[0m\u001b[0;34m\u001b[0m\u001b[0m\n\u001b[1;32m    809\u001b[0m                 \u001b[0mself\u001b[0m\u001b[0;34m.\u001b[0m\u001b[0m_iterating\u001b[0m \u001b[0;34m=\u001b[0m \u001b[0mFalse\u001b[0m\u001b[0;34m\u001b[0m\u001b[0m\n\u001b[0;32m--> 810\u001b[0;31m             \u001b[0mself\u001b[0m\u001b[0;34m.\u001b[0m\u001b[0mretrieve\u001b[0m\u001b[0;34m(\u001b[0m\u001b[0;34m)\u001b[0m\u001b[0;34m\u001b[0m\u001b[0m\n\u001b[0m\u001b[1;32m    811\u001b[0m             \u001b[0;31m# Make sure that we get a last message telling us we are done\u001b[0m\u001b[0;34m\u001b[0m\u001b[0;34m\u001b[0m\u001b[0m\n\u001b[1;32m    812\u001b[0m             \u001b[0melapsed_time\u001b[0m \u001b[0;34m=\u001b[0m \u001b[0mtime\u001b[0m\u001b[0;34m.\u001b[0m\u001b[0mtime\u001b[0m\u001b[0;34m(\u001b[0m\u001b[0;34m)\u001b[0m \u001b[0;34m-\u001b[0m \u001b[0mself\u001b[0m\u001b[0;34m.\u001b[0m\u001b[0m_start_time\u001b[0m\u001b[0;34m\u001b[0m\u001b[0m\n",
      "\u001b[0;32m/Users/Samuel/anaconda/lib/python2.7/site-packages/sklearn/externals/joblib/parallel.pyc\u001b[0m in \u001b[0;36mretrieve\u001b[0;34m(self)\u001b[0m\n\u001b[1;32m    725\u001b[0m                 \u001b[0mjob\u001b[0m \u001b[0;34m=\u001b[0m \u001b[0mself\u001b[0m\u001b[0;34m.\u001b[0m\u001b[0m_jobs\u001b[0m\u001b[0;34m.\u001b[0m\u001b[0mpop\u001b[0m\u001b[0;34m(\u001b[0m\u001b[0;36m0\u001b[0m\u001b[0;34m)\u001b[0m\u001b[0;34m\u001b[0m\u001b[0m\n\u001b[1;32m    726\u001b[0m             \u001b[0;32mtry\u001b[0m\u001b[0;34m:\u001b[0m\u001b[0;34m\u001b[0m\u001b[0m\n\u001b[0;32m--> 727\u001b[0;31m                 \u001b[0mself\u001b[0m\u001b[0;34m.\u001b[0m\u001b[0m_output\u001b[0m\u001b[0;34m.\u001b[0m\u001b[0mextend\u001b[0m\u001b[0;34m(\u001b[0m\u001b[0mjob\u001b[0m\u001b[0;34m.\u001b[0m\u001b[0mget\u001b[0m\u001b[0;34m(\u001b[0m\u001b[0;34m)\u001b[0m\u001b[0;34m)\u001b[0m\u001b[0;34m\u001b[0m\u001b[0m\n\u001b[0m\u001b[1;32m    728\u001b[0m             \u001b[0;32mexcept\u001b[0m \u001b[0mtuple\u001b[0m\u001b[0;34m(\u001b[0m\u001b[0mself\u001b[0m\u001b[0;34m.\u001b[0m\u001b[0mexceptions\u001b[0m\u001b[0;34m)\u001b[0m \u001b[0;32mas\u001b[0m \u001b[0mexception\u001b[0m\u001b[0;34m:\u001b[0m\u001b[0;34m\u001b[0m\u001b[0m\n\u001b[1;32m    729\u001b[0m                 \u001b[0;31m# Stop dispatching any new job in the async callback thread\u001b[0m\u001b[0;34m\u001b[0m\u001b[0;34m\u001b[0m\u001b[0m\n",
      "\u001b[0;32m/Users/Samuel/anaconda/lib/python2.7/multiprocessing/pool.pyc\u001b[0m in \u001b[0;36mget\u001b[0;34m(self, timeout)\u001b[0m\n\u001b[1;32m    559\u001b[0m \u001b[0;34m\u001b[0m\u001b[0m\n\u001b[1;32m    560\u001b[0m     \u001b[0;32mdef\u001b[0m \u001b[0mget\u001b[0m\u001b[0;34m(\u001b[0m\u001b[0mself\u001b[0m\u001b[0;34m,\u001b[0m \u001b[0mtimeout\u001b[0m\u001b[0;34m=\u001b[0m\u001b[0mNone\u001b[0m\u001b[0;34m)\u001b[0m\u001b[0;34m:\u001b[0m\u001b[0;34m\u001b[0m\u001b[0m\n\u001b[0;32m--> 561\u001b[0;31m         \u001b[0mself\u001b[0m\u001b[0;34m.\u001b[0m\u001b[0mwait\u001b[0m\u001b[0;34m(\u001b[0m\u001b[0mtimeout\u001b[0m\u001b[0;34m)\u001b[0m\u001b[0;34m\u001b[0m\u001b[0m\n\u001b[0m\u001b[1;32m    562\u001b[0m         \u001b[0;32mif\u001b[0m \u001b[0;32mnot\u001b[0m \u001b[0mself\u001b[0m\u001b[0;34m.\u001b[0m\u001b[0m_ready\u001b[0m\u001b[0;34m:\u001b[0m\u001b[0;34m\u001b[0m\u001b[0m\n\u001b[1;32m    563\u001b[0m             \u001b[0;32mraise\u001b[0m \u001b[0mTimeoutError\u001b[0m\u001b[0;34m\u001b[0m\u001b[0m\n",
      "\u001b[0;32m/Users/Samuel/anaconda/lib/python2.7/multiprocessing/pool.pyc\u001b[0m in \u001b[0;36mwait\u001b[0;34m(self, timeout)\u001b[0m\n\u001b[1;32m    554\u001b[0m         \u001b[0;32mtry\u001b[0m\u001b[0;34m:\u001b[0m\u001b[0;34m\u001b[0m\u001b[0m\n\u001b[1;32m    555\u001b[0m             \u001b[0;32mif\u001b[0m \u001b[0;32mnot\u001b[0m \u001b[0mself\u001b[0m\u001b[0;34m.\u001b[0m\u001b[0m_ready\u001b[0m\u001b[0;34m:\u001b[0m\u001b[0;34m\u001b[0m\u001b[0m\n\u001b[0;32m--> 556\u001b[0;31m                 \u001b[0mself\u001b[0m\u001b[0;34m.\u001b[0m\u001b[0m_cond\u001b[0m\u001b[0;34m.\u001b[0m\u001b[0mwait\u001b[0m\u001b[0;34m(\u001b[0m\u001b[0mtimeout\u001b[0m\u001b[0;34m)\u001b[0m\u001b[0;34m\u001b[0m\u001b[0m\n\u001b[0m\u001b[1;32m    557\u001b[0m         \u001b[0;32mfinally\u001b[0m\u001b[0;34m:\u001b[0m\u001b[0;34m\u001b[0m\u001b[0m\n\u001b[1;32m    558\u001b[0m             \u001b[0mself\u001b[0m\u001b[0;34m.\u001b[0m\u001b[0m_cond\u001b[0m\u001b[0;34m.\u001b[0m\u001b[0mrelease\u001b[0m\u001b[0;34m(\u001b[0m\u001b[0;34m)\u001b[0m\u001b[0;34m\u001b[0m\u001b[0m\n",
      "\u001b[0;32m/Users/Samuel/anaconda/lib/python2.7/threading.pyc\u001b[0m in \u001b[0;36mwait\u001b[0;34m(self, timeout)\u001b[0m\n\u001b[1;32m    338\u001b[0m         \u001b[0;32mtry\u001b[0m\u001b[0;34m:\u001b[0m    \u001b[0;31m# restore state no matter what (e.g., KeyboardInterrupt)\u001b[0m\u001b[0;34m\u001b[0m\u001b[0m\n\u001b[1;32m    339\u001b[0m             \u001b[0;32mif\u001b[0m \u001b[0mtimeout\u001b[0m \u001b[0;32mis\u001b[0m \u001b[0mNone\u001b[0m\u001b[0;34m:\u001b[0m\u001b[0;34m\u001b[0m\u001b[0m\n\u001b[0;32m--> 340\u001b[0;31m                 \u001b[0mwaiter\u001b[0m\u001b[0;34m.\u001b[0m\u001b[0macquire\u001b[0m\u001b[0;34m(\u001b[0m\u001b[0;34m)\u001b[0m\u001b[0;34m\u001b[0m\u001b[0m\n\u001b[0m\u001b[1;32m    341\u001b[0m                 \u001b[0;32mif\u001b[0m \u001b[0m__debug__\u001b[0m\u001b[0;34m:\u001b[0m\u001b[0;34m\u001b[0m\u001b[0m\n\u001b[1;32m    342\u001b[0m                     \u001b[0mself\u001b[0m\u001b[0;34m.\u001b[0m\u001b[0m_note\u001b[0m\u001b[0;34m(\u001b[0m\u001b[0;34m\"%s.wait(): got it\"\u001b[0m\u001b[0;34m,\u001b[0m \u001b[0mself\u001b[0m\u001b[0;34m)\u001b[0m\u001b[0;34m\u001b[0m\u001b[0m\n",
      "\u001b[0;31mKeyboardInterrupt\u001b[0m: "
     ]
    }
   ],
   "source": [
    "# modele Random Forest\n",
    "err = 0\n",
    "NBROUND = 3\n",
    "for train_index, test_index in KFold(df_train.shape[0], n_folds=NBROUND, random_state=42):\n",
    "    y = target_train\n",
    "    X = df_train\n",
    "    X_train, X_test = X.ix[train_index, :], X.ix[test_index, :]\n",
    "    y_train, y_test = y[train_index], y[test_index]\n",
    "    rf = RandomForestRegressor(n_estimators=300, max_depth=16, min_samples_split=41,\n",
    "                               min_samples_leaf=2, min_weight_fraction_leaf=0, max_features='auto',\n",
    "                               max_leaf_nodes=None, bootstrap=True, oob_score=False, n_jobs=30, random_state=42,\n",
    "                               verbose=0, warm_start=True)\n",
    "    rf.fit(X_train, y_train)\n",
    "    pred = rf.predict(X_test)\n",
    "    # ne pas oublier de reprendre l'exponentielle de la prédiction\n",
    "    err += mape_error(np.exp(y_test), np.exp(pred))\n",
    "    print mape_error(np.exp(y_test), np.exp(pred))\n",
    "print \"*** MAPE Error : \", err / NBROUND"
   ]
  },
  {
   "cell_type": "markdown",
   "metadata": {},
   "source": [
    "best MAPE Error : 10.5652578229 avec 300 arbres"
   ]
  },
  {
   "cell_type": "code",
   "execution_count": 87,
   "metadata": {
    "scrolled": true
   },
   "outputs": [
    {
     "name": "stdout",
     "output_type": "stream",
     "text": [
      "9.97715906631\n",
      "10.5502012355\n",
      "9.97340404086\n",
      "10.2707139352\n",
      "10.2940810124\n",
      "*** MAPE Error :  10.2131118581\n"
     ]
    }
   ],
   "source": [
    "# modele Extra Trees\n",
    "from sklearn.ensemble import ExtraTreesRegressor\n",
    "\n",
    "err = 0\n",
    "NBROUND = 3\n",
    "for train_index, test_index in KFold(df_train.shape[0], n_folds=NBROUND, random_state=42):\n",
    "    y = target_train\n",
    "    X = df_train\n",
    "    X_train, X_test = X.ix[train_index, :], X.ix[test_index, :]\n",
    "    y_train, y_test = y[train_index], y[test_index]\n",
    "    etr = ExtraTreesRegressor(n_estimators=300, criterion='mse', max_depth=75,\n",
    "                              min_samples_split=1, min_samples_leaf=1, min_weight_fraction_leaf=0.0,\n",
    "                              max_features='auto', max_leaf_nodes=None, bootstrap=True, oob_score=False,\n",
    "                              n_jobs=30, random_state=42, verbose=0, warm_start=True)\n",
    "    etr.fit(X_train, y_train)\n",
    "    pred = etr.predict(X_test)\n",
    "    # ne pas oublier de reprendre l'exponentielle de la prédiction\n",
    "    err += mape_error(np.exp(y_test), np.exp(pred))\n",
    "    print mape_error(np.exp(y_test), np.exp(pred))\n",
    "print \"*** MAPE Error : \", err / NBROUND"
   ]
  },
  {
   "cell_type": "markdown",
   "metadata": {},
   "source": [
    "best MAPE Error : 10.2368931362 avec 300 arbres"
   ]
  },
  {
   "cell_type": "code",
   "execution_count": 98,
   "metadata": {
    "scrolled": true
   },
   "outputs": [
    {
     "name": "stdout",
     "output_type": "stream",
     "text": [
      "1\n",
      "9.67791396314\n",
      "8.90274998355\n"
     ]
    },
    {
     "ename": "KeyboardInterrupt",
     "evalue": "",
     "output_type": "error",
     "traceback": [
      "\u001b[0;31m---------------------------------------------------------------------------\u001b[0m",
      "\u001b[0;31mKeyboardInterrupt\u001b[0m                         Traceback (most recent call last)",
      "\u001b[0;32m<ipython-input-98-c679ad005f45>\u001b[0m in \u001b[0;36m<module>\u001b[0;34m()\u001b[0m\n\u001b[1;32m     16\u001b[0m         clf.fit(X_train, y_train, early_stopping_rounds=150,\n\u001b[1;32m     17\u001b[0m                 \u001b[0meval_metric\u001b[0m\u001b[0;34m=\u001b[0m\u001b[0;34m'map'\u001b[0m\u001b[0;34m,\u001b[0m \u001b[0meval_set\u001b[0m\u001b[0;34m=\u001b[0m\u001b[0;34m[\u001b[0m\u001b[0;34m(\u001b[0m\u001b[0mX_test\u001b[0m\u001b[0;34m,\u001b[0m \u001b[0my_test\u001b[0m\u001b[0;34m)\u001b[0m\u001b[0;34m]\u001b[0m\u001b[0;34m,\u001b[0m\u001b[0;34m\u001b[0m\u001b[0m\n\u001b[0;32m---> 18\u001b[0;31m                 verbose=False)\n\u001b[0m\u001b[1;32m     19\u001b[0m         \u001b[0mpred\u001b[0m \u001b[0;34m=\u001b[0m \u001b[0mclf\u001b[0m\u001b[0;34m.\u001b[0m\u001b[0mpredict\u001b[0m\u001b[0;34m(\u001b[0m\u001b[0mX_test\u001b[0m\u001b[0;34m)\u001b[0m\u001b[0;34m\u001b[0m\u001b[0m\n\u001b[1;32m     20\u001b[0m         \u001b[0;31m# ne pas oublier de reprendre l'exponentielle de la prédiction\u001b[0m\u001b[0;34m\u001b[0m\u001b[0;34m\u001b[0m\u001b[0m\n",
      "\u001b[0;32m/Users/Samuel/anaconda/lib/python2.7/site-packages/xgboost/sklearn.pyc\u001b[0m in \u001b[0;36mfit\u001b[0;34m(self, X, y, eval_set, eval_metric, early_stopping_rounds, verbose)\u001b[0m\n\u001b[1;32m    186\u001b[0m                               \u001b[0mearly_stopping_rounds\u001b[0m\u001b[0;34m=\u001b[0m\u001b[0mearly_stopping_rounds\u001b[0m\u001b[0;34m,\u001b[0m\u001b[0;34m\u001b[0m\u001b[0m\n\u001b[1;32m    187\u001b[0m                               \u001b[0mevals_result\u001b[0m\u001b[0;34m=\u001b[0m\u001b[0mevals_result\u001b[0m\u001b[0;34m,\u001b[0m \u001b[0mfeval\u001b[0m\u001b[0;34m=\u001b[0m\u001b[0mfeval\u001b[0m\u001b[0;34m,\u001b[0m\u001b[0;34m\u001b[0m\u001b[0m\n\u001b[0;32m--> 188\u001b[0;31m                               verbose_eval=verbose)\n\u001b[0m\u001b[1;32m    189\u001b[0m \u001b[0;34m\u001b[0m\u001b[0m\n\u001b[1;32m    190\u001b[0m         \u001b[0;32mif\u001b[0m \u001b[0mevals_result\u001b[0m\u001b[0;34m:\u001b[0m\u001b[0;34m\u001b[0m\u001b[0m\n",
      "\u001b[0;32m/Users/Samuel/anaconda/lib/python2.7/site-packages/xgboost/training.pyc\u001b[0m in \u001b[0;36mtrain\u001b[0;34m(params, dtrain, num_boost_round, evals, obj, feval, maximize, early_stopping_rounds, evals_result, verbose_eval, learning_rates, xgb_model)\u001b[0m\n\u001b[1;32m    196\u001b[0m                 \u001b[0;32melse\u001b[0m\u001b[0;34m:\u001b[0m\u001b[0;34m\u001b[0m\u001b[0m\n\u001b[1;32m    197\u001b[0m                     \u001b[0mbst\u001b[0m\u001b[0;34m.\u001b[0m\u001b[0mset_param\u001b[0m\u001b[0;34m(\u001b[0m\u001b[0;34m{\u001b[0m\u001b[0;34m'eta'\u001b[0m\u001b[0;34m:\u001b[0m \u001b[0mlearning_rates\u001b[0m\u001b[0;34m(\u001b[0m\u001b[0mi\u001b[0m\u001b[0;34m,\u001b[0m \u001b[0mnum_boost_round\u001b[0m\u001b[0;34m)\u001b[0m\u001b[0;34m}\u001b[0m\u001b[0;34m)\u001b[0m\u001b[0;34m\u001b[0m\u001b[0m\n\u001b[0;32m--> 198\u001b[0;31m             \u001b[0mbst\u001b[0m\u001b[0;34m.\u001b[0m\u001b[0mupdate\u001b[0m\u001b[0;34m(\u001b[0m\u001b[0mdtrain\u001b[0m\u001b[0;34m,\u001b[0m \u001b[0mi\u001b[0m\u001b[0;34m,\u001b[0m \u001b[0mobj\u001b[0m\u001b[0;34m)\u001b[0m\u001b[0;34m\u001b[0m\u001b[0m\n\u001b[0m\u001b[1;32m    199\u001b[0m             \u001b[0mnboost\u001b[0m \u001b[0;34m+=\u001b[0m \u001b[0;36m1\u001b[0m\u001b[0;34m\u001b[0m\u001b[0m\n\u001b[1;32m    200\u001b[0m             \u001b[0mbst_eval_set\u001b[0m \u001b[0;34m=\u001b[0m \u001b[0mbst\u001b[0m\u001b[0;34m.\u001b[0m\u001b[0meval_set\u001b[0m\u001b[0;34m(\u001b[0m\u001b[0mevals\u001b[0m\u001b[0;34m,\u001b[0m \u001b[0mi\u001b[0m\u001b[0;34m,\u001b[0m \u001b[0mfeval\u001b[0m\u001b[0;34m)\u001b[0m\u001b[0;34m\u001b[0m\u001b[0m\n",
      "\u001b[0;32m/Users/Samuel/anaconda/lib/python2.7/site-packages/xgboost/core.pyc\u001b[0m in \u001b[0;36mupdate\u001b[0;34m(self, dtrain, iteration, fobj)\u001b[0m\n\u001b[1;32m    692\u001b[0m \u001b[0;34m\u001b[0m\u001b[0m\n\u001b[1;32m    693\u001b[0m         \u001b[0;32mif\u001b[0m \u001b[0mfobj\u001b[0m \u001b[0;32mis\u001b[0m \u001b[0mNone\u001b[0m\u001b[0;34m:\u001b[0m\u001b[0;34m\u001b[0m\u001b[0m\n\u001b[0;32m--> 694\u001b[0;31m             \u001b[0m_check_call\u001b[0m\u001b[0;34m(\u001b[0m\u001b[0m_LIB\u001b[0m\u001b[0;34m.\u001b[0m\u001b[0mXGBoosterUpdateOneIter\u001b[0m\u001b[0;34m(\u001b[0m\u001b[0mself\u001b[0m\u001b[0;34m.\u001b[0m\u001b[0mhandle\u001b[0m\u001b[0;34m,\u001b[0m \u001b[0miteration\u001b[0m\u001b[0;34m,\u001b[0m \u001b[0mdtrain\u001b[0m\u001b[0;34m.\u001b[0m\u001b[0mhandle\u001b[0m\u001b[0;34m)\u001b[0m\u001b[0;34m)\u001b[0m\u001b[0;34m\u001b[0m\u001b[0m\n\u001b[0m\u001b[1;32m    695\u001b[0m         \u001b[0;32melse\u001b[0m\u001b[0;34m:\u001b[0m\u001b[0;34m\u001b[0m\u001b[0m\n\u001b[1;32m    696\u001b[0m             \u001b[0mpred\u001b[0m \u001b[0;34m=\u001b[0m \u001b[0mself\u001b[0m\u001b[0;34m.\u001b[0m\u001b[0mpredict\u001b[0m\u001b[0;34m(\u001b[0m\u001b[0mdtrain\u001b[0m\u001b[0;34m)\u001b[0m\u001b[0;34m\u001b[0m\u001b[0m\n",
      "\u001b[0;31mKeyboardInterrupt\u001b[0m: "
     ]
    }
   ],
   "source": [
    "# modele XGB\n",
    "import xgboost as xgb\n",
    "\n",
    "for i in range(0,5):\n",
    "    err = 0\n",
    "    NBROUND = 3\n",
    "    print i\n",
    "    for train_index, test_index in KFold(df_train.shape[0], n_folds=NBROUND, random_state=42):\n",
    "        y = target_train\n",
    "        X = df_train\n",
    "        X_train, X_test = X.ix[train_index, :], X.ix[test_index, :]\n",
    "        y_train, y_test = y[train_index], y[test_index]\n",
    "        clf = xgb.XGBRegressor(max_depth=13 , n_estimators=1000, learning_rate=0.063, \n",
    "                               nthread=30, subsample=0.6+i*0.05, colsample_bytree=0.6,\n",
    "                               min_child_weight = 1, seed=42)\n",
    "        clf.fit(X_train, y_train, early_stopping_rounds=150,\n",
    "                eval_metric='map', eval_set=[(X_test, y_test)],\n",
    "                verbose=False)\n",
    "        pred = clf.predict(X_test)\n",
    "        # ne pas oublier de reprendre l'exponentielle de la prédiction\n",
    "        err += mape_error(np.exp(y_test), np.exp(pred))\n",
    "        print mape_error(np.exp(y_test), np.exp(pred))\n",
    "    print \"*** MAPE Error : \", err / NBROUND"
   ]
  },
  {
   "cell_type": "markdown",
   "metadata": {},
   "source": [
    "best MAPE Error : 9.24712142932"
   ]
  },
  {
   "cell_type": "code",
   "execution_count": 88,
   "metadata": {
    "scrolled": true
   },
   "outputs": [
    {
     "name": "stdout",
     "output_type": "stream",
     "text": [
      "9.48425695318\n"
     ]
    },
    {
     "ename": "KeyboardInterrupt",
     "evalue": "",
     "output_type": "error",
     "traceback": [
      "\u001b[0;31m---------------------------------------------------------------------------\u001b[0m",
      "\u001b[0;31mKeyboardInterrupt\u001b[0m                         Traceback (most recent call last)",
      "\u001b[0;32m<ipython-input-88-29821c15049f>\u001b[0m in \u001b[0;36m<module>\u001b[0;34m()\u001b[0m\n\u001b[1;32m     20\u001b[0m                               n_jobs=8, random_state=42, verbose=0, warm_start=True)\n\u001b[1;32m     21\u001b[0m     \u001b[0mclf\u001b[0m\u001b[0;34m.\u001b[0m\u001b[0mfit\u001b[0m\u001b[0;34m(\u001b[0m\u001b[0mX_train\u001b[0m\u001b[0;34m,\u001b[0m \u001b[0my_train\u001b[0m\u001b[0;34m,\u001b[0m \u001b[0mearly_stopping_rounds\u001b[0m\u001b[0;34m=\u001b[0m\u001b[0;36m150\u001b[0m\u001b[0;34m,\u001b[0m \u001b[0meval_metric\u001b[0m\u001b[0;34m=\u001b[0m\u001b[0;34m'map'\u001b[0m\u001b[0;34m,\u001b[0m \u001b[0meval_set\u001b[0m\u001b[0;34m=\u001b[0m\u001b[0;34m[\u001b[0m\u001b[0;34m(\u001b[0m\u001b[0mX_test\u001b[0m\u001b[0;34m,\u001b[0m \u001b[0my_test\u001b[0m\u001b[0;34m)\u001b[0m\u001b[0;34m]\u001b[0m\u001b[0;34m,\u001b[0m \u001b[0mverbose\u001b[0m\u001b[0;34m=\u001b[0m\u001b[0mFalse\u001b[0m\u001b[0;34m)\u001b[0m\u001b[0;34m\u001b[0m\u001b[0m\n\u001b[0;32m---> 22\u001b[0;31m     \u001b[0mrf\u001b[0m\u001b[0;34m.\u001b[0m\u001b[0mfit\u001b[0m\u001b[0;34m(\u001b[0m\u001b[0mX_train\u001b[0m\u001b[0;34m,\u001b[0m \u001b[0my_train\u001b[0m\u001b[0;34m)\u001b[0m\u001b[0;34m\u001b[0m\u001b[0m\n\u001b[0m\u001b[1;32m     23\u001b[0m     \u001b[0metr\u001b[0m\u001b[0;34m.\u001b[0m\u001b[0mfit\u001b[0m\u001b[0;34m(\u001b[0m\u001b[0mX_train\u001b[0m\u001b[0;34m,\u001b[0m \u001b[0my_train\u001b[0m\u001b[0;34m)\u001b[0m\u001b[0;34m\u001b[0m\u001b[0m\n\u001b[1;32m     24\u001b[0m \u001b[0;34m\u001b[0m\u001b[0m\n",
      "\u001b[0;32m/Users/Samuel/anaconda/lib/python2.7/site-packages/sklearn/ensemble/forest.pyc\u001b[0m in \u001b[0;36mfit\u001b[0;34m(self, X, y, sample_weight)\u001b[0m\n\u001b[1;32m    288\u001b[0m                     \u001b[0mt\u001b[0m\u001b[0;34m,\u001b[0m \u001b[0mself\u001b[0m\u001b[0;34m,\u001b[0m \u001b[0mX\u001b[0m\u001b[0;34m,\u001b[0m \u001b[0my\u001b[0m\u001b[0;34m,\u001b[0m \u001b[0msample_weight\u001b[0m\u001b[0;34m,\u001b[0m \u001b[0mi\u001b[0m\u001b[0;34m,\u001b[0m \u001b[0mlen\u001b[0m\u001b[0;34m(\u001b[0m\u001b[0mtrees\u001b[0m\u001b[0;34m)\u001b[0m\u001b[0;34m,\u001b[0m\u001b[0;34m\u001b[0m\u001b[0m\n\u001b[1;32m    289\u001b[0m                     verbose=self.verbose, class_weight=self.class_weight)\n\u001b[0;32m--> 290\u001b[0;31m                 for i, t in enumerate(trees))\n\u001b[0m\u001b[1;32m    291\u001b[0m \u001b[0;34m\u001b[0m\u001b[0m\n\u001b[1;32m    292\u001b[0m             \u001b[0;31m# Collect newly grown trees\u001b[0m\u001b[0;34m\u001b[0m\u001b[0;34m\u001b[0m\u001b[0m\n",
      "\u001b[0;32m/Users/Samuel/anaconda/lib/python2.7/site-packages/sklearn/externals/joblib/parallel.pyc\u001b[0m in \u001b[0;36m__call__\u001b[0;34m(self, iterable)\u001b[0m\n\u001b[1;32m    808\u001b[0m                 \u001b[0;31m# consumption.\u001b[0m\u001b[0;34m\u001b[0m\u001b[0;34m\u001b[0m\u001b[0m\n\u001b[1;32m    809\u001b[0m                 \u001b[0mself\u001b[0m\u001b[0;34m.\u001b[0m\u001b[0m_iterating\u001b[0m \u001b[0;34m=\u001b[0m \u001b[0mFalse\u001b[0m\u001b[0;34m\u001b[0m\u001b[0m\n\u001b[0;32m--> 810\u001b[0;31m             \u001b[0mself\u001b[0m\u001b[0;34m.\u001b[0m\u001b[0mretrieve\u001b[0m\u001b[0;34m(\u001b[0m\u001b[0;34m)\u001b[0m\u001b[0;34m\u001b[0m\u001b[0m\n\u001b[0m\u001b[1;32m    811\u001b[0m             \u001b[0;31m# Make sure that we get a last message telling us we are done\u001b[0m\u001b[0;34m\u001b[0m\u001b[0;34m\u001b[0m\u001b[0m\n\u001b[1;32m    812\u001b[0m             \u001b[0melapsed_time\u001b[0m \u001b[0;34m=\u001b[0m \u001b[0mtime\u001b[0m\u001b[0;34m.\u001b[0m\u001b[0mtime\u001b[0m\u001b[0;34m(\u001b[0m\u001b[0;34m)\u001b[0m \u001b[0;34m-\u001b[0m \u001b[0mself\u001b[0m\u001b[0;34m.\u001b[0m\u001b[0m_start_time\u001b[0m\u001b[0;34m\u001b[0m\u001b[0m\n",
      "\u001b[0;32m/Users/Samuel/anaconda/lib/python2.7/site-packages/sklearn/externals/joblib/parallel.pyc\u001b[0m in \u001b[0;36mretrieve\u001b[0;34m(self)\u001b[0m\n\u001b[1;32m    725\u001b[0m                 \u001b[0mjob\u001b[0m \u001b[0;34m=\u001b[0m \u001b[0mself\u001b[0m\u001b[0;34m.\u001b[0m\u001b[0m_jobs\u001b[0m\u001b[0;34m.\u001b[0m\u001b[0mpop\u001b[0m\u001b[0;34m(\u001b[0m\u001b[0;36m0\u001b[0m\u001b[0;34m)\u001b[0m\u001b[0;34m\u001b[0m\u001b[0m\n\u001b[1;32m    726\u001b[0m             \u001b[0;32mtry\u001b[0m\u001b[0;34m:\u001b[0m\u001b[0;34m\u001b[0m\u001b[0m\n\u001b[0;32m--> 727\u001b[0;31m                 \u001b[0mself\u001b[0m\u001b[0;34m.\u001b[0m\u001b[0m_output\u001b[0m\u001b[0;34m.\u001b[0m\u001b[0mextend\u001b[0m\u001b[0;34m(\u001b[0m\u001b[0mjob\u001b[0m\u001b[0;34m.\u001b[0m\u001b[0mget\u001b[0m\u001b[0;34m(\u001b[0m\u001b[0;34m)\u001b[0m\u001b[0;34m)\u001b[0m\u001b[0;34m\u001b[0m\u001b[0m\n\u001b[0m\u001b[1;32m    728\u001b[0m             \u001b[0;32mexcept\u001b[0m \u001b[0mtuple\u001b[0m\u001b[0;34m(\u001b[0m\u001b[0mself\u001b[0m\u001b[0;34m.\u001b[0m\u001b[0mexceptions\u001b[0m\u001b[0;34m)\u001b[0m \u001b[0;32mas\u001b[0m \u001b[0mexception\u001b[0m\u001b[0;34m:\u001b[0m\u001b[0;34m\u001b[0m\u001b[0m\n\u001b[1;32m    729\u001b[0m                 \u001b[0;31m# Stop dispatching any new job in the async callback thread\u001b[0m\u001b[0;34m\u001b[0m\u001b[0;34m\u001b[0m\u001b[0m\n",
      "\u001b[0;32m/Users/Samuel/anaconda/lib/python2.7/multiprocessing/pool.pyc\u001b[0m in \u001b[0;36mget\u001b[0;34m(self, timeout)\u001b[0m\n\u001b[1;32m    559\u001b[0m \u001b[0;34m\u001b[0m\u001b[0m\n\u001b[1;32m    560\u001b[0m     \u001b[0;32mdef\u001b[0m \u001b[0mget\u001b[0m\u001b[0;34m(\u001b[0m\u001b[0mself\u001b[0m\u001b[0;34m,\u001b[0m \u001b[0mtimeout\u001b[0m\u001b[0;34m=\u001b[0m\u001b[0mNone\u001b[0m\u001b[0;34m)\u001b[0m\u001b[0;34m:\u001b[0m\u001b[0;34m\u001b[0m\u001b[0m\n\u001b[0;32m--> 561\u001b[0;31m         \u001b[0mself\u001b[0m\u001b[0;34m.\u001b[0m\u001b[0mwait\u001b[0m\u001b[0;34m(\u001b[0m\u001b[0mtimeout\u001b[0m\u001b[0;34m)\u001b[0m\u001b[0;34m\u001b[0m\u001b[0m\n\u001b[0m\u001b[1;32m    562\u001b[0m         \u001b[0;32mif\u001b[0m \u001b[0;32mnot\u001b[0m \u001b[0mself\u001b[0m\u001b[0;34m.\u001b[0m\u001b[0m_ready\u001b[0m\u001b[0;34m:\u001b[0m\u001b[0;34m\u001b[0m\u001b[0m\n\u001b[1;32m    563\u001b[0m             \u001b[0;32mraise\u001b[0m \u001b[0mTimeoutError\u001b[0m\u001b[0;34m\u001b[0m\u001b[0m\n",
      "\u001b[0;32m/Users/Samuel/anaconda/lib/python2.7/multiprocessing/pool.pyc\u001b[0m in \u001b[0;36mwait\u001b[0;34m(self, timeout)\u001b[0m\n\u001b[1;32m    554\u001b[0m         \u001b[0;32mtry\u001b[0m\u001b[0;34m:\u001b[0m\u001b[0;34m\u001b[0m\u001b[0m\n\u001b[1;32m    555\u001b[0m             \u001b[0;32mif\u001b[0m \u001b[0;32mnot\u001b[0m \u001b[0mself\u001b[0m\u001b[0;34m.\u001b[0m\u001b[0m_ready\u001b[0m\u001b[0;34m:\u001b[0m\u001b[0;34m\u001b[0m\u001b[0m\n\u001b[0;32m--> 556\u001b[0;31m                 \u001b[0mself\u001b[0m\u001b[0;34m.\u001b[0m\u001b[0m_cond\u001b[0m\u001b[0;34m.\u001b[0m\u001b[0mwait\u001b[0m\u001b[0;34m(\u001b[0m\u001b[0mtimeout\u001b[0m\u001b[0;34m)\u001b[0m\u001b[0;34m\u001b[0m\u001b[0m\n\u001b[0m\u001b[1;32m    557\u001b[0m         \u001b[0;32mfinally\u001b[0m\u001b[0;34m:\u001b[0m\u001b[0;34m\u001b[0m\u001b[0m\n\u001b[1;32m    558\u001b[0m             \u001b[0mself\u001b[0m\u001b[0;34m.\u001b[0m\u001b[0m_cond\u001b[0m\u001b[0;34m.\u001b[0m\u001b[0mrelease\u001b[0m\u001b[0;34m(\u001b[0m\u001b[0;34m)\u001b[0m\u001b[0;34m\u001b[0m\u001b[0m\n",
      "\u001b[0;32m/Users/Samuel/anaconda/lib/python2.7/threading.pyc\u001b[0m in \u001b[0;36mwait\u001b[0;34m(self, timeout)\u001b[0m\n\u001b[1;32m    338\u001b[0m         \u001b[0;32mtry\u001b[0m\u001b[0;34m:\u001b[0m    \u001b[0;31m# restore state no matter what (e.g., KeyboardInterrupt)\u001b[0m\u001b[0;34m\u001b[0m\u001b[0m\n\u001b[1;32m    339\u001b[0m             \u001b[0;32mif\u001b[0m \u001b[0mtimeout\u001b[0m \u001b[0;32mis\u001b[0m \u001b[0mNone\u001b[0m\u001b[0;34m:\u001b[0m\u001b[0;34m\u001b[0m\u001b[0m\n\u001b[0;32m--> 340\u001b[0;31m                 \u001b[0mwaiter\u001b[0m\u001b[0;34m.\u001b[0m\u001b[0macquire\u001b[0m\u001b[0;34m(\u001b[0m\u001b[0;34m)\u001b[0m\u001b[0;34m\u001b[0m\u001b[0m\n\u001b[0m\u001b[1;32m    341\u001b[0m                 \u001b[0;32mif\u001b[0m \u001b[0m__debug__\u001b[0m\u001b[0;34m:\u001b[0m\u001b[0;34m\u001b[0m\u001b[0m\n\u001b[1;32m    342\u001b[0m                     \u001b[0mself\u001b[0m\u001b[0;34m.\u001b[0m\u001b[0m_note\u001b[0m\u001b[0;34m(\u001b[0m\u001b[0;34m\"%s.wait(): got it\"\u001b[0m\u001b[0;34m,\u001b[0m \u001b[0mself\u001b[0m\u001b[0;34m)\u001b[0m\u001b[0;34m\u001b[0m\u001b[0m\n",
      "\u001b[0;31mKeyboardInterrupt\u001b[0m: "
     ]
    }
   ],
   "source": [
    "# modele blend\n",
    "err = 0\n",
    "NBROUND = 5\n",
    "for train_index, test_index in KFold(df_train.shape[0], n_folds=NBROUND, random_state=42):\n",
    "    y = target_train\n",
    "    X = df_train\n",
    "    X_train, X_test = X.ix[train_index, :], X.ix[test_index, :]\n",
    "    y_train, y_test = y[train_index], y[test_index]\n",
    "    \n",
    "    clf = xgb.XGBRegressor(max_depth=8, n_estimators=5000, learning_rate=0.05, \n",
    "                           nthread=8, subsample=0.8, colsample_bytree=0.6,\n",
    "                           min_child_weight = 1, seed=42)\n",
    "    rf = RandomForestRegressor(n_estimators=200, max_depth=50, min_samples_split=2,\n",
    "                               min_samples_leaf=1, min_weight_fraction_leaf=0.0, max_features='auto',\n",
    "                               max_leaf_nodes=None, bootstrap=True, oob_score=False, n_jobs=8, random_state=42,\n",
    "                               verbose=0, warm_start=True)\n",
    "    etr = ExtraTreesRegressor(n_estimators=200, criterion='mse', max_depth=50,\n",
    "                              min_samples_split=2, min_samples_leaf=1, min_weight_fraction_leaf=0.0,\n",
    "                              max_features='auto', max_leaf_nodes=None, bootstrap=True, oob_score=False,\n",
    "                              n_jobs=8, random_state=42, verbose=0, warm_start=True)\n",
    "    clf.fit(X_train, y_train, early_stopping_rounds=150, eval_metric='map', eval_set=[(X_test, y_test)], verbose=False)\n",
    "    rf.fit(X_train, y_train)\n",
    "    etr.fit(X_train, y_train)\n",
    "    \n",
    "    pred = 0.85*clf.predict(X_test) + 0.1*etr.predict(X_test) + 0.05*rf.predict(X_test)\n",
    "    # ne pas oublier de reprendre l'exponentielle de la prédiction\n",
    "    err += mape_error(np.exp(y_test), np.exp(pred))\n",
    "    print mape_error(np.exp(y_test), np.exp(pred))\n",
    "print \"*** MAPE Error : \", err / NBROUND"
   ]
  },
  {
   "cell_type": "markdown",
   "metadata": {},
   "source": [
    "best MAPE Error : 9.71038965677"
   ]
  },
  {
   "cell_type": "markdown",
   "metadata": {},
   "source": [
    "# Calcul des predictions et soumission"
   ]
  },
  {
   "cell_type": "code",
   "execution_count": 99,
   "metadata": {
    "scrolled": true
   },
   "outputs": [
    {
     "data": {
      "text/plain": [
       "XGBRegressor(base_score=0.5, colsample_bylevel=1, colsample_bytree=0.6,\n",
       "       gamma=0, learning_rate=0.07, max_delta_step=0, max_depth=13,\n",
       "       min_child_weight=1, missing=None, n_estimators=1000, nthread=8,\n",
       "       objective='reg:linear', reg_alpha=0, reg_lambda=1,\n",
       "       scale_pos_weight=1, seed=42, silent=True, subsample=0.8)"
      ]
     },
     "execution_count": 99,
     "metadata": {},
     "output_type": "execute_result"
    }
   ],
   "source": [
    "rf = RandomForestRegressor(n_estimators=300, max_depth=16, min_samples_split=41,\n",
    "                           min_samples_leaf=2, min_weight_fraction_leaf=0, max_features='auto',\n",
    "                           max_leaf_nodes=None, bootstrap=True, oob_score=False, n_jobs=30, random_state=42,\n",
    "                           verbose=0, warm_start=True)    \n",
    "    \n",
    "etr = ExtraTreesRegressor(n_estimators=300, criterion='mse', max_depth=75,\n",
    "                          min_samples_split=1, min_samples_leaf=1, min_weight_fraction_leaf=0.0,\n",
    "                          max_features='auto', max_leaf_nodes=None, bootstrap=True, oob_score=False,\n",
    "                          n_jobs=30, random_state=42, verbose=0, warm_start=True)\n",
    "\n",
    "clf = xgb.XGBRegressor(max_depth=13, n_estimators=1000, learning_rate=0.063, \n",
    "                       nthread=30, subsample=0.8, colsample_bytree=0.6,\n",
    "                       min_child_weight = 1, seed=42)\n",
    "# On entraine de nouveau le modèle, cette fois sur l'intégralité des données\n",
    "rf.fit(df_train, target_train)\n",
    "etr.fit(df_train, target_train)\n",
    "clf.fit(df_train, target_train, early_stopping_rounds=150, eval_metric='map', eval_set=[(X_test, y_test)], verbose=False)"
   ]
  },
  {
   "cell_type": "code",
   "execution_count": 100,
   "metadata": {},
   "outputs": [],
   "source": [
    "# Blend\n",
    "a = 0.1\n",
    "b = 0.2\n",
    "c = 0.7\n",
    "\n",
    "predictions = a*np.exp(rf.predict(df_test)) + b*np.exp(etr.predict(df_test)) + c*np.exp(clf.predict(df_test))\n",
    "\n",
    "pd.DataFrame(predictions, index=test['id']).to_csv('soumission.csv', header=['COTIS'], sep = ';')"
   ]
  },
  {
   "cell_type": "markdown",
   "metadata": {},
   "source": [
    "Vous etes maintenant pret ? Faites votre premiere soumission en uplodant le fichier `soumission.csv` sur [Datascience.net](http://www.datascience.net)"
   ]
  },
  {
   "cell_type": "markdown",
   "metadata": {},
   "source": [
    "Pistes d'améliorations :\n",
    "- feature engineering\n",
    "- blend ( extra trees , RF , XGB ) avec pondération à trouver par cross val\n",
    "- staking (coefficienter certaines réponses de certains weak learner fait avec juste certaines variables)"
   ]
  }
 ],
 "metadata": {
  "kernelspec": {
   "display_name": "Python 2",
   "language": "python",
   "name": "python2"
  },
  "language_info": {
   "codemirror_mode": {
    "name": "ipython",
    "version": 2
   },
   "file_extension": ".py",
   "mimetype": "text/x-python",
   "name": "python",
   "nbconvert_exporter": "python",
   "pygments_lexer": "ipython2",
   "version": "2.7.13"
  }
 },
 "nbformat": 4,
 "nbformat_minor": 1
}
