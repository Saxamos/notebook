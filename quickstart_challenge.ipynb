{
 "cells": [
  {
   "cell_type": "code",
   "execution_count": 1,
   "metadata": {},
   "outputs": [
    {
     "name": "stderr",
     "output_type": "stream",
     "text": [
      "/anaconda3/envs/conda_py36/lib/python3.6/site-packages/matplotlib/__init__.py:886: MatplotlibDeprecationWarning: \n",
      "examples.directory is deprecated; in the future, examples will be found relative to the 'datapath' directory.\n",
      "  \"found relative to the 'datapath' directory.\".format(key))\n",
      "/anaconda3/envs/conda_py36/lib/python3.6/site-packages/lightgbm/__init__.py:46: UserWarning: Starting from version 2.2.1, the library file in distribution wheels for macOS is built by the Apple Clang (Xcode_8.3.1) compiler.\n",
      "This means that in case of installing LightGBM from PyPI via the ``pip install lightgbm`` command, you don't need to install the gcc compiler anymore.\n",
      "Instead of that, you need to install the OpenMP library, which is required for running LightGBM on the system with the Apple Clang compiler.\n",
      "You can install the OpenMP library by the following command: ``brew install libomp``.\n",
      "  \"You can install the OpenMP library by the following command: ``brew install libomp``.\", UserWarning)\n"
     ]
    }
   ],
   "source": [
    "import numpy as np\n",
    "import pandas as pd\n",
    "import seaborn as sns\n",
    "import matplotlib.pyplot as plt\n",
    "import io\n",
    "import math\n",
    "import requests\n",
    "\n",
    "from sklearn.linear_model import LogisticRegression\n",
    "from sklearn.metrics import log_loss\n",
    "from sklearn.model_selection import train_test_split\n",
    "from lightgbm import LGBMClassifier\n",
    "\n",
    "plt.style.use(\"ggplot\")"
   ]
  },
  {
   "cell_type": "code",
   "execution_count": 2,
   "metadata": {},
   "outputs": [],
   "source": [
    "# Define the competition scorer\n",
    "def competition_scorer(y_true, y_pred):\n",
    "    return log_loss(y_true, y_pred, sample_weight=10 ** y_true)"
   ]
  },
  {
   "cell_type": "markdown",
   "metadata": {},
   "source": [
    "# 1- Information about the challenge\n",
    "\n",
    "In this challenge, the `requests` dataset contains information about the requests made by group of individuals (or family) to the french emergency housing public service. A sample of the `requests` dataset corresponds to a unique request.\n",
    "\n",
    "The goal is to predict the categorical variable `granted_number_of_nights` which represents the number of nights of emergency housing granted to a group. You can train your model on the `train_requests`, the predictions should be made for requests listed in the `test_requests` dataset.\n",
    "\n",
    "The evaluation metric is given by the `competition_scorer` defined above. It corresponds to a weighted log-loss with weights 1, 10, 100, or 1000 if the `granted_number_of_nights` takes the value 0, 1, 2, or 3 respectively. Thus beware that you will be penalized harder for classification mistakes made on the higher labels.\n",
    "\n",
    "Good luck!"
   ]
  },
  {
   "cell_type": "markdown",
   "metadata": {},
   "source": [
    "# 2- Load the datasets"
   ]
  },
  {
   "cell_type": "code",
   "execution_count": 3,
   "metadata": {},
   "outputs": [
    {
     "name": "stderr",
     "output_type": "stream",
     "text": [
      "b'Skipping line 31303: expected 24 fields, saw 49\\nSkipping line 75954: expected 24 fields, saw 49\\n'\n"
     ]
    }
   ],
   "source": [
    "# Train sample\n",
    "train_data = pd.read_csv(\n",
    "    \"./DSO_19/data/train_requests.csv\", sep=\",\", low_memory=False, error_bad_lines=False\n",
    ")\n",
    "\n",
    "# Test sample\n",
    "test_data = pd.read_csv(\n",
    "    \"./DSO_19/data/test_requests.csv\", sep=\",\", low_memory=False, error_bad_lines=False\n",
    ")"
   ]
  },
  {
   "cell_type": "code",
   "execution_count": 4,
   "metadata": {},
   "outputs": [
    {
     "data": {
      "text/html": [
       "<div>\n",
       "<style scoped>\n",
       "    .dataframe tbody tr th:only-of-type {\n",
       "        vertical-align: middle;\n",
       "    }\n",
       "\n",
       "    .dataframe tbody tr th {\n",
       "        vertical-align: top;\n",
       "    }\n",
       "\n",
       "    .dataframe thead th {\n",
       "        text-align: right;\n",
       "    }\n",
       "</style>\n",
       "<table border=\"1\" class=\"dataframe\">\n",
       "  <thead>\n",
       "    <tr style=\"text-align: right;\">\n",
       "      <th></th>\n",
       "      <th>request_id</th>\n",
       "      <th>animal_presence</th>\n",
       "      <th>answer_creation_date</th>\n",
       "      <th>child_situation</th>\n",
       "      <th>child_to_come</th>\n",
       "      <th>district</th>\n",
       "      <th>granted_number_of_nights</th>\n",
       "      <th>group_composition_id</th>\n",
       "      <th>group_composition_label</th>\n",
       "      <th>group_creation_date</th>\n",
       "      <th>...</th>\n",
       "      <th>housing_situation_label</th>\n",
       "      <th>long_term_housing_request</th>\n",
       "      <th>number_of_underage</th>\n",
       "      <th>request_backoffice_creator_id</th>\n",
       "      <th>request_creation_date</th>\n",
       "      <th>requester_type</th>\n",
       "      <th>social_situation_id</th>\n",
       "      <th>town</th>\n",
       "      <th>victim_of_violence</th>\n",
       "      <th>victim_of_violence_type</th>\n",
       "    </tr>\n",
       "  </thead>\n",
       "  <tbody>\n",
       "    <tr>\n",
       "      <th>0</th>\n",
       "      <td>130667d2964de43c511d0ead7ac66b33</td>\n",
       "      <td>f</td>\n",
       "      <td>2019-02-11 22:30:00</td>\n",
       "      <td>-1</td>\n",
       "      <td>NaN</td>\n",
       "      <td>85</td>\n",
       "      <td>1</td>\n",
       "      <td>10</td>\n",
       "      <td>man alone</td>\n",
       "      <td>2018-05-03 12:10:40.416</td>\n",
       "      <td>...</td>\n",
       "      <td>other</td>\n",
       "      <td>NaN</td>\n",
       "      <td>-1</td>\n",
       "      <td>eecd6110b7e9157e6423428b22a28159</td>\n",
       "      <td>2019-02-11 22:30:00</td>\n",
       "      <td>third party</td>\n",
       "      <td>9a84febc47fedaf2c81d7c755e9edc85</td>\n",
       "      <td>NaN</td>\n",
       "      <td>f</td>\n",
       "      <td>NaN</td>\n",
       "    </tr>\n",
       "    <tr>\n",
       "      <th>1</th>\n",
       "      <td>b1cd62fcf24eebb0f685d5eaf55317a8</td>\n",
       "      <td>f</td>\n",
       "      <td>2019-02-12 09:00:00</td>\n",
       "      <td>-1</td>\n",
       "      <td>NaN</td>\n",
       "      <td>85</td>\n",
       "      <td>1</td>\n",
       "      <td>10</td>\n",
       "      <td>man alone</td>\n",
       "      <td>2019-03-07 12:11:08.545</td>\n",
       "      <td>...</td>\n",
       "      <td>other</td>\n",
       "      <td>NaN</td>\n",
       "      <td>-1</td>\n",
       "      <td>eecd6110b7e9157e6423428b22a28159</td>\n",
       "      <td>2019-02-12 09:00:00</td>\n",
       "      <td>user</td>\n",
       "      <td>11f64f0547e855c5c59329b9edc63063</td>\n",
       "      <td>NaN</td>\n",
       "      <td>f</td>\n",
       "      <td>NaN</td>\n",
       "    </tr>\n",
       "    <tr>\n",
       "      <th>2</th>\n",
       "      <td>12cc0a18890bd4959fe42df3ae58838e</td>\n",
       "      <td>f</td>\n",
       "      <td>2019-02-01 21:00:00</td>\n",
       "      <td>-1</td>\n",
       "      <td>NaN</td>\n",
       "      <td>59</td>\n",
       "      <td>1</td>\n",
       "      <td>80</td>\n",
       "      <td>isolated child/underage</td>\n",
       "      <td>2019-03-13 12:54:15.887</td>\n",
       "      <td>...</td>\n",
       "      <td>street</td>\n",
       "      <td>NaN</td>\n",
       "      <td>-1</td>\n",
       "      <td>686d962128c7622aa79ed91da13f5c77</td>\n",
       "      <td>2019-02-01 21:00:00</td>\n",
       "      <td>user</td>\n",
       "      <td>898ab2883f410f4c6fb042ef16329fbb</td>\n",
       "      <td>NaN</td>\n",
       "      <td>f</td>\n",
       "      <td>NaN</td>\n",
       "    </tr>\n",
       "    <tr>\n",
       "      <th>3</th>\n",
       "      <td>ae2d5b4dc181d29e430132f145da1556</td>\n",
       "      <td>f</td>\n",
       "      <td>2019-02-25 15:12:05.037</td>\n",
       "      <td>-1</td>\n",
       "      <td>NaN</td>\n",
       "      <td>50</td>\n",
       "      <td>2</td>\n",
       "      <td>20</td>\n",
       "      <td>woman alone</td>\n",
       "      <td>2018-10-09 14:37:29.773</td>\n",
       "      <td>...</td>\n",
       "      <td>NaN</td>\n",
       "      <td>NaN</td>\n",
       "      <td>-1</td>\n",
       "      <td>ec29519464c381a6630f4e480a0c000e</td>\n",
       "      <td>2019-02-25 15:12:05.037</td>\n",
       "      <td>user</td>\n",
       "      <td>3998c8e890ddc980527dd1af45dfa672</td>\n",
       "      <td>NaN</td>\n",
       "      <td>t</td>\n",
       "      <td>woman</td>\n",
       "    </tr>\n",
       "    <tr>\n",
       "      <th>4</th>\n",
       "      <td>d13a17ce36c832514fda2464e11c4a9f</td>\n",
       "      <td>f</td>\n",
       "      <td>2019-02-20 09:59:20.603</td>\n",
       "      <td>-1</td>\n",
       "      <td>NaN</td>\n",
       "      <td>93</td>\n",
       "      <td>2</td>\n",
       "      <td>60</td>\n",
       "      <td>group with child(ren)</td>\n",
       "      <td>2018-10-02 10:47:36.931</td>\n",
       "      <td>...</td>\n",
       "      <td>hotel paid by the emergency centre</td>\n",
       "      <td>NaN</td>\n",
       "      <td>-1</td>\n",
       "      <td>c8b5cc926b1d7212224a08baa9619518</td>\n",
       "      <td>2019-02-20 09:59:20.603</td>\n",
       "      <td>user</td>\n",
       "      <td>74a10d96eae43586bc3c46e89719b821</td>\n",
       "      <td>NaN</td>\n",
       "      <td>f</td>\n",
       "      <td>NaN</td>\n",
       "    </tr>\n",
       "  </tbody>\n",
       "</table>\n",
       "<p>5 rows × 24 columns</p>\n",
       "</div>"
      ],
      "text/plain": [
       "                         request_id animal_presence     answer_creation_date  \\\n",
       "0  130667d2964de43c511d0ead7ac66b33               f      2019-02-11 22:30:00   \n",
       "1  b1cd62fcf24eebb0f685d5eaf55317a8               f      2019-02-12 09:00:00   \n",
       "2  12cc0a18890bd4959fe42df3ae58838e               f      2019-02-01 21:00:00   \n",
       "3  ae2d5b4dc181d29e430132f145da1556               f  2019-02-25 15:12:05.037   \n",
       "4  d13a17ce36c832514fda2464e11c4a9f               f  2019-02-20 09:59:20.603   \n",
       "\n",
       "   child_situation child_to_come  district  granted_number_of_nights  \\\n",
       "0               -1           NaN        85                         1   \n",
       "1               -1           NaN        85                         1   \n",
       "2               -1           NaN        59                         1   \n",
       "3               -1           NaN        50                         2   \n",
       "4               -1           NaN        93                         2   \n",
       "\n",
       "   group_composition_id  group_composition_label      group_creation_date  \\\n",
       "0                    10                man alone  2018-05-03 12:10:40.416   \n",
       "1                    10                man alone  2019-03-07 12:11:08.545   \n",
       "2                    80  isolated child/underage  2019-03-13 12:54:15.887   \n",
       "3                    20              woman alone  2018-10-09 14:37:29.773   \n",
       "4                    60    group with child(ren)  2018-10-02 10:47:36.931   \n",
       "\n",
       "            ...                       housing_situation_label  \\\n",
       "0           ...                                         other   \n",
       "1           ...                                         other   \n",
       "2           ...                                        street   \n",
       "3           ...                                           NaN   \n",
       "4           ...            hotel paid by the emergency centre   \n",
       "\n",
       "  long_term_housing_request number_of_underage  \\\n",
       "0                       NaN                 -1   \n",
       "1                       NaN                 -1   \n",
       "2                       NaN                 -1   \n",
       "3                       NaN                 -1   \n",
       "4                       NaN                 -1   \n",
       "\n",
       "      request_backoffice_creator_id    request_creation_date requester_type  \\\n",
       "0  eecd6110b7e9157e6423428b22a28159      2019-02-11 22:30:00    third party   \n",
       "1  eecd6110b7e9157e6423428b22a28159      2019-02-12 09:00:00           user   \n",
       "2  686d962128c7622aa79ed91da13f5c77      2019-02-01 21:00:00           user   \n",
       "3  ec29519464c381a6630f4e480a0c000e  2019-02-25 15:12:05.037           user   \n",
       "4  c8b5cc926b1d7212224a08baa9619518  2019-02-20 09:59:20.603           user   \n",
       "\n",
       "                social_situation_id town victim_of_violence  \\\n",
       "0  9a84febc47fedaf2c81d7c755e9edc85  NaN                  f   \n",
       "1  11f64f0547e855c5c59329b9edc63063  NaN                  f   \n",
       "2  898ab2883f410f4c6fb042ef16329fbb  NaN                  f   \n",
       "3  3998c8e890ddc980527dd1af45dfa672  NaN                  t   \n",
       "4  74a10d96eae43586bc3c46e89719b821  NaN                  f   \n",
       "\n",
       "  victim_of_violence_type  \n",
       "0                     NaN  \n",
       "1                     NaN  \n",
       "2                     NaN  \n",
       "3                   woman  \n",
       "4                     NaN  \n",
       "\n",
       "[5 rows x 24 columns]"
      ]
     },
     "execution_count": 4,
     "metadata": {},
     "output_type": "execute_result"
    }
   ],
   "source": [
    "train_data.head()"
   ]
  },
  {
   "cell_type": "code",
   "execution_count": 6,
   "metadata": {},
   "outputs": [
    {
     "data": {
      "text/plain": [
       "Index(['child_situation', 'district', 'granted_number_of_nights',\n",
       "       'group_composition_id', 'housing_situation_id', 'number_of_underage'],\n",
       "      dtype='object')"
      ]
     },
     "execution_count": 6,
     "metadata": {},
     "output_type": "execute_result"
    }
   ],
   "source": [
    "train_data.describe().columns"
   ]
  },
  {
   "cell_type": "markdown",
   "metadata": {},
   "source": [
    "# 3-Feature engineering / selection"
   ]
  },
  {
   "cell_type": "code",
   "execution_count": 7,
   "metadata": {},
   "outputs": [],
   "source": [
    "# selected columns for explanatory variable\n",
    "numerical = [\"child_situation\", \"number_of_underage\"]\n",
    "categorical = [\n",
    "    \"animal_presence\",\n",
    "    \"child_to_come\",\n",
    "    \"district\",\n",
    "    \"group_composition_id\",\n",
    "    \"long_term_housing_request\",\n",
    "    \"requester_type\",\n",
    "    \"town\",\n",
    "    \"victim_of_violence\",\n",
    "    \"victim_of_violence_type\",\n",
    "    \"housing_situation_id\",\n",
    "]\n",
    "for i in categorical:\n",
    "    train_data[i] = train_data[i].astype(\"category\")\n",
    "    test_data[i] = test_data[i].astype(\"category\")\n",
    "to_keep = numerical + categorical\n",
    "X = train_data[to_keep]\n",
    "y = train_data[\"granted_number_of_nights\"]"
   ]
  },
  {
   "cell_type": "markdown",
   "metadata": {},
   "source": [
    "# 4-Model selection"
   ]
  },
  {
   "cell_type": "code",
   "execution_count": 8,
   "metadata": {},
   "outputs": [],
   "source": [
    "# split between the train and the validation samples\n",
    "X_train, X_val, y_train, y_val = train_test_split(X, y, test_size=0.33, random_state=37)"
   ]
  },
  {
   "cell_type": "code",
   "execution_count": 28,
   "metadata": {},
   "outputs": [],
   "source": [
    "model = LGBMClassifier(n_estimators=1000, max_depth=10, learning_rate=.01)"
   ]
  },
  {
   "cell_type": "code",
   "execution_count": 29,
   "metadata": {},
   "outputs": [
    {
     "name": "stdout",
     "output_type": "stream",
     "text": [
      "Training until validation scores don't improve for 200 rounds.\n",
      "[50]\tvalid_0's multi_logloss: 0.796186\n",
      "[100]\tvalid_0's multi_logloss: 0.690522\n",
      "[150]\tvalid_0's multi_logloss: 0.634401\n",
      "[200]\tvalid_0's multi_logloss: 0.603177\n",
      "[250]\tvalid_0's multi_logloss: 0.586256\n",
      "[300]\tvalid_0's multi_logloss: 0.57691\n",
      "[350]\tvalid_0's multi_logloss: 0.572239\n",
      "[400]\tvalid_0's multi_logloss: 0.569078\n",
      "[450]\tvalid_0's multi_logloss: 0.567841\n",
      "[500]\tvalid_0's multi_logloss: 0.567681\n",
      "[550]\tvalid_0's multi_logloss: 0.568082\n",
      "[600]\tvalid_0's multi_logloss: 0.569035\n",
      "[650]\tvalid_0's multi_logloss: 0.570372\n",
      "Early stopping, best iteration is:\n",
      "[488]\tvalid_0's multi_logloss: 0.567597\n"
     ]
    },
    {
     "data": {
      "text/plain": [
       "LGBMClassifier(boosting_type='gbdt', class_weight=None, colsample_bytree=1.0,\n",
       "        importance_type='split', learning_rate=0.01, max_depth=10,\n",
       "        min_child_samples=20, min_child_weight=0.001, min_split_gain=0.0,\n",
       "        n_estimators=1000, n_jobs=-1, num_leaves=31, objective=None,\n",
       "        random_state=None, reg_alpha=0.0, reg_lambda=0.0, silent=True,\n",
       "        subsample=1.0, subsample_for_bin=200000, subsample_freq=0)"
      ]
     },
     "execution_count": 29,
     "metadata": {},
     "output_type": "execute_result"
    }
   ],
   "source": [
    "# fit the model\n",
    "model.fit(X_train, y_train, eval_set=[(X_val, y_val)],\n",
    "          early_stopping_rounds=200,\n",
    "          sample_weight=10**y_train,  # Necessary to train the model well.\n",
    "          verbose=50,\n",
    "          eval_sample_weight=[10**y_val]  # Necessary to get reliable validation loss for early stopping\n",
    "         )"
   ]
  },
  {
   "cell_type": "code",
   "execution_count": 30,
   "metadata": {},
   "outputs": [
    {
     "data": {
      "text/plain": [
       "0.5675966474976789"
      ]
     },
     "execution_count": 30,
     "metadata": {},
     "output_type": "execute_result"
    }
   ],
   "source": [
    "# Evaluate the model with the competition scorer (validation set)\n",
    "# Check it matches eval score from lgbm model\n",
    "y_val_pred = model.predict_proba(X_val)\n",
    "competition_scorer(y_val, y_val_pred)"
   ]
  },
  {
   "cell_type": "markdown",
   "metadata": {},
   "source": [
    "# 5- Compute predictions on the test set "
   ]
  },
  {
   "cell_type": "code",
   "execution_count": 31,
   "metadata": {},
   "outputs": [],
   "source": [
    "# use the model to predict on the test set.\n",
    "X_test = test_data[to_keep]\n",
    "y_pred = model.predict_proba(X_test)"
   ]
  },
  {
   "cell_type": "code",
   "execution_count": 32,
   "metadata": {},
   "outputs": [
    {
     "data": {
      "text/plain": [
       "child_situation                -1\n",
       "number_of_underage              0\n",
       "animal_presence                 f\n",
       "child_to_come                   t\n",
       "district                       32\n",
       "group_composition_id           20\n",
       "long_term_housing_request     NaN\n",
       "requester_type               user\n",
       "town                          NaN\n",
       "victim_of_violence              f\n",
       "victim_of_violence_type       NaN\n",
       "housing_situation_id           10\n",
       "Name: 0, dtype: object"
      ]
     },
     "execution_count": 32,
     "metadata": {},
     "output_type": "execute_result"
    }
   ],
   "source": [
    "X_test.loc[0,:]"
   ]
  },
  {
   "cell_type": "code",
   "execution_count": 25,
   "metadata": {},
   "outputs": [
    {
     "data": {
      "text/plain": [
       "<lightgbm.basic.Booster at 0x1a20522da0>"
      ]
     },
     "execution_count": 25,
     "metadata": {},
     "output_type": "execute_result"
    }
   ],
   "source": [
    "model."
   ]
  },
  {
   "cell_type": "code",
   "execution_count": 22,
   "metadata": {},
   "outputs": [
    {
     "name": "stderr",
     "output_type": "stream",
     "text": [
      "/anaconda3/envs/conda_py36/lib/python3.6/site-packages/sklearn/preprocessing/label.py:151: DeprecationWarning: The truth value of an empty array is ambiguous. Returning False, but in future this will result in an error. Use `array.size > 0` to check that an array is not empty.\n",
      "  if diff:\n"
     ]
    },
    {
     "data": {
      "text/plain": [
       "array([2, 2])"
      ]
     },
     "execution_count": 22,
     "metadata": {},
     "output_type": "execute_result"
    }
   ],
   "source": [
    "model.predict(X_test.loc[0:1,:])"
   ]
  },
  {
   "cell_type": "code",
   "execution_count": 14,
   "metadata": {},
   "outputs": [
    {
     "data": {
      "text/plain": [
       "array([[0.00368822, 0.18021411, 0.46900925, 0.34708842],\n",
       "       [0.09427276, 0.33835813, 0.54374086, 0.02362825],\n",
       "       [0.00292123, 0.11903234, 0.85832058, 0.01972585],\n",
       "       [0.09533833, 0.12133826, 0.06811123, 0.71521219]])"
      ]
     },
     "execution_count": 14,
     "metadata": {},
     "output_type": "execute_result"
    }
   ],
   "source": [
    "# overview of prediction probabilities for first four rows\n",
    "y_pred[:4]"
   ]
  },
  {
   "cell_type": "code",
   "execution_count": 21,
   "metadata": {},
   "outputs": [],
   "source": [
    "predictions = pd.concat([requests_test['request_id'], pd.DataFrame(y_pred)], axis=1)"
   ]
  },
  {
   "cell_type": "code",
   "execution_count": 28,
   "metadata": {},
   "outputs": [
    {
     "data": {
      "image/png": "[encoded data removed]",
      "text/plain": [
       "<Figure size 432x288 with 1 Axes>"
      ]
     },
     "metadata": {},
     "output_type": "display_data"
    }
   ],
   "source": [
    "plt.hist(np.argmax(y_pred, axis=1));"
   ]
  },
  {
   "cell_type": "markdown",
   "metadata": {},
   "source": [
    "# 6- Submit your predictions to the QScore platform"
   ]
  },
  {
   "cell_type": "code",
   "execution_count": 22,
   "metadata": {},
   "outputs": [],
   "source": [
    "# Get your token from qscore:\n",
    "# 1. Go to https://qscore.datascience-olympics.com/\n",
    "# 2. Chose the competition Data Science Olympics 2019\n",
    "# 3. In the left menu click 'Submissions'\n",
    "# 4. Your token is in the 'Submit from your Python Notebook' tab\n",
    "\n",
    "def submit_prediction(df, sep=',', comment='', compression='gzip', **kwargs):\n",
    "    TOKEN='c7fba9819cad6ed56b0d43f38309ebd676b2a50ebe849cbc5520f6e64d47a065dfbe0ca59e6300b542b091ba7fbdbe134b8fbceafd746d0fd7fa47300f3b9733'\n",
    "    URL='https://qscore.datascience-olympics.com/api/submissions'\n",
    "    df.to_csv('temporary.dat', sep=sep, compression=compression, **kwargs)\n",
    "    r = requests.post(URL, headers={'Authorization': 'Bearer {}'.format(TOKEN)},files={'datafile': open('temporary.dat', 'rb')},data={'comment':comment, 'compression': compression})\n",
    "    if r.status_code == 429:\n",
    "        raise Exception('Submissions are too close. Next submission is only allowed in {} seconds.'.format(int(math.ceil(int(r.headers['x-rate-limit-remaining']) / 1000.0))))\n",
    "    if r.status_code != 200:\n",
    "        raise Exception(r.text)"
   ]
  },
  {
   "cell_type": "code",
   "execution_count": 23,
   "metadata": {},
   "outputs": [],
   "source": [
    "submit_prediction(predictions, sep=',', index=False, comment='my submission')"
   ]
  },
  {
   "cell_type": "markdown",
   "metadata": {},
   "source": [
    "# 7-Visualise / interpret predictions"
   ]
  },
  {
   "cell_type": "code",
   "execution_count": 25,
   "metadata": {},
   "outputs": [
    {
     "data": {
      "image/png": "[encoded data removed]",
      "text/plain": [
       "<Figure size 864x576 with 2 Axes>"
      ]
     },
     "metadata": {},
     "output_type": "display_data"
    }
   ],
   "source": [
    "pd.concat(\n",
    "    [\n",
    "        10 ** y_val,\n",
    "        10\n",
    "        ** pd.Series(y_val_pred.argmax(axis=1), index=y_val.index, name=\"predictions\"),\n",
    "    ],\n",
    "    axis=1,\n",
    ").hist(figsize=(12, 8));"
   ]
  },
  {
   "cell_type": "code",
   "execution_count": 27,
   "metadata": {},
   "outputs": [
    {
     "data": {
      "image/png": "[encoded data removed]",
      "text/plain": [
       "<Figure size 864x576 with 1 Axes>"
      ]
     },
     "metadata": {},
     "output_type": "display_data"
    }
   ],
   "source": [
    "pd.Series(model.feature_importances_, index=X_train.columns).sort_values().plot(\n",
    "    kind=\"barh\", figsize=(12, 8)\n",
    ");"
   ]
  }
 ],
 "metadata": {
  "kernelspec": {
   "display_name": "Python [conda env:conda_py36]",
   "language": "python",
   "name": "conda-env-conda_py36-py"
  },
  "language_info": {
   "codemirror_mode": {
    "name": "ipython",
    "version": 3
   },
   "file_extension": ".py",
   "mimetype": "text/x-python",
   "name": "python",
   "nbconvert_exporter": "python",
   "pygments_lexer": "ipython3",
   "version": "3.6.8"
  }
 },
 "nbformat": 4,
 "nbformat_minor": 2
}
