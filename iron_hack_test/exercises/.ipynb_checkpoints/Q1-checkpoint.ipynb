{
 "cells": [
  {
   "cell_type": "markdown",
   "metadata": {},
   "source": [
    "## Challenge\n",
    "\n",
    "The Ironhack Student Outcomes Manager is reviewing the alumni employment data of the past cohorts. Among those alumni, **60%** are from the WebDev cohort, while **40%** are from the UX/UI Design cohort. Alumni from both cohorts graduated at the same time. The data indicate that **90%** of the WebDev alumni found employment in the IT industry within 6 months after graduation, whereas **40%** of the UX/UI alumni found employment in the IT industry within 6 months after graduation.\n",
    "\n",
    "6 months after those alumni graduated, some of them who were employed in the IT industry were randomly invited back to present to the current Ironhack students. Among the alumni who came back, **what is the probability that s/he was in the UX/UI cohort?** Enter your response in the cell below:"
   ]
  },
  {
   "cell_type": "markdown",
   "metadata": {},
   "source": [
    "## Answer\n",
    "\n",
    "**P(uxui | Job) = ?**\n",
    "\n",
    "* P(WebDev) = 0.6\n",
    "* P(uxui) = 0.4\n",
    "\n",
    "* P(Job | WebDev) = 0.9\n",
    "* P(Job | uxui) = 0.4\n",
    "\n",
    "**According to Bayes theorem:**\n",
    "\n",
    "\\begin{equation*}\n",
    "P(uxui | Job) = P(Job | uxui) \\times \\frac{P(uxui)}{P(Job)}\n",
    "\\end{equation*}\n",
    "\n",
    "**We have to find P(Job):**\n",
    "\n",
    "\\begin{equation*}\n",
    "P(Job) = P(Job | WebDev) \\times P(WebDev) + P(Job | uxui) \\times P(uxui)\n",
    "\\end{equation*}\n",
    "\n",
    "**Calculation:**\n",
    "\n",
    "\\begin{equation*}\n",
    "P(uxui | Job) = 0.4 \\times \\frac{0.4}{(0.9 \\times 0.6 + 0.4 \\times 0.4)} = 0.2285714285714286\n",
    "\\end{equation*}\n"
   ]
  },
  {
   "cell_type": "markdown",
   "metadata": {},
   "source": [
    "## Check with monte carlo simulation"
   ]
  },
  {
   "cell_type": "code",
   "execution_count": 47,
   "metadata": {},
   "outputs": [
    {
     "data": {
      "text/plain": [
       "0.22802"
      ]
     },
     "execution_count": 47,
     "metadata": {},
     "output_type": "execute_result"
    }
   ],
   "source": [
    "from random import choice\n",
    "\n",
    "mc_iteration = 100000\n",
    "\n",
    "number_of_alumni = 10000\n",
    "\n",
    "web_dev = 0.6 * number_of_alumni\n",
    "ux_ui = 0.4 * number_of_alumni\n",
    "\n",
    "employed_web_dev = 0.9 * web_dev\n",
    "employed_ux_ui = 0.4 * ux_ui\n",
    "\n",
    "number_of_alumni_employed = [1] * int(employed_ux_ui) + [0] * int(employed_web_dev)\n",
    "\n",
    "sum([choice(number_of_alumni_employed) for i in range(mc_iteration)]) / mc_iteration"
   ]
  }
 ],
 "metadata": {
  "kernelspec": {
   "display_name": "Python [conda env:conda_py36]",
   "language": "python",
   "name": "conda-env-conda_py36-py"
  },
  "language_info": {
   "codemirror_mode": {
    "name": "ipython",
    "version": 3
   },
   "file_extension": ".py",
   "mimetype": "text/x-python",
   "name": "python",
   "nbconvert_exporter": "python",
   "pygments_lexer": "ipython3",
   "version": "3.6.5"
  }
 },
 "nbformat": 4,
 "nbformat_minor": 2
}
