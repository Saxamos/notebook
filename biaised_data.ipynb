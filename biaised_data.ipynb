{
 "cells": [
  {
   "cell_type": "code",
   "execution_count": 1,
   "metadata": {},
   "outputs": [],
   "source": [
    "import numpy as np\n",
    "import pandas as pd\n",
    "import xgboost as xgb\n",
    "import sklearn as sk\n",
    "import matplotlib.pyplot as plt\n",
    "%matplotlib inline"
   ]
  },
  {
   "cell_type": "markdown",
   "metadata": {},
   "source": [
    "# Create biaised data"
   ]
  },
  {
   "cell_type": "code",
   "execution_count": 2,
   "metadata": {},
   "outputs": [],
   "source": [
    "from sklearn.datasets import make_classification  # bug in import\n",
    "\n",
    "n_samples = 30000\n",
    "\n",
    "X, y = sk.datasets.make_classification(n_classes=3,\n",
    "                                       n_informative=4,\n",
    "                                       n_clusters_per_class=1,\n",
    "                                       n_samples=n_samples,\n",
    "                                       n_features=12,\n",
    "                                       flip_y=0.15,\n",
    "                                       class_sep=0.7,\n",
    "                                       weights=(0.05, 0.25, 0.70),\n",
    "                                       random_state=6)"
   ]
  },
  {
   "cell_type": "code",
   "execution_count": 3,
   "metadata": {},
   "outputs": [
    {
     "data": {
      "text/html": [
       "<div>\n",
       "<style scoped>\n",
       "    .dataframe tbody tr th:only-of-type {\n",
       "        vertical-align: middle;\n",
       "    }\n",
       "\n",
       "    .dataframe tbody tr th {\n",
       "        vertical-align: top;\n",
       "    }\n",
       "\n",
       "    .dataframe thead th {\n",
       "        text-align: right;\n",
       "    }\n",
       "</style>\n",
       "<table border=\"1\" class=\"dataframe\">\n",
       "  <thead>\n",
       "    <tr style=\"text-align: right;\">\n",
       "      <th></th>\n",
       "      <th>0</th>\n",
       "      <th>1</th>\n",
       "      <th>2</th>\n",
       "      <th>3</th>\n",
       "      <th>4</th>\n",
       "      <th>5</th>\n",
       "      <th>6</th>\n",
       "      <th>7</th>\n",
       "      <th>8</th>\n",
       "      <th>9</th>\n",
       "      <th>10</th>\n",
       "      <th>11</th>\n",
       "      <th>y</th>\n",
       "    </tr>\n",
       "  </thead>\n",
       "  <tbody>\n",
       "    <tr>\n",
       "      <th>0</th>\n",
       "      <td>0.064854</td>\n",
       "      <td>-1.229568</td>\n",
       "      <td>-0.184645</td>\n",
       "      <td>0.790684</td>\n",
       "      <td>0.174356</td>\n",
       "      <td>-0.551428</td>\n",
       "      <td>0.932397</td>\n",
       "      <td>-0.228469</td>\n",
       "      <td>0.615568</td>\n",
       "      <td>0.167346</td>\n",
       "      <td>0.018420</td>\n",
       "      <td>-0.711550</td>\n",
       "      <td>1</td>\n",
       "    </tr>\n",
       "    <tr>\n",
       "      <th>1</th>\n",
       "      <td>-1.424463</td>\n",
       "      <td>-1.653885</td>\n",
       "      <td>-0.566246</td>\n",
       "      <td>-0.702181</td>\n",
       "      <td>0.191330</td>\n",
       "      <td>2.680241</td>\n",
       "      <td>0.262960</td>\n",
       "      <td>-0.518735</td>\n",
       "      <td>0.507246</td>\n",
       "      <td>0.445566</td>\n",
       "      <td>1.341437</td>\n",
       "      <td>-1.833449</td>\n",
       "      <td>1</td>\n",
       "    </tr>\n",
       "    <tr>\n",
       "      <th>2</th>\n",
       "      <td>-0.961987</td>\n",
       "      <td>1.390600</td>\n",
       "      <td>-1.596330</td>\n",
       "      <td>-0.433050</td>\n",
       "      <td>-0.066847</td>\n",
       "      <td>0.621985</td>\n",
       "      <td>-1.026852</td>\n",
       "      <td>-0.892072</td>\n",
       "      <td>-1.611138</td>\n",
       "      <td>-1.292308</td>\n",
       "      <td>-0.819491</td>\n",
       "      <td>0.433991</td>\n",
       "      <td>2</td>\n",
       "    </tr>\n",
       "    <tr>\n",
       "      <th>3</th>\n",
       "      <td>0.300879</td>\n",
       "      <td>1.441004</td>\n",
       "      <td>0.126785</td>\n",
       "      <td>0.764954</td>\n",
       "      <td>0.482666</td>\n",
       "      <td>-0.757599</td>\n",
       "      <td>1.117375</td>\n",
       "      <td>3.240408</td>\n",
       "      <td>-0.746224</td>\n",
       "      <td>-0.691515</td>\n",
       "      <td>-0.087435</td>\n",
       "      <td>3.288684</td>\n",
       "      <td>2</td>\n",
       "    </tr>\n",
       "    <tr>\n",
       "      <th>4</th>\n",
       "      <td>-1.705402</td>\n",
       "      <td>-1.110542</td>\n",
       "      <td>-1.659716</td>\n",
       "      <td>1.199752</td>\n",
       "      <td>2.048150</td>\n",
       "      <td>-2.060321</td>\n",
       "      <td>1.645812</td>\n",
       "      <td>-0.184889</td>\n",
       "      <td>-0.234704</td>\n",
       "      <td>0.722942</td>\n",
       "      <td>-0.734339</td>\n",
       "      <td>-0.103736</td>\n",
       "      <td>2</td>\n",
       "    </tr>\n",
       "  </tbody>\n",
       "</table>\n",
       "</div>"
      ],
      "text/plain": [
       "          0         1         2         3         4         5         6  \\\n",
       "0  0.064854 -1.229568 -0.184645  0.790684  0.174356 -0.551428  0.932397   \n",
       "1 -1.424463 -1.653885 -0.566246 -0.702181  0.191330  2.680241  0.262960   \n",
       "2 -0.961987  1.390600 -1.596330 -0.433050 -0.066847  0.621985 -1.026852   \n",
       "3  0.300879  1.441004  0.126785  0.764954  0.482666 -0.757599  1.117375   \n",
       "4 -1.705402 -1.110542 -1.659716  1.199752  2.048150 -2.060321  1.645812   \n",
       "\n",
       "          7         8         9        10        11  y  \n",
       "0 -0.228469  0.615568  0.167346  0.018420 -0.711550  1  \n",
       "1 -0.518735  0.507246  0.445566  1.341437 -1.833449  1  \n",
       "2 -0.892072 -1.611138 -1.292308 -0.819491  0.433991  2  \n",
       "3  3.240408 -0.746224 -0.691515 -0.087435  3.288684  2  \n",
       "4 -0.184889 -0.234704  0.722942 -0.734339 -0.103736  2  "
      ]
     },
     "execution_count": 3,
     "metadata": {},
     "output_type": "execute_result"
    }
   ],
   "source": [
    "df = pd.DataFrame(X)\n",
    "df['y'] = y\n",
    "df.head()"
   ]
  },
  {
   "cell_type": "code",
   "execution_count": 4,
   "metadata": {},
   "outputs": [
    {
     "data": {
      "image/png": "[encoded data removed]",
      "text/plain": [
       "<Figure size 432x288 with 1 Axes>"
      ]
     },
     "metadata": {},
     "output_type": "display_data"
    }
   ],
   "source": [
    "df.y.hist();"
   ]
  },
  {
   "cell_type": "code",
   "execution_count": 5,
   "metadata": {},
   "outputs": [],
   "source": [
    "df_0_index = df[df.y == 0].index\n",
    "df_1_index = df[df.y == 1].index\n",
    "df_2_index = df[df.y == 2].index"
   ]
  },
  {
   "cell_type": "code",
   "execution_count": 6,
   "metadata": {},
   "outputs": [
    {
     "name": "stdout",
     "output_type": "stream",
     "text": [
      "number_of_train_by_class: 1861\n"
     ]
    }
   ],
   "source": [
    "number_of_train_by_class = int(df[df.y == 0].index.shape[0] * 0.66)\n",
    "print(f'number_of_train_by_class: {number_of_train_by_class}')"
   ]
  },
  {
   "cell_type": "code",
   "execution_count": 7,
   "metadata": {},
   "outputs": [],
   "source": [
    "np.random.seed(6)\n",
    "\n",
    "train_0_index = np.random.choice(df_0_index, number_of_train_by_class, replace=False)\n",
    "train_1_index = np.random.choice(df_1_index, number_of_train_by_class, replace=False)\n",
    "train_2_index = np.random.choice(df_2_index, number_of_train_by_class, replace=False)"
   ]
  },
  {
   "cell_type": "code",
   "execution_count": 8,
   "metadata": {},
   "outputs": [],
   "source": [
    "test_0_index = list(set(df_0_index) - set(train_0_index))\n",
    "test_1_index = list(set(df_1_index) - set(train_1_index))\n",
    "test_2_index = list(set(df_2_index) - set(train_2_index))\n",
    "\n",
    "assert len(train_0_index) + len(test_0_index) == len(df_0_index)\n",
    "assert len(train_1_index) + len(test_1_index) == len(df_1_index)\n",
    "assert len(train_2_index) + len(test_2_index) == len(df_2_index)"
   ]
  },
  {
   "cell_type": "code",
   "execution_count": 9,
   "metadata": {},
   "outputs": [],
   "source": [
    "df_train = df.loc[np.concatenate((train_0_index, train_1_index, train_2_index))]\n",
    "df_test = df.loc[np.concatenate((test_0_index, test_1_index, test_2_index))]"
   ]
  },
  {
   "cell_type": "code",
   "execution_count": 10,
   "metadata": {},
   "outputs": [
    {
     "name": "stdout",
     "output_type": "stream",
     "text": [
      "(5583, 13) (24417, 13)\n"
     ]
    },
    {
     "data": {
      "image/png": "[encoded data removed]",
      "text/plain": [
       "<Figure size 432x288 with 1 Axes>"
      ]
     },
     "metadata": {},
     "output_type": "display_data"
    }
   ],
   "source": [
    "print(df_train.shape, df_test.shape)\n",
    "df_test.y.hist(alpha = 0.7, label='test')\n",
    "df_train.y.hist(alpha = 0.5, label='train');\n",
    "plt.legend();"
   ]
  },
  {
   "cell_type": "markdown",
   "metadata": {},
   "source": [
    "# xgb model with iterative weights approach"
   ]
  },
  {
   "cell_type": "markdown",
   "metadata": {},
   "source": [
    "#### 1st model without weights (dummy benchmark)"
   ]
  },
  {
   "cell_type": "code",
   "execution_count": 11,
   "metadata": {},
   "outputs": [],
   "source": [
    "X_train, X_valid, y_train, y_valid = sk.model_selection.train_test_split(df_train.iloc[:,:-1].values,\n",
    "                                                                         df_train.y.values,\n",
    "                                                                         test_size=0.3,\n",
    "                                                                         random_state=6)"
   ]
  },
  {
   "cell_type": "code",
   "execution_count": 12,
   "metadata": {},
   "outputs": [],
   "source": [
    "dvaltrain = xgb.DMatrix(X_train, y_train)\n",
    "dvalid = xgb.DMatrix(X_valid, y_valid)\n",
    "\n",
    "dtrain = xgb.DMatrix(np.asmatrix(df_train.iloc[:,:-1].values), df_train.y.values)\n",
    "dtest = xgb.DMatrix(np.asmatrix(df_test.iloc[:,:-1].values))"
   ]
  },
  {
   "cell_type": "code",
   "execution_count": 13,
   "metadata": {},
   "outputs": [
    {
     "name": "stdout",
     "output_type": "stream",
     "text": [
      "[0]\teval-merror:0.413134\ttrain-merror:0.382037\n",
      "Multiple eval metrics have been passed: 'train-merror' will be used for early stopping.\n",
      "\n",
      "Will train until train-merror hasn't improved in 30 rounds.\n",
      "[1]\teval-merror:0.389851\ttrain-merror:0.346213\n",
      "[2]\teval-merror:0.392836\ttrain-merror:0.322416\n",
      "[3]\teval-merror:0.4\ttrain-merror:0.300154\n",
      "[4]\teval-merror:0.39403\ttrain-merror:0.286592\n",
      "[5]\teval-merror:0.391642\ttrain-merror:0.283265\n",
      "[6]\teval-merror:0.389851\ttrain-merror:0.267912\n",
      "[7]\teval-merror:0.388657\ttrain-merror:0.252303\n",
      "[8]\teval-merror:0.381493\ttrain-merror:0.237718\n",
      "[9]\teval-merror:0.385672\ttrain-merror:0.229017\n",
      "[10]\teval-merror:0.38209\ttrain-merror:0.221597\n",
      "[11]\teval-merror:0.384478\ttrain-merror:0.216479\n",
      "[12]\teval-merror:0.392239\ttrain-merror:0.213408\n",
      "[13]\teval-merror:0.388657\ttrain-merror:0.205732\n",
      "[14]\teval-merror:0.382687\ttrain-merror:0.198055\n",
      "[15]\teval-merror:0.386866\ttrain-merror:0.195752\n",
      "[16]\teval-merror:0.380298\ttrain-merror:0.189099\n",
      "[17]\teval-merror:0.374925\ttrain-merror:0.182958\n",
      "[18]\teval-merror:0.380896\ttrain-merror:0.173746\n",
      "[19]\teval-merror:0.386866\ttrain-merror:0.167093\n",
      "[20]\teval-merror:0.384478\ttrain-merror:0.159672\n",
      "[21]\teval-merror:0.382687\ttrain-merror:0.156602\n",
      "[22]\teval-merror:0.382687\ttrain-merror:0.149181\n",
      "[23]\teval-merror:0.383284\ttrain-merror:0.144063\n",
      "[24]\teval-merror:0.384478\ttrain-merror:0.139458\n",
      "[25]\teval-merror:0.378507\ttrain-merror:0.133572\n",
      "[26]\teval-merror:0.382687\ttrain-merror:0.126407\n",
      "[27]\teval-merror:0.379701\ttrain-merror:0.115404\n",
      "[28]\teval-merror:0.379104\ttrain-merror:0.110287\n",
      "[29]\teval-merror:0.382687\ttrain-merror:0.105425\n",
      "[30]\teval-merror:0.382687\ttrain-merror:0.100051\n",
      "[31]\teval-merror:0.386269\ttrain-merror:0.092375\n",
      "[32]\teval-merror:0.390448\ttrain-merror:0.088792\n",
      "[33]\teval-merror:0.387463\ttrain-merror:0.086745\n",
      "[34]\teval-merror:0.388657\ttrain-merror:0.084698\n",
      "[35]\teval-merror:0.392239\ttrain-merror:0.081372\n",
      "[36]\teval-merror:0.391642\ttrain-merror:0.075742\n",
      "[37]\teval-merror:0.389254\ttrain-merror:0.073951\n",
      "[38]\teval-merror:0.391045\ttrain-merror:0.069089\n",
      "[39]\teval-merror:0.392836\ttrain-merror:0.065763\n",
      "[40]\teval-merror:0.395224\ttrain-merror:0.059621\n",
      "[41]\teval-merror:0.390448\ttrain-merror:0.057318\n",
      "[42]\teval-merror:0.390448\ttrain-merror:0.056807\n",
      "[43]\teval-merror:0.390448\ttrain-merror:0.056295\n",
      "[44]\teval-merror:0.392239\ttrain-merror:0.055527\n",
      "[45]\teval-merror:0.394627\ttrain-merror:0.052968\n",
      "[46]\teval-merror:0.397612\ttrain-merror:0.048874\n",
      "[47]\teval-merror:0.395224\ttrain-merror:0.046827\n",
      "[48]\teval-merror:0.391045\ttrain-merror:0.041965\n",
      "[49]\teval-merror:0.392836\ttrain-merror:0.037359\n",
      "[50]\teval-merror:0.398209\ttrain-merror:0.035056\n",
      "[51]\teval-merror:0.396418\ttrain-merror:0.033265\n",
      "[52]\teval-merror:0.399403\ttrain-merror:0.027124\n",
      "[53]\teval-merror:0.395224\ttrain-merror:0.026356\n",
      "[54]\teval-merror:0.397612\ttrain-merror:0.025589\n",
      "[55]\teval-merror:0.39403\ttrain-merror:0.022518\n",
      "[56]\teval-merror:0.398209\ttrain-merror:0.02175\n",
      "[57]\teval-merror:0.392836\ttrain-merror:0.020471\n",
      "[58]\teval-merror:0.395224\ttrain-merror:0.01868\n",
      "[59]\teval-merror:0.395821\ttrain-merror:0.017656\n",
      "[60]\teval-merror:0.397015\ttrain-merror:0.016377\n",
      "[61]\teval-merror:0.395821\ttrain-merror:0.014841\n",
      "[62]\teval-merror:0.392239\ttrain-merror:0.012794\n",
      "[63]\teval-merror:0.391642\ttrain-merror:0.012538\n",
      "[64]\teval-merror:0.392239\ttrain-merror:0.011003\n",
      "[65]\teval-merror:0.397015\ttrain-merror:0.010747\n",
      "[66]\teval-merror:0.395821\ttrain-merror:0.010747\n",
      "[67]\teval-merror:0.397015\ttrain-merror:0.010491\n",
      "[68]\teval-merror:0.395224\ttrain-merror:0.009724\n",
      "[69]\teval-merror:0.400597\ttrain-merror:0.0087\n",
      "[70]\teval-merror:0.398806\ttrain-merror:0.007677\n",
      "[71]\teval-merror:0.394627\ttrain-merror:0.006653\n",
      "[72]\teval-merror:0.395224\ttrain-merror:0.006141\n",
      "[73]\teval-merror:0.399403\ttrain-merror:0.005374\n",
      "[74]\teval-merror:0.396418\ttrain-merror:0.004094\n",
      "[75]\teval-merror:0.398209\ttrain-merror:0.003838\n",
      "[76]\teval-merror:0.398209\ttrain-merror:0.003327\n",
      "[77]\teval-merror:0.398806\ttrain-merror:0.002047\n",
      "[78]\teval-merror:0.397612\ttrain-merror:0.001535\n",
      "[79]\teval-merror:0.402388\ttrain-merror:0.001535\n",
      "[80]\teval-merror:0.400597\ttrain-merror:0.001535\n",
      "[81]\teval-merror:0.4\ttrain-merror:0.001535\n",
      "[82]\teval-merror:0.4\ttrain-merror:0.001535\n",
      "[83]\teval-merror:0.399403\ttrain-merror:0.001024\n",
      "[84]\teval-merror:0.395821\ttrain-merror:0.000512\n",
      "[85]\teval-merror:0.392836\ttrain-merror:0.000512\n",
      "[86]\teval-merror:0.396418\ttrain-merror:0.000512\n",
      "[87]\teval-merror:0.400597\ttrain-merror:0.000512\n",
      "[88]\teval-merror:0.398806\ttrain-merror:0.000256\n",
      "[89]\teval-merror:0.396418\ttrain-merror:0.000256\n",
      "[90]\teval-merror:0.395821\ttrain-merror:0.000256\n",
      "[91]\teval-merror:0.399403\ttrain-merror:0.000256\n",
      "[92]\teval-merror:0.397612\ttrain-merror:0.000256\n",
      "[93]\teval-merror:0.397015\ttrain-merror:0.000256\n",
      "[94]\teval-merror:0.398806\ttrain-merror:0.000256\n",
      "[95]\teval-merror:0.402388\ttrain-merror:0.000512\n",
      "[96]\teval-merror:0.399403\ttrain-merror:0.000512\n",
      "[97]\teval-merror:0.398209\ttrain-merror:0.000512\n",
      "[98]\teval-merror:0.399403\ttrain-merror:0.000256\n",
      "[99]\teval-merror:0.400597\ttrain-merror:0.000256\n",
      "[100]\teval-merror:0.404179\ttrain-merror:0.000256\n",
      "[101]\teval-merror:0.404179\ttrain-merror:0.000256\n",
      "[102]\teval-merror:0.406567\ttrain-merror:0.000256\n",
      "[103]\teval-merror:0.404776\ttrain-merror:0.000256\n",
      "[104]\teval-merror:0.405373\ttrain-merror:0.000256\n",
      "[105]\teval-merror:0.40597\ttrain-merror:0.000256\n",
      "[106]\teval-merror:0.404776\ttrain-merror:0.000256\n",
      "[107]\teval-merror:0.40597\ttrain-merror:0\n",
      "[108]\teval-merror:0.402388\ttrain-merror:0\n",
      "[109]\teval-merror:0.402985\ttrain-merror:0\n",
      "[110]\teval-merror:0.404179\ttrain-merror:0\n",
      "[111]\teval-merror:0.404776\ttrain-merror:0\n",
      "[112]\teval-merror:0.404776\ttrain-merror:0\n",
      "[113]\teval-merror:0.402388\ttrain-merror:0\n",
      "[114]\teval-merror:0.398806\ttrain-merror:0\n",
      "[115]\teval-merror:0.402388\ttrain-merror:0\n",
      "[116]\teval-merror:0.401791\ttrain-merror:0\n",
      "[117]\teval-merror:0.402985\ttrain-merror:0\n",
      "[118]\teval-merror:0.405373\ttrain-merror:0\n",
      "[119]\teval-merror:0.408955\ttrain-merror:0\n",
      "[120]\teval-merror:0.408955\ttrain-merror:0\n",
      "[121]\teval-merror:0.40597\ttrain-merror:0\n",
      "[122]\teval-merror:0.404776\ttrain-merror:0\n",
      "[123]\teval-merror:0.40597\ttrain-merror:0\n",
      "[124]\teval-merror:0.403582\ttrain-merror:0\n",
      "[125]\teval-merror:0.406567\ttrain-merror:0\n",
      "[126]\teval-merror:0.405373\ttrain-merror:0\n",
      "[127]\teval-merror:0.404776\ttrain-merror:0\n",
      "[128]\teval-merror:0.404776\ttrain-merror:0\n",
      "[129]\teval-merror:0.406567\ttrain-merror:0\n",
      "[130]\teval-merror:0.404179\ttrain-merror:0\n",
      "[131]\teval-merror:0.404179\ttrain-merror:0\n",
      "[132]\teval-merror:0.404179\ttrain-merror:0\n",
      "[133]\teval-merror:0.408358\ttrain-merror:0\n",
      "[134]\teval-merror:0.408955\ttrain-merror:0\n",
      "[135]\teval-merror:0.408358\ttrain-merror:0\n",
      "[136]\teval-merror:0.407761\ttrain-merror:0\n",
      "[137]\teval-merror:0.408955\ttrain-merror:0\n",
      "Stopping. Best iteration:\n",
      "[107]\teval-merror:0.40597\ttrain-merror:0\n",
      "\n"
     ]
    }
   ],
   "source": [
    "param = {'max_depth': 4,\n",
    "         'eta': 1,\n",
    "         'silent': 1,\n",
    "         'objective': 'multi:softmax',\n",
    "         'num_class': 3,\n",
    "         'eval_metric': 'merror'}\n",
    "\n",
    "eval_list = [(dvalid, 'eval'), (dvaltrain, 'train')]\n",
    "\n",
    "eval_clf = xgb.train(param, dvaltrain, num_boost_round=1000, evals=eval_list, early_stopping_rounds=30)"
   ]
  },
  {
   "cell_type": "code",
   "execution_count": 14,
   "metadata": {},
   "outputs": [],
   "source": [
    "clf = xgb.train(param, dtrain, num_boost_round=eval_clf.best_iteration)"
   ]
  },
  {
   "cell_type": "code",
   "execution_count": 15,
   "metadata": {},
   "outputs": [],
   "source": [
    "preds = clf.predict(dtest)"
   ]
  },
  {
   "cell_type": "code",
   "execution_count": 16,
   "metadata": {},
   "outputs": [
    {
     "data": {
      "text/plain": [
       "array([[  486,   189,   284],\n",
       "       [  988,  4252,   758],\n",
       "       [ 4443,  1761, 11256]])"
      ]
     },
     "execution_count": 16,
     "metadata": {},
     "output_type": "execute_result"
    }
   ],
   "source": [
    "sk.metrics.confusion_matrix(df_test.y, preds)"
   ]
  },
  {
   "cell_type": "code",
   "execution_count": 17,
   "metadata": {},
   "outputs": [
    {
     "data": {
      "text/plain": [
       "0.6550354261375272"
      ]
     },
     "execution_count": 17,
     "metadata": {},
     "output_type": "execute_result"
    }
   ],
   "source": [
    "sk.metrics.accuracy_score(df_test.y, preds)"
   ]
  },
  {
   "cell_type": "code",
   "execution_count": 18,
   "metadata": {},
   "outputs": [
    {
     "name": "stdout",
     "output_type": "stream",
     "text": [
      "{0: 0.2423311627145022, 1: 0.2540033583159274, 2: 0.5036654789695704}\n"
     ]
    },
    {
     "data": {
      "image/png": "[encoded data removed]",
      "text/plain": [
       "<Figure size 432x288 with 1 Axes>"
      ]
     },
     "metadata": {},
     "output_type": "display_data"
    }
   ],
   "source": [
    "print({i: (preds == i).mean() for i in range(3)})\n",
    "plt.hist(preds);"
   ]
  },
  {
   "cell_type": "markdown",
   "metadata": {},
   "source": [
    "#### 2nd model with known weights (prove that it helps improve score)"
   ]
  },
  {
   "cell_type": "code",
   "execution_count": 19,
   "metadata": {},
   "outputs": [
    {
     "data": {
      "text/plain": [
       "{0: 0.03927591432198878, 1: 0.2456485235696441, 2: 0.7150755621083671}"
      ]
     },
     "execution_count": 19,
     "metadata": {},
     "output_type": "execute_result"
    }
   ],
   "source": [
    "weights = {i: (df_test.y == i).mean() for i in range(3)}\n",
    "weights"
   ]
  },
  {
   "cell_type": "code",
   "execution_count": 20,
   "metadata": {
    "scrolled": true
   },
   "outputs": [
    {
     "data": {
      "text/html": [
       "<div>\n",
       "<style scoped>\n",
       "    .dataframe tbody tr th:only-of-type {\n",
       "        vertical-align: middle;\n",
       "    }\n",
       "\n",
       "    .dataframe tbody tr th {\n",
       "        vertical-align: top;\n",
       "    }\n",
       "\n",
       "    .dataframe thead th {\n",
       "        text-align: right;\n",
       "    }\n",
       "</style>\n",
       "<table border=\"1\" class=\"dataframe\">\n",
       "  <thead>\n",
       "    <tr style=\"text-align: right;\">\n",
       "      <th></th>\n",
       "      <th>0</th>\n",
       "      <th>1</th>\n",
       "      <th>2</th>\n",
       "      <th>3</th>\n",
       "      <th>4</th>\n",
       "      <th>5</th>\n",
       "      <th>6</th>\n",
       "      <th>7</th>\n",
       "      <th>8</th>\n",
       "      <th>9</th>\n",
       "      <th>10</th>\n",
       "      <th>11</th>\n",
       "      <th>y</th>\n",
       "      <th>weight</th>\n",
       "    </tr>\n",
       "  </thead>\n",
       "  <tbody>\n",
       "    <tr>\n",
       "      <th>1858</th>\n",
       "      <td>-2.093022</td>\n",
       "      <td>-1.335816</td>\n",
       "      <td>-0.689366</td>\n",
       "      <td>0.189724</td>\n",
       "      <td>0.451269</td>\n",
       "      <td>-0.421503</td>\n",
       "      <td>2.540463</td>\n",
       "      <td>3.476093</td>\n",
       "      <td>0.701723</td>\n",
       "      <td>1.063066</td>\n",
       "      <td>1.647639</td>\n",
       "      <td>1.328214</td>\n",
       "      <td>0</td>\n",
       "      <td>0.039276</td>\n",
       "    </tr>\n",
       "    <tr>\n",
       "      <th>19843</th>\n",
       "      <td>0.036719</td>\n",
       "      <td>-1.388249</td>\n",
       "      <td>-0.012698</td>\n",
       "      <td>0.421207</td>\n",
       "      <td>1.033483</td>\n",
       "      <td>0.568398</td>\n",
       "      <td>-1.185841</td>\n",
       "      <td>-4.681751</td>\n",
       "      <td>3.031707</td>\n",
       "      <td>-0.592787</td>\n",
       "      <td>-2.378563</td>\n",
       "      <td>-3.327800</td>\n",
       "      <td>0</td>\n",
       "      <td>0.039276</td>\n",
       "    </tr>\n",
       "    <tr>\n",
       "      <th>10123</th>\n",
       "      <td>-0.840337</td>\n",
       "      <td>-0.306798</td>\n",
       "      <td>0.605902</td>\n",
       "      <td>1.824914</td>\n",
       "      <td>-1.345126</td>\n",
       "      <td>-0.571673</td>\n",
       "      <td>1.315350</td>\n",
       "      <td>0.580866</td>\n",
       "      <td>-0.392447</td>\n",
       "      <td>-1.610414</td>\n",
       "      <td>-0.620426</td>\n",
       "      <td>0.760836</td>\n",
       "      <td>0</td>\n",
       "      <td>0.039276</td>\n",
       "    </tr>\n",
       "    <tr>\n",
       "      <th>9419</th>\n",
       "      <td>0.935058</td>\n",
       "      <td>0.236338</td>\n",
       "      <td>0.358571</td>\n",
       "      <td>0.029925</td>\n",
       "      <td>-0.921937</td>\n",
       "      <td>2.307908</td>\n",
       "      <td>0.541702</td>\n",
       "      <td>-1.687529</td>\n",
       "      <td>-1.859234</td>\n",
       "      <td>1.462883</td>\n",
       "      <td>-1.994519</td>\n",
       "      <td>0.069353</td>\n",
       "      <td>0</td>\n",
       "      <td>0.039276</td>\n",
       "    </tr>\n",
       "    <tr>\n",
       "      <th>3561</th>\n",
       "      <td>-1.049473</td>\n",
       "      <td>-0.387204</td>\n",
       "      <td>-2.121353</td>\n",
       "      <td>1.352331</td>\n",
       "      <td>-1.232544</td>\n",
       "      <td>0.470098</td>\n",
       "      <td>1.007094</td>\n",
       "      <td>-0.409253</td>\n",
       "      <td>1.016515</td>\n",
       "      <td>1.351932</td>\n",
       "      <td>-1.703022</td>\n",
       "      <td>0.366518</td>\n",
       "      <td>0</td>\n",
       "      <td>0.039276</td>\n",
       "    </tr>\n",
       "  </tbody>\n",
       "</table>\n",
       "</div>"
      ],
      "text/plain": [
       "              0         1         2         3         4         5         6  \\\n",
       "1858  -2.093022 -1.335816 -0.689366  0.189724  0.451269 -0.421503  2.540463   \n",
       "19843  0.036719 -1.388249 -0.012698  0.421207  1.033483  0.568398 -1.185841   \n",
       "10123 -0.840337 -0.306798  0.605902  1.824914 -1.345126 -0.571673  1.315350   \n",
       "9419   0.935058  0.236338  0.358571  0.029925 -0.921937  2.307908  0.541702   \n",
       "3561  -1.049473 -0.387204 -2.121353  1.352331 -1.232544  0.470098  1.007094   \n",
       "\n",
       "              7         8         9        10        11  y    weight  \n",
       "1858   3.476093  0.701723  1.063066  1.647639  1.328214  0  0.039276  \n",
       "19843 -4.681751  3.031707 -0.592787 -2.378563 -3.327800  0  0.039276  \n",
       "10123  0.580866 -0.392447 -1.610414 -0.620426  0.760836  0  0.039276  \n",
       "9419  -1.687529 -1.859234  1.462883 -1.994519  0.069353  0  0.039276  \n",
       "3561  -0.409253  1.016515  1.351932 -1.703022  0.366518  0  0.039276  "
      ]
     },
     "execution_count": 20,
     "metadata": {},
     "output_type": "execute_result"
    }
   ],
   "source": [
    "df_train['weight'] = [weights[instance] for instance in df_train.y]\n",
    "df_train.head()"
   ]
  },
  {
   "cell_type": "code",
   "execution_count": 21,
   "metadata": {},
   "outputs": [],
   "source": [
    "X_train, X_valid, y_train, y_valid = sk.model_selection.train_test_split(df_train.drop('y', axis=1),\n",
    "                                                                         df_train.y,\n",
    "                                                                         test_size=0.3,\n",
    "                                                                         random_state=6)"
   ]
  },
  {
   "cell_type": "code",
   "execution_count": 22,
   "metadata": {},
   "outputs": [],
   "source": [
    "dvaltrain = xgb.DMatrix(np.asmatrix(X_train.drop('weight', axis=1).values),\n",
    "                        y_train,\n",
    "                        weight=X_train.weight.values)\n",
    "dvalid = xgb.DMatrix(np.asmatrix(X_valid.drop('weight', axis=1)),\n",
    "                     y_valid,\n",
    "                     weight=X_valid.weight.values)\n",
    "\n",
    "dtrain = xgb.DMatrix(df_train.drop(['y', 'weight'], axis=1).values,\n",
    "                     df_train.y.values,\n",
    "                     weight=df_train.weight.values)\n",
    "dtest = xgb.DMatrix(df_test.drop('y', axis=1).values)"
   ]
  },
  {
   "cell_type": "code",
   "execution_count": 23,
   "metadata": {},
   "outputs": [
    {
     "name": "stdout",
     "output_type": "stream",
     "text": [
      "[0]\teval-merror:0.178186\ttrain-merror:0.15669\n",
      "Multiple eval metrics have been passed: 'train-merror' will be used for early stopping.\n",
      "\n",
      "Will train until train-merror hasn't improved in 30 rounds.\n",
      "[1]\teval-merror:0.165815\ttrain-merror:0.14312\n",
      "[2]\teval-merror:0.149414\ttrain-merror:0.134626\n",
      "[3]\teval-merror:0.153035\ttrain-merror:0.127056\n",
      "[4]\teval-merror:0.149572\ttrain-merror:0.118719\n",
      "[5]\teval-merror:0.148465\ttrain-merror:0.112184\n",
      "[6]\teval-merror:0.155661\ttrain-merror:0.110682\n",
      "[7]\teval-merror:0.156321\ttrain-merror:0.106218\n",
      "[8]\teval-merror:0.152027\ttrain-merror:0.105226\n",
      "[9]\teval-merror:0.160108\ttrain-merror:0.101761\n",
      "[10]\teval-merror:0.161146\ttrain-merror:0.100215\n",
      "[11]\teval-merror:0.163139\ttrain-merror:0.098138\n",
      "[12]\teval-merror:0.159921\ttrain-merror:0.093395\n",
      "[13]\teval-merror:0.161954\ttrain-merror:0.091753\n",
      "[14]\teval-merror:0.168814\ttrain-merror:0.084221\n",
      "[15]\teval-merror:0.15991\ttrain-merror:0.082265\n",
      "[16]\teval-merror:0.161569\ttrain-merror:0.080401\n",
      "[17]\teval-merror:0.165763\ttrain-merror:0.077295\n",
      "[18]\teval-merror:0.168546\ttrain-merror:0.075019\n",
      "[19]\teval-merror:0.168772\ttrain-merror:0.073388\n",
      "[20]\teval-merror:0.170036\ttrain-merror:0.072038\n",
      "[21]\teval-merror:0.164943\ttrain-merror:0.067418\n",
      "[22]\teval-merror:0.166641\ttrain-merror:0.067441\n",
      "[23]\teval-merror:0.169137\ttrain-merror:0.063058\n",
      "[24]\teval-merror:0.1703\ttrain-merror:0.062505\n",
      "[25]\teval-merror:0.172146\ttrain-merror:0.060535\n",
      "[26]\teval-merror:0.172077\ttrain-merror:0.059844\n",
      "[27]\teval-merror:0.169311\ttrain-merror:0.059002\n",
      "[28]\teval-merror:0.170071\ttrain-merror:0.058048\n",
      "[29]\teval-merror:0.168373\ttrain-merror:0.05832\n",
      "[30]\teval-merror:0.171748\ttrain-merror:0.057024\n",
      "[31]\teval-merror:0.17088\ttrain-merror:0.055674\n",
      "[32]\teval-merror:0.172577\ttrain-merror:0.054536\n",
      "[33]\teval-merror:0.175864\ttrain-merror:0.052906\n",
      "[34]\teval-merror:0.177562\ttrain-merror:0.051715\n",
      "[35]\teval-merror:0.179152\ttrain-merror:0.051192\n",
      "[36]\teval-merror:0.178479\ttrain-merror:0.050175\n",
      "[37]\teval-merror:0.178913\ttrain-merror:0.049682\n",
      "[38]\teval-merror:0.183641\ttrain-merror:0.048741\n",
      "[39]\teval-merror:0.185765\ttrain-merror:0.047179\n",
      "[40]\teval-merror:0.185004\ttrain-merror:0.044903\n",
      "[41]\teval-merror:0.1853\ttrain-merror:0.043879\n",
      "[42]\teval-merror:0.187727\ttrain-merror:0.042726\n",
      "[43]\teval-merror:0.182929\ttrain-merror:0.042726\n",
      "[44]\teval-merror:0.188643\ttrain-merror:0.041413\n",
      "[45]\teval-merror:0.193281\ttrain-merror:0.041361\n",
      "[46]\teval-merror:0.190289\ttrain-merror:0.038842\n",
      "[47]\teval-merror:0.190862\ttrain-merror:0.037544\n",
      "[48]\teval-merror:0.189321\ttrain-merror:0.036452\n",
      "[49]\teval-merror:0.187949\ttrain-merror:0.036611\n",
      "[50]\teval-merror:0.188275\ttrain-merror:0.03561\n",
      "[51]\teval-merror:0.191778\ttrain-merror:0.034252\n",
      "[52]\teval-merror:0.191748\ttrain-merror:0.033971\n",
      "[53]\teval-merror:0.192074\ttrain-merror:0.033501\n",
      "[54]\teval-merror:0.192182\ttrain-merror:0.033539\n",
      "[55]\teval-merror:0.185717\ttrain-merror:0.033167\n",
      "[56]\teval-merror:0.185144\ttrain-merror:0.032735\n",
      "[57]\teval-merror:0.189043\ttrain-merror:0.032265\n",
      "[58]\teval-merror:0.189873\ttrain-merror:0.031711\n",
      "[59]\teval-merror:0.190029\ttrain-merror:0.03118\n",
      "[60]\teval-merror:0.188766\ttrain-merror:0.03093\n",
      "[61]\teval-merror:0.193255\ttrain-merror:0.030414\n",
      "[62]\teval-merror:0.192061\ttrain-merror:0.029974\n",
      "[63]\teval-merror:0.192387\ttrain-merror:0.028935\n",
      "[64]\teval-merror:0.194154\ttrain-merror:0.029011\n",
      "[65]\teval-merror:0.196039\ttrain-merror:0.028017\n",
      "[66]\teval-merror:0.197628\ttrain-merror:0.028048\n",
      "[67]\teval-merror:0.195635\ttrain-merror:0.027835\n",
      "[68]\teval-merror:0.197125\ttrain-merror:0.027221\n",
      "[69]\teval-merror:0.194094\ttrain-merror:0.027039\n",
      "[70]\teval-merror:0.194094\ttrain-merror:0.025977\n",
      "[71]\teval-merror:0.195132\ttrain-merror:0.025438\n",
      "[72]\teval-merror:0.195024\ttrain-merror:0.025226\n",
      "[73]\teval-merror:0.195753\ttrain-merror:0.024893\n",
      "[74]\teval-merror:0.19518\ttrain-merror:0.02377\n",
      "[75]\teval-merror:0.195753\ttrain-merror:0.023588\n",
      "[76]\teval-merror:0.194507\ttrain-merror:0.023376\n",
      "[77]\teval-merror:0.196569\ttrain-merror:0.022883\n",
      "[78]\teval-merror:0.198958\ttrain-merror:0.022488\n",
      "[79]\teval-merror:0.198888\ttrain-merror:0.022306\n",
      "[80]\teval-merror:0.198246\ttrain-merror:0.022276\n",
      "[81]\teval-merror:0.200408\ttrain-merror:0.022306\n",
      "[82]\teval-merror:0.198572\ttrain-merror:0.021957\n",
      "[83]\teval-merror:0.19961\ttrain-merror:0.02145\n",
      "[84]\teval-merror:0.202602\ttrain-merror:0.021813\n",
      "[85]\teval-merror:0.205632\ttrain-merror:0.021571\n",
      "[86]\teval-merror:0.20733\ttrain-merror:0.020979\n",
      "[87]\teval-merror:0.205463\ttrain-merror:0.020456\n",
      "[88]\teval-merror:0.204456\ttrain-merror:0.020221\n",
      "[89]\teval-merror:0.203557\ttrain-merror:0.019599\n",
      "[90]\teval-merror:0.20489\ttrain-merror:0.019417\n",
      "[91]\teval-merror:0.205393\ttrain-merror:0.019387\n",
      "[92]\teval-merror:0.206518\ttrain-merror:0.018841\n",
      "[93]\teval-merror:0.207347\ttrain-merror:0.018659\n",
      "[94]\teval-merror:0.210378\ttrain-merror:0.018629\n",
      "[95]\teval-merror:0.212402\ttrain-merror:0.018477\n",
      "[96]\teval-merror:0.212302\ttrain-merror:0.018295\n",
      "[97]\teval-merror:0.214898\ttrain-merror:0.018265\n",
      "[98]\teval-merror:0.211295\ttrain-merror:0.017901\n",
      "[99]\teval-merror:0.214829\ttrain-merror:0.017658\n",
      "[100]\teval-merror:0.213891\ttrain-merror:0.017567\n",
      "[101]\teval-merror:0.216783\ttrain-merror:0.017264\n",
      "[102]\teval-merror:0.215085\ttrain-merror:0.01687\n",
      "[103]\teval-merror:0.21545\ttrain-merror:0.016718\n",
      "[104]\teval-merror:0.21848\ttrain-merror:0.016589\n",
      "[105]\teval-merror:0.217651\ttrain-merror:0.01671\n",
      "[106]\teval-merror:0.218706\ttrain-merror:0.016346\n",
      "[107]\teval-merror:0.222862\ttrain-merror:0.016286\n",
      "[108]\teval-merror:0.220838\ttrain-merror:0.016043\n",
      "[109]\teval-merror:0.22366\ttrain-merror:0.01574\n",
      "[110]\teval-merror:0.22828\ttrain-merror:0.015679\n",
      "[111]\teval-merror:0.226552\ttrain-merror:0.015497\n",
      "[112]\teval-merror:0.228319\ttrain-merror:0.015437\n",
      "[113]\teval-merror:0.230638\ttrain-merror:0.015194\n",
      "[114]\teval-merror:0.226878\ttrain-merror:0.015103\n",
      "[115]\teval-merror:0.22584\ttrain-merror:0.014921\n",
      "[116]\teval-merror:0.228229\ttrain-merror:0.014527\n",
      "[117]\teval-merror:0.228506\ttrain-merror:0.014405\n",
      "[118]\teval-merror:0.227499\ttrain-merror:0.014375\n",
      "[119]\teval-merror:0.226275\ttrain-merror:0.014223\n",
      "[120]\teval-merror:0.226344\ttrain-merror:0.014011\n",
      "[121]\teval-merror:0.22584\ttrain-merror:0.01389\n",
      "[122]\teval-merror:0.227299\ttrain-merror:0.01392\n",
      "[123]\teval-merror:0.224772\ttrain-merror:0.013647\n",
      "[124]\teval-merror:0.223973\ttrain-merror:0.013465\n",
      "[125]\teval-merror:0.2265\ttrain-merror:0.013253\n",
      "[126]\teval-merror:0.227369\ttrain-merror:0.013223\n",
      "[127]\teval-merror:0.226796\ttrain-merror:0.013132\n",
      "[128]\teval-merror:0.225532\ttrain-merror:0.012889\n",
      "[129]\teval-merror:0.224456\ttrain-merror:0.012707\n",
      "[130]\teval-merror:0.229115\ttrain-merror:0.012404\n",
      "[131]\teval-merror:0.229983\ttrain-merror:0.012434\n",
      "[132]\teval-merror:0.229115\ttrain-merror:0.012404\n",
      "[133]\teval-merror:0.23102\ttrain-merror:0.012283\n",
      "[134]\teval-merror:0.229983\ttrain-merror:0.012252\n",
      "[135]\teval-merror:0.22865\ttrain-merror:0.011888\n",
      "[136]\teval-merror:0.231038\ttrain-merror:0.011615\n",
      "[137]\teval-merror:0.231246\ttrain-merror:0.011464\n",
      "[138]\teval-merror:0.229774\ttrain-merror:0.011312\n",
      "[139]\teval-merror:0.232024\ttrain-merror:0.01116\n",
      "[140]\teval-merror:0.231333\ttrain-merror:0.010948\n",
      "[141]\teval-merror:0.233722\ttrain-merror:0.010796\n",
      "[142]\teval-merror:0.232784\ttrain-merror:0.010584\n",
      "[143]\teval-merror:0.232419\ttrain-merror:0.010372\n",
      "[144]\teval-merror:0.235745\ttrain-merror:0.01022\n",
      "[145]\teval-merror:0.240335\ttrain-merror:0.010129\n",
      "[146]\teval-merror:0.238016\ttrain-merror:0.009947\n",
      "[147]\teval-merror:0.239071\ttrain-merror:0.009856\n",
      "[148]\teval-merror:0.236336\ttrain-merror:0.009856\n",
      "[149]\teval-merror:0.237964\ttrain-merror:0.009674\n",
      "[150]\teval-merror:0.239002\ttrain-merror:0.009553\n",
      "[151]\teval-merror:0.23367\ttrain-merror:0.009523\n",
      "[152]\teval-merror:0.235072\ttrain-merror:0.009128\n",
      "[153]\teval-merror:0.238211\ttrain-merror:0.009189\n",
      "[154]\teval-merror:0.239336\ttrain-merror:0.009037\n",
      "[155]\teval-merror:0.237707\ttrain-merror:0.008461\n",
      "[156]\teval-merror:0.239197\ttrain-merror:0.008522\n",
      "[157]\teval-merror:0.238329\ttrain-merror:0.008401\n",
      "[158]\teval-merror:0.238329\ttrain-merror:0.008219\n",
      "[159]\teval-merror:0.237134\ttrain-merror:0.008037\n",
      "[160]\teval-merror:0.238242\ttrain-merror:0.007976\n",
      "[161]\teval-merror:0.240738\ttrain-merror:0.007582\n",
      "[162]\teval-merror:0.239436\ttrain-merror:0.007612\n",
      "[163]\teval-merror:0.241893\ttrain-merror:0.00746\n",
      "[164]\teval-merror:0.241685\ttrain-merror:0.00737\n",
      "[165]\teval-merror:0.243244\ttrain-merror:0.007157\n",
      "[166]\teval-merror:0.24198\ttrain-merror:0.006975\n",
      "[167]\teval-merror:0.246097\ttrain-merror:0.006884\n"
     ]
    },
    {
     "name": "stdout",
     "output_type": "stream",
     "text": [
      "[168]\teval-merror:0.241734\ttrain-merror:0.006854\n",
      "[169]\teval-merror:0.245524\ttrain-merror:0.006793\n",
      "[170]\teval-merror:0.243935\ttrain-merror:0.006672\n",
      "[171]\teval-merror:0.244834\ttrain-merror:0.006611\n",
      "[172]\teval-merror:0.245337\ttrain-merror:0.006551\n",
      "[173]\teval-merror:0.243639\ttrain-merror:0.006278\n",
      "[174]\teval-merror:0.248694\ttrain-merror:0.006096\n",
      "[175]\teval-merror:0.248763\ttrain-merror:0.005914\n",
      "[176]\teval-merror:0.248694\ttrain-merror:0.005823\n",
      "[177]\teval-merror:0.250717\ttrain-merror:0.005974\n",
      "[178]\teval-merror:0.249454\ttrain-merror:0.005944\n",
      "[179]\teval-merror:0.249454\ttrain-merror:0.005823\n",
      "[180]\teval-merror:0.249857\ttrain-merror:0.005641\n",
      "[181]\teval-merror:0.252849\ttrain-merror:0.00555\n",
      "[182]\teval-merror:0.251516\ttrain-merror:0.005459\n",
      "[183]\teval-merror:0.252454\ttrain-merror:0.005338\n",
      "[184]\teval-merror:0.251811\ttrain-merror:0.005307\n",
      "[185]\teval-merror:0.255671\ttrain-merror:0.005186\n",
      "[186]\teval-merror:0.255098\ttrain-merror:0.005156\n",
      "[187]\teval-merror:0.256105\ttrain-merror:0.005034\n",
      "[188]\teval-merror:0.253005\ttrain-merror:0.004974\n",
      "[189]\teval-merror:0.252245\ttrain-merror:0.004913\n",
      "[190]\teval-merror:0.253478\ttrain-merror:0.004792\n",
      "[191]\teval-merror:0.255137\ttrain-merror:0.004731\n",
      "[192]\teval-merror:0.255137\ttrain-merror:0.004701\n",
      "[193]\teval-merror:0.250378\ttrain-merror:0.004488\n",
      "[194]\teval-merror:0.252905\ttrain-merror:0.004397\n",
      "[195]\teval-merror:0.255866\ttrain-merror:0.004246\n",
      "[196]\teval-merror:0.255176\ttrain-merror:0.004034\n",
      "[197]\teval-merror:0.25637\ttrain-merror:0.003943\n",
      "[198]\teval-merror:0.258363\ttrain-merror:0.003852\n",
      "[199]\teval-merror:0.256596\ttrain-merror:0.004064\n",
      "[200]\teval-merror:0.259123\ttrain-merror:0.003882\n",
      "[201]\teval-merror:0.257425\ttrain-merror:0.003609\n",
      "[202]\teval-merror:0.258758\ttrain-merror:0.003639\n",
      "[203]\teval-merror:0.257929\ttrain-merror:0.003518\n",
      "[204]\teval-merror:0.256596\ttrain-merror:0.003306\n",
      "[205]\teval-merror:0.260022\ttrain-merror:0.003275\n",
      "[206]\teval-merror:0.257061\ttrain-merror:0.003245\n",
      "[207]\teval-merror:0.258324\ttrain-merror:0.003184\n",
      "[208]\teval-merror:0.258029\ttrain-merror:0.003184\n",
      "[209]\teval-merror:0.258324\ttrain-merror:0.002881\n",
      "[210]\teval-merror:0.259192\ttrain-merror:0.00282\n",
      "[211]\teval-merror:0.26082\ttrain-merror:0.002851\n",
      "[212]\teval-merror:0.259657\ttrain-merror:0.00279\n",
      "[213]\teval-merror:0.257821\ttrain-merror:0.00276\n",
      "[214]\teval-merror:0.261542\ttrain-merror:0.002729\n",
      "[215]\teval-merror:0.262944\ttrain-merror:0.002517\n",
      "[216]\teval-merror:0.262757\ttrain-merror:0.002335\n",
      "[217]\teval-merror:0.263743\ttrain-merror:0.002275\n",
      "[218]\teval-merror:0.262775\ttrain-merror:0.002184\n",
      "[219]\teval-merror:0.262271\ttrain-merror:0.002184\n",
      "[220]\teval-merror:0.261698\ttrain-merror:0.002305\n",
      "[221]\teval-merror:0.26476\ttrain-merror:0.002305\n",
      "[222]\teval-merror:0.269418\ttrain-merror:0.002153\n",
      "[223]\teval-merror:0.267947\ttrain-merror:0.001911\n",
      "[224]\teval-merror:0.266891\ttrain-merror:0.001971\n",
      "[225]\teval-merror:0.267621\ttrain-merror:0.00182\n",
      "[226]\teval-merror:0.265024\ttrain-merror:0.001789\n",
      "[227]\teval-merror:0.267295\ttrain-merror:0.001698\n",
      "[228]\teval-merror:0.265597\ttrain-merror:0.001668\n",
      "[229]\teval-merror:0.269388\ttrain-merror:0.001638\n",
      "[230]\teval-merror:0.268954\ttrain-merror:0.001638\n",
      "[231]\teval-merror:0.264659\ttrain-merror:0.001638\n",
      "[232]\teval-merror:0.270287\ttrain-merror:0.001577\n",
      "[233]\teval-merror:0.273682\ttrain-merror:0.001607\n",
      "[234]\teval-merror:0.273782\ttrain-merror:0.001516\n",
      "[235]\teval-merror:0.27548\ttrain-merror:0.001547\n",
      "[236]\teval-merror:0.274147\ttrain-merror:0.001486\n",
      "[237]\teval-merror:0.274581\ttrain-merror:0.001425\n",
      "[238]\teval-merror:0.274581\ttrain-merror:0.001425\n",
      "[239]\teval-merror:0.274511\ttrain-merror:0.001304\n",
      "[240]\teval-merror:0.272952\ttrain-merror:0.001243\n",
      "[241]\teval-merror:0.27541\ttrain-merror:0.001213\n",
      "[242]\teval-merror:0.275775\ttrain-merror:0.001092\n",
      "[243]\teval-merror:0.273248\ttrain-merror:0.001061\n",
      "[244]\teval-merror:0.272054\ttrain-merror:0.001061\n",
      "[245]\teval-merror:0.275015\ttrain-merror:0.001092\n",
      "[246]\teval-merror:0.274945\ttrain-merror:0.001001\n",
      "[247]\teval-merror:0.272349\ttrain-merror:0.001031\n",
      "[248]\teval-merror:0.27079\ttrain-merror:0.001001\n",
      "[249]\teval-merror:0.269023\ttrain-merror:0.00097\n",
      "[250]\teval-merror:0.272696\ttrain-merror:0.00094\n",
      "[251]\teval-merror:0.272488\ttrain-merror:0.000879\n",
      "[252]\teval-merror:0.268697\ttrain-merror:0.000849\n",
      "[253]\teval-merror:0.268489\ttrain-merror:0.000879\n",
      "[254]\teval-merror:0.272713\ttrain-merror:0.000849\n",
      "[255]\teval-merror:0.271242\ttrain-merror:0.000758\n",
      "[256]\teval-merror:0.271884\ttrain-merror:0.000758\n",
      "[257]\teval-merror:0.276661\ttrain-merror:0.000728\n",
      "[258]\teval-merror:0.274668\ttrain-merror:0.000728\n",
      "[259]\teval-merror:0.274203\ttrain-merror:0.000728\n",
      "[260]\teval-merror:0.279188\ttrain-merror:0.000728\n",
      "[261]\teval-merror:0.281507\ttrain-merror:0.000576\n",
      "[262]\teval-merror:0.281576\ttrain-merror:0.000546\n",
      "[263]\teval-merror:0.280312\ttrain-merror:0.000546\n",
      "[264]\teval-merror:0.282978\ttrain-merror:0.000546\n",
      "[265]\teval-merror:0.285801\ttrain-merror:0.000546\n",
      "[266]\teval-merror:0.285367\ttrain-merror:0.000516\n",
      "[267]\teval-merror:0.287064\ttrain-merror:0.000485\n",
      "[268]\teval-merror:0.284242\ttrain-merror:0.000485\n",
      "[269]\teval-merror:0.280343\ttrain-merror:0.000516\n",
      "[270]\teval-merror:0.283166\ttrain-merror:0.000425\n",
      "[271]\teval-merror:0.282644\ttrain-merror:0.000394\n",
      "[272]\teval-merror:0.284568\ttrain-merror:0.000364\n",
      "[273]\teval-merror:0.285071\ttrain-merror:0.000364\n",
      "[274]\teval-merror:0.284933\ttrain-merror:0.000303\n",
      "[275]\teval-merror:0.283374\ttrain-merror:0.000334\n",
      "[276]\teval-merror:0.284273\ttrain-merror:0.000243\n",
      "[277]\teval-merror:0.284776\ttrain-merror:0.000273\n",
      "[278]\teval-merror:0.283009\ttrain-merror:0.000243\n",
      "[279]\teval-merror:0.285436\ttrain-merror:0.000182\n",
      "[280]\teval-merror:0.282405\ttrain-merror:0.000212\n",
      "[281]\teval-merror:0.283669\ttrain-merror:0.000243\n",
      "[282]\teval-merror:0.284034\ttrain-merror:0.000243\n",
      "[283]\teval-merror:0.283412\ttrain-merror:0.000182\n",
      "[284]\teval-merror:0.282909\ttrain-merror:0.000152\n",
      "[285]\teval-merror:0.282909\ttrain-merror:0.000121\n",
      "[286]\teval-merror:0.284203\ttrain-merror:0.000121\n",
      "[287]\teval-merror:0.282506\ttrain-merror:0.000121\n",
      "[288]\teval-merror:0.285932\ttrain-merror:9.1e-05\n",
      "[289]\teval-merror:0.284529\ttrain-merror:9.1e-05\n",
      "[290]\teval-merror:0.284668\ttrain-merror:6.1e-05\n",
      "[291]\teval-merror:0.283335\ttrain-merror:6.1e-05\n",
      "[292]\teval-merror:0.28221\ttrain-merror:6.1e-05\n",
      "[293]\teval-merror:0.279979\ttrain-merror:6.1e-05\n",
      "[294]\teval-merror:0.282575\ttrain-merror:6.1e-05\n",
      "[295]\teval-merror:0.284498\ttrain-merror:6.1e-05\n",
      "[296]\teval-merror:0.282801\ttrain-merror:6.1e-05\n",
      "[297]\teval-merror:0.287234\ttrain-merror:6.1e-05\n",
      "[298]\teval-merror:0.286265\ttrain-merror:9.1e-05\n",
      "[299]\teval-merror:0.285033\ttrain-merror:3e-05\n",
      "[300]\teval-merror:0.285033\ttrain-merror:6.1e-05\n",
      "[301]\teval-merror:0.286227\ttrain-merror:6.1e-05\n",
      "[302]\teval-merror:0.286435\ttrain-merror:6.1e-05\n",
      "[303]\teval-merror:0.286504\ttrain-merror:6.1e-05\n",
      "[304]\teval-merror:0.287629\ttrain-merror:3e-05\n",
      "[305]\teval-merror:0.285862\ttrain-merror:3e-05\n",
      "[306]\teval-merror:0.288597\ttrain-merror:3e-05\n",
      "[307]\teval-merror:0.286366\ttrain-merror:3e-05\n",
      "[308]\teval-merror:0.286366\ttrain-merror:3e-05\n",
      "[309]\teval-merror:0.286296\ttrain-merror:3e-05\n",
      "[310]\teval-merror:0.284599\ttrain-merror:3e-05\n",
      "[311]\teval-merror:0.286987\ttrain-merror:3e-05\n",
      "[312]\teval-merror:0.286553\ttrain-merror:3e-05\n",
      "[313]\teval-merror:0.284963\ttrain-merror:3e-05\n",
      "[314]\teval-merror:0.286157\ttrain-merror:3e-05\n",
      "[315]\teval-merror:0.283235\ttrain-merror:3e-05\n",
      "[316]\teval-merror:0.283196\ttrain-merror:3e-05\n",
      "[317]\teval-merror:0.28446\ttrain-merror:3e-05\n",
      "[318]\teval-merror:0.2837\ttrain-merror:3e-05\n",
      "[319]\teval-merror:0.286592\ttrain-merror:3e-05\n",
      "[320]\teval-merror:0.284894\ttrain-merror:3e-05\n",
      "[321]\teval-merror:0.285654\ttrain-merror:3e-05\n",
      "[322]\teval-merror:0.282259\ttrain-merror:3e-05\n",
      "[323]\teval-merror:0.281134\ttrain-merror:3e-05\n",
      "[324]\teval-merror:0.279041\ttrain-merror:3e-05\n",
      "[325]\teval-merror:0.2807\ttrain-merror:0\n",
      "[326]\teval-merror:0.279732\ttrain-merror:3e-05\n",
      "[327]\teval-merror:0.281065\ttrain-merror:0\n",
      "[328]\teval-merror:0.282662\ttrain-merror:0\n",
      "[329]\teval-merror:0.280669\ttrain-merror:0\n",
      "[330]\teval-merror:0.282328\ttrain-merror:0\n",
      "[331]\teval-merror:0.282693\ttrain-merror:0\n",
      "[332]\teval-merror:0.282832\ttrain-merror:0\n",
      "[333]\teval-merror:0.281933\ttrain-merror:0\n",
      "[334]\teval-merror:0.28439\ttrain-merror:0\n",
      "[335]\teval-merror:0.286019\ttrain-merror:0\n",
      "[336]\teval-merror:0.284794\ttrain-merror:0\n",
      "[337]\teval-merror:0.284273\ttrain-merror:0\n",
      "[338]\teval-merror:0.286592\ttrain-merror:0\n",
      "[339]\teval-merror:0.285328\ttrain-merror:0\n"
     ]
    },
    {
     "name": "stdout",
     "output_type": "stream",
     "text": [
      "[340]\teval-merror:0.287786\ttrain-merror:0\n",
      "[341]\teval-merror:0.286918\ttrain-merror:0\n",
      "[342]\teval-merror:0.287786\ttrain-merror:0\n",
      "[343]\teval-merror:0.289049\ttrain-merror:0\n",
      "[344]\teval-merror:0.289483\ttrain-merror:0\n",
      "[345]\teval-merror:0.290382\ttrain-merror:0\n",
      "[346]\teval-merror:0.28822\ttrain-merror:0\n",
      "[347]\teval-merror:0.289483\ttrain-merror:0\n",
      "[348]\teval-merror:0.288476\ttrain-merror:0\n",
      "[349]\teval-merror:0.28964\ttrain-merror:0\n",
      "[350]\teval-merror:0.290903\ttrain-merror:0\n",
      "[351]\teval-merror:0.291733\ttrain-merror:0\n",
      "[352]\teval-merror:0.290973\ttrain-merror:0\n",
      "[353]\teval-merror:0.289206\ttrain-merror:0\n",
      "[354]\teval-merror:0.290539\ttrain-merror:0\n",
      "[355]\teval-merror:0.291042\ttrain-merror:0\n",
      "Stopping. Best iteration:\n",
      "[325]\teval-merror:0.2807\ttrain-merror:0\n",
      "\n"
     ]
    }
   ],
   "source": [
    "param = {'max_depth': 4,\n",
    "         'eta': 1,\n",
    "         'silent': 1,\n",
    "         'objective': 'multi:softmax',\n",
    "         'num_class': 3,\n",
    "         'eval_metric': 'merror'}\n",
    "\n",
    "eval_list = [(dvalid, 'eval'), (dvaltrain, 'train')]\n",
    "\n",
    "eval_clf = xgb.train(param, dvaltrain, num_boost_round=1000, evals=eval_list, early_stopping_rounds=30)"
   ]
  },
  {
   "cell_type": "code",
   "execution_count": 24,
   "metadata": {},
   "outputs": [],
   "source": [
    "clf = xgb.train(param, dtrain, num_boost_round=eval_clf.best_iteration)"
   ]
  },
  {
   "cell_type": "code",
   "execution_count": 25,
   "metadata": {},
   "outputs": [],
   "source": [
    "preds = clf.predict(dtest)"
   ]
  },
  {
   "cell_type": "code",
   "execution_count": 26,
   "metadata": {},
   "outputs": [
    {
     "data": {
      "text/plain": [
       "array([[  355,   224,   380],\n",
       "       [  534,  4482,   982],\n",
       "       [ 1949,  1625, 13886]])"
      ]
     },
     "execution_count": 26,
     "metadata": {},
     "output_type": "execute_result"
    }
   ],
   "source": [
    "sk.metrics.confusion_matrix(df_test.y, preds)"
   ]
  },
  {
   "cell_type": "code",
   "execution_count": 27,
   "metadata": {},
   "outputs": [
    {
     "data": {
      "text/plain": [
       "0.7668018184052094"
      ]
     },
     "execution_count": 27,
     "metadata": {},
     "output_type": "execute_result"
    }
   ],
   "source": [
    "sk.metrics.accuracy_score(df_test.y, preds)"
   ]
  },
  {
   "cell_type": "code",
   "execution_count": 28,
   "metadata": {
    "scrolled": true
   },
   "outputs": [
    {
     "name": "stdout",
     "output_type": "stream",
     "text": [
      "{0: 0.03927591432198878, 1: 0.2456485235696441, 2: 0.7150755621083671}\n",
      "{0: 0.11623049514682393, 1: 0.25928656264078304, 2: 0.624482942212393}\n"
     ]
    },
    {
     "data": {
      "image/png": "[encoded data removed]",
      "text/plain": [
       "<Figure size 432x288 with 1 Axes>"
      ]
     },
     "metadata": {},
     "output_type": "display_data"
    }
   ],
   "source": [
    "print(weights)\n",
    "print({i: (preds == i).mean() for i in range(3)})\n",
    "plt.hist(preds);"
   ]
  },
  {
   "cell_type": "markdown",
   "metadata": {},
   "source": [
    "#### 3rd model with iterative approach to get weights"
   ]
  },
  {
   "cell_type": "code",
   "execution_count": 65,
   "metadata": {
    "scrolled": true
   },
   "outputs": [
    {
     "ename": "KeyError",
     "evalue": "\"['weight'] not found in axis\"",
     "output_type": "error",
     "traceback": [
      "\u001b[0;31m---------------------------------------------------------------------------\u001b[0m",
      "\u001b[0;31mKeyError\u001b[0m                                  Traceback (most recent call last)",
      "\u001b[0;32m<ipython-input-65-5d5b3dbfd5e0>\u001b[0m in \u001b[0;36m<module>\u001b[0;34m()\u001b[0m\n\u001b[0;32m----> 1\u001b[0;31m \u001b[0mdf_train\u001b[0m\u001b[0;34m.\u001b[0m\u001b[0mdrop\u001b[0m\u001b[0;34m(\u001b[0m\u001b[0;34m'weight'\u001b[0m\u001b[0;34m,\u001b[0m \u001b[0maxis\u001b[0m\u001b[0;34m=\u001b[0m\u001b[0;36m1\u001b[0m\u001b[0;34m,\u001b[0m \u001b[0minplace\u001b[0m\u001b[0;34m=\u001b[0m\u001b[0;32mTrue\u001b[0m\u001b[0;34m)\u001b[0m\u001b[0;34m\u001b[0m\u001b[0;34m\u001b[0m\u001b[0m\n\u001b[0m",
      "\u001b[0;32m/anaconda3/envs/conda_py36/lib/python3.6/site-packages/pandas/core/frame.py\u001b[0m in \u001b[0;36mdrop\u001b[0;34m(self, labels, axis, index, columns, level, inplace, errors)\u001b[0m\n\u001b[1;32m   3695\u001b[0m                                            \u001b[0mindex\u001b[0m\u001b[0;34m=\u001b[0m\u001b[0mindex\u001b[0m\u001b[0;34m,\u001b[0m \u001b[0mcolumns\u001b[0m\u001b[0;34m=\u001b[0m\u001b[0mcolumns\u001b[0m\u001b[0;34m,\u001b[0m\u001b[0;34m\u001b[0m\u001b[0;34m\u001b[0m\u001b[0m\n\u001b[1;32m   3696\u001b[0m                                            \u001b[0mlevel\u001b[0m\u001b[0;34m=\u001b[0m\u001b[0mlevel\u001b[0m\u001b[0;34m,\u001b[0m \u001b[0minplace\u001b[0m\u001b[0;34m=\u001b[0m\u001b[0minplace\u001b[0m\u001b[0;34m,\u001b[0m\u001b[0;34m\u001b[0m\u001b[0;34m\u001b[0m\u001b[0m\n\u001b[0;32m-> 3697\u001b[0;31m                                            errors=errors)\n\u001b[0m\u001b[1;32m   3698\u001b[0m \u001b[0;34m\u001b[0m\u001b[0m\n\u001b[1;32m   3699\u001b[0m     @rewrite_axis_style_signature('mapper', [('copy', True),\n",
      "\u001b[0;32m/anaconda3/envs/conda_py36/lib/python3.6/site-packages/pandas/core/generic.py\u001b[0m in \u001b[0;36mdrop\u001b[0;34m(self, labels, axis, index, columns, level, inplace, errors)\u001b[0m\n\u001b[1;32m   3109\u001b[0m         \u001b[0;32mfor\u001b[0m \u001b[0maxis\u001b[0m\u001b[0;34m,\u001b[0m \u001b[0mlabels\u001b[0m \u001b[0;32min\u001b[0m \u001b[0maxes\u001b[0m\u001b[0;34m.\u001b[0m\u001b[0mitems\u001b[0m\u001b[0;34m(\u001b[0m\u001b[0;34m)\u001b[0m\u001b[0;34m:\u001b[0m\u001b[0;34m\u001b[0m\u001b[0;34m\u001b[0m\u001b[0m\n\u001b[1;32m   3110\u001b[0m             \u001b[0;32mif\u001b[0m \u001b[0mlabels\u001b[0m \u001b[0;32mis\u001b[0m \u001b[0;32mnot\u001b[0m \u001b[0;32mNone\u001b[0m\u001b[0;34m:\u001b[0m\u001b[0;34m\u001b[0m\u001b[0;34m\u001b[0m\u001b[0m\n\u001b[0;32m-> 3111\u001b[0;31m                 \u001b[0mobj\u001b[0m \u001b[0;34m=\u001b[0m \u001b[0mobj\u001b[0m\u001b[0;34m.\u001b[0m\u001b[0m_drop_axis\u001b[0m\u001b[0;34m(\u001b[0m\u001b[0mlabels\u001b[0m\u001b[0;34m,\u001b[0m \u001b[0maxis\u001b[0m\u001b[0;34m,\u001b[0m \u001b[0mlevel\u001b[0m\u001b[0;34m=\u001b[0m\u001b[0mlevel\u001b[0m\u001b[0;34m,\u001b[0m \u001b[0merrors\u001b[0m\u001b[0;34m=\u001b[0m\u001b[0merrors\u001b[0m\u001b[0;34m)\u001b[0m\u001b[0;34m\u001b[0m\u001b[0;34m\u001b[0m\u001b[0m\n\u001b[0m\u001b[1;32m   3112\u001b[0m \u001b[0;34m\u001b[0m\u001b[0m\n\u001b[1;32m   3113\u001b[0m         \u001b[0;32mif\u001b[0m \u001b[0minplace\u001b[0m\u001b[0;34m:\u001b[0m\u001b[0;34m\u001b[0m\u001b[0;34m\u001b[0m\u001b[0m\n",
      "\u001b[0;32m/anaconda3/envs/conda_py36/lib/python3.6/site-packages/pandas/core/generic.py\u001b[0m in \u001b[0;36m_drop_axis\u001b[0;34m(self, labels, axis, level, errors)\u001b[0m\n\u001b[1;32m   3141\u001b[0m                 \u001b[0mnew_axis\u001b[0m \u001b[0;34m=\u001b[0m \u001b[0maxis\u001b[0m\u001b[0;34m.\u001b[0m\u001b[0mdrop\u001b[0m\u001b[0;34m(\u001b[0m\u001b[0mlabels\u001b[0m\u001b[0;34m,\u001b[0m \u001b[0mlevel\u001b[0m\u001b[0;34m=\u001b[0m\u001b[0mlevel\u001b[0m\u001b[0;34m,\u001b[0m \u001b[0merrors\u001b[0m\u001b[0;34m=\u001b[0m\u001b[0merrors\u001b[0m\u001b[0;34m)\u001b[0m\u001b[0;34m\u001b[0m\u001b[0;34m\u001b[0m\u001b[0m\n\u001b[1;32m   3142\u001b[0m             \u001b[0;32melse\u001b[0m\u001b[0;34m:\u001b[0m\u001b[0;34m\u001b[0m\u001b[0;34m\u001b[0m\u001b[0m\n\u001b[0;32m-> 3143\u001b[0;31m                 \u001b[0mnew_axis\u001b[0m \u001b[0;34m=\u001b[0m \u001b[0maxis\u001b[0m\u001b[0;34m.\u001b[0m\u001b[0mdrop\u001b[0m\u001b[0;34m(\u001b[0m\u001b[0mlabels\u001b[0m\u001b[0;34m,\u001b[0m \u001b[0merrors\u001b[0m\u001b[0;34m=\u001b[0m\u001b[0merrors\u001b[0m\u001b[0;34m)\u001b[0m\u001b[0;34m\u001b[0m\u001b[0;34m\u001b[0m\u001b[0m\n\u001b[0m\u001b[1;32m   3144\u001b[0m             \u001b[0mresult\u001b[0m \u001b[0;34m=\u001b[0m \u001b[0mself\u001b[0m\u001b[0;34m.\u001b[0m\u001b[0mreindex\u001b[0m\u001b[0;34m(\u001b[0m\u001b[0;34m**\u001b[0m\u001b[0;34m{\u001b[0m\u001b[0maxis_name\u001b[0m\u001b[0;34m:\u001b[0m \u001b[0mnew_axis\u001b[0m\u001b[0;34m}\u001b[0m\u001b[0;34m)\u001b[0m\u001b[0;34m\u001b[0m\u001b[0;34m\u001b[0m\u001b[0m\n\u001b[1;32m   3145\u001b[0m \u001b[0;34m\u001b[0m\u001b[0m\n",
      "\u001b[0;32m/anaconda3/envs/conda_py36/lib/python3.6/site-packages/pandas/core/indexes/base.py\u001b[0m in \u001b[0;36mdrop\u001b[0;34m(self, labels, errors)\u001b[0m\n\u001b[1;32m   4402\u001b[0m             \u001b[0;32mif\u001b[0m \u001b[0merrors\u001b[0m \u001b[0;34m!=\u001b[0m \u001b[0;34m'ignore'\u001b[0m\u001b[0;34m:\u001b[0m\u001b[0;34m\u001b[0m\u001b[0;34m\u001b[0m\u001b[0m\n\u001b[1;32m   4403\u001b[0m                 raise KeyError(\n\u001b[0;32m-> 4404\u001b[0;31m                     '{} not found in axis'.format(labels[mask]))\n\u001b[0m\u001b[1;32m   4405\u001b[0m             \u001b[0mindexer\u001b[0m \u001b[0;34m=\u001b[0m \u001b[0mindexer\u001b[0m\u001b[0;34m[\u001b[0m\u001b[0;34m~\u001b[0m\u001b[0mmask\u001b[0m\u001b[0;34m]\u001b[0m\u001b[0;34m\u001b[0m\u001b[0;34m\u001b[0m\u001b[0m\n\u001b[1;32m   4406\u001b[0m         \u001b[0;32mreturn\u001b[0m \u001b[0mself\u001b[0m\u001b[0;34m.\u001b[0m\u001b[0mdelete\u001b[0m\u001b[0;34m(\u001b[0m\u001b[0mindexer\u001b[0m\u001b[0;34m)\u001b[0m\u001b[0;34m\u001b[0m\u001b[0;34m\u001b[0m\u001b[0m\n",
      "\u001b[0;31mKeyError\u001b[0m: \"['weight'] not found in axis\""
     ]
    }
   ],
   "source": [
    "df_train.drop('weight', axis=1, inplace=True)"
   ]
  },
  {
   "cell_type": "code",
   "execution_count": 68,
   "metadata": {},
   "outputs": [
    {
     "name": "stdout",
     "output_type": "stream",
     "text": [
      "score: 0.6550354261375272\n",
      "base weights: {0: 0.2423311627145022, 1: 0.2540033583159274, 2: 0.5036654789695704}\n"
     ]
    },
    {
     "data": {
      "image/png": "[encoded data removed]",
      "text/plain": [
       "<Figure size 432x288 with 1 Axes>"
      ]
     },
     "metadata": {},
     "output_type": "display_data"
    }
   ],
   "source": [
    "X_train, X_valid, y_train, y_valid = sk.model_selection.train_test_split(df_train.iloc[:,:-1].values,\n",
    "                                                                         df_train.y.values,\n",
    "                                                                         test_size=0.3,\n",
    "                                                                         random_state=6)\n",
    "\n",
    "dvaltrain = xgb.DMatrix(X_train, y_train)\n",
    "dvalid = xgb.DMatrix(X_valid, y_valid)\n",
    "\n",
    "dtrain = xgb.DMatrix(np.asmatrix(df_train.iloc[:,:-1].values), df_train.y.values)\n",
    "dtest = xgb.DMatrix(np.asmatrix(df_test.iloc[:,:-1].values))\n",
    "\n",
    "param = {'max_depth': 4,\n",
    "         'eta': 1,\n",
    "         'silent': 1,\n",
    "         'objective': 'multi:softmax',\n",
    "         'num_class': 3,\n",
    "         'eval_metric': 'merror'}\n",
    "\n",
    "eval_list = [(dvalid, 'eval'), (dvaltrain, 'train')]\n",
    "\n",
    "eval_clf = xgb.train(param, dvaltrain, num_boost_round=1000, evals=eval_list, early_stopping_rounds=30, verbose_eval=False)\n",
    "\n",
    "clf = xgb.train(param, dtrain, num_boost_round=eval_clf.best_iteration)\n",
    "\n",
    "preds = clf.predict(dtest)\n",
    "print('score:', sk.metrics.accuracy_score(df_test.y, preds))\n",
    "\n",
    "weights = {i: (preds == i).mean() for i in range(3)}\n",
    "print('base weights:', weights)\n",
    "plt.hist(preds);"
   ]
  },
  {
   "cell_type": "code",
   "execution_count": 69,
   "metadata": {},
   "outputs": [
    {
     "name": "stdout",
     "output_type": "stream",
     "text": [
      "score: 0.7190482041200803\n",
      "base weights: {0: 0.2423311627145022, 1: 0.2540033583159274, 2: 0.5036654789695704}\n",
      "new weights: {0: 0.18032518327394848, 1: 0.2426588032927878, 2: 0.5770160134332637}\n",
      "score: 0.7387475938895032\n",
      "base weights: {0: 0.18032518327394848, 1: 0.2426588032927878, 2: 0.5770160134332637}\n",
      "new weights: {0: 0.15898759061309745, 1: 0.24515706270221566, 2: 0.5958553466846869}\n",
      "score: 0.7371913011426465\n",
      "base weights: {0: 0.15898759061309745, 1: 0.24515706270221566, 2: 0.5958553466846869}\n",
      "new weights: {0: 0.16038006307081132, 1: 0.2425359380759307, 2: 0.597083998853258}\n",
      "score: 0.7439898431420732\n",
      "base weights: {0: 0.16038006307081132, 1: 0.2425359380759307, 2: 0.597083998853258}\n",
      "new weights: {0: 0.14604578777081542, 1: 0.24998976123192856, 2: 0.603964450997256}\n",
      "score: 0.7455051808166442\n",
      "base weights: {0: 0.14604578777081542, 1: 0.24998976123192856, 2: 0.603964450997256}\n",
      "new weights: {0: 0.14440758487938732, 1: 0.25003071630421425, 2: 0.6055616988163984}\n"
     ]
    },
    {
     "data": {
      "image/png": "[encoded data removed]",
      "text/plain": [
       "<Figure size 432x288 with 1 Axes>"
      ]
     },
     "metadata": {},
     "output_type": "display_data"
    }
   ],
   "source": [
    "for _ in range(5):\n",
    "    df_train['weight'] = [weights[instance] for instance in df_train.y]\n",
    "    X_train, X_valid, y_train, y_valid = sk.model_selection.train_test_split(df_train.drop('y', axis=1),\n",
    "                                                                             df_train.y,\n",
    "                                                                             test_size=0.3,\n",
    "                                                                             random_state=6)\n",
    "    dvaltrain = xgb.DMatrix(np.asmatrix(X_train.drop('weight', axis=1).values),\n",
    "                            y_train,\n",
    "                            weight=X_train.weight.values)\n",
    "    dvalid = xgb.DMatrix(np.asmatrix(X_valid.drop('weight', axis=1)),\n",
    "                         y_valid,\n",
    "                         weight=X_valid.weight.values)\n",
    "\n",
    "    dtrain = xgb.DMatrix(df_train.drop(['y', 'weight'], axis=1).values,\n",
    "                         df_train.y.values,\n",
    "                         weight=df_train.weight.values)\n",
    "    dtest = xgb.DMatrix(df_test.drop('y', axis=1).values)\n",
    "\n",
    "    eval_list = [(dvalid, 'eval'), (dvaltrain, 'train')]\n",
    "\n",
    "    eval_clf = xgb.train(param, dvaltrain, num_boost_round=1000, evals=eval_list, early_stopping_rounds=30, verbose_eval=False)\n",
    "\n",
    "    clf = xgb.train(param, dtrain, num_boost_round=eval_clf.best_iteration)\n",
    "\n",
    "    preds = clf.predict(dtest)\n",
    "    print('score:', sk.metrics.accuracy_score(df_test.y, preds))\n",
    "\n",
    "    print('base weights:', weights)\n",
    "    weights = {i: (preds == i).mean() for i in range(3)}\n",
    "    print('new weights:', weights)\n",
    "    plt.hist(preds, alpha=0.7 - _*0.1)\n",
    "    \n",
    "    df_train.drop('weight', axis=1, inplace=True)"
   ]
  },
  {
   "cell_type": "code",
   "execution_count": null,
   "metadata": {},
   "outputs": [],
   "source": []
  }
 ],
 "metadata": {
  "kernelspec": {
   "display_name": "Python [conda env:conda_py36]",
   "language": "python",
   "name": "conda-env-conda_py36-py"
  },
  "language_info": {
   "codemirror_mode": {
    "name": "ipython",
    "version": 3
   },
   "file_extension": ".py",
   "mimetype": "text/x-python",
   "name": "python",
   "nbconvert_exporter": "python",
   "pygments_lexer": "ipython3",
   "version": "3.6.8"
  }
 },
 "nbformat": 4,
 "nbformat_minor": 2
}
